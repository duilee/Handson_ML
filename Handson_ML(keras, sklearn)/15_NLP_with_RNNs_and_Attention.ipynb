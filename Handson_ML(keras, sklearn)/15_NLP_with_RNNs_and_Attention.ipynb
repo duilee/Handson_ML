{
  "nbformat": 4,
  "nbformat_minor": 0,
  "metadata": {
    "colab": {
      "name": "15_NLP_with_RNNs_and Attention.ipynb",
      "provenance": [],
      "collapsed_sections": [
        "nxfx9h7iLnLB",
        "1tqzVDd0PSMe",
        "ApZ5Jw-vnFue",
        "l_g675-Csxu6"
      ]
    },
    "kernelspec": {
      "name": "python3",
      "display_name": "Python 3"
    },
    "widgets": {
      "application/vnd.jupyter.widget-state+json": {
        "9a1ac3b1128044d6812e1b63774ac8fc": {
          "model_module": "@jupyter-widgets/controls",
          "model_name": "HBoxModel",
          "state": {
            "_view_name": "HBoxView",
            "_dom_classes": [],
            "_model_name": "HBoxModel",
            "_view_module": "@jupyter-widgets/controls",
            "_model_module_version": "1.5.0",
            "_view_count": null,
            "_view_module_version": "1.5.0",
            "box_style": "",
            "layout": "IPY_MODEL_8595f29535e147199f750c726b52ecea",
            "_model_module": "@jupyter-widgets/controls",
            "children": [
              "IPY_MODEL_a5624c2fb852471581b6e13d8d7c3b1e",
              "IPY_MODEL_0c71c16d151841a0bc1934956fc92ca0"
            ]
          }
        },
        "8595f29535e147199f750c726b52ecea": {
          "model_module": "@jupyter-widgets/base",
          "model_name": "LayoutModel",
          "state": {
            "_view_name": "LayoutView",
            "grid_template_rows": null,
            "right": null,
            "justify_content": null,
            "_view_module": "@jupyter-widgets/base",
            "overflow": null,
            "_model_module_version": "1.2.0",
            "_view_count": null,
            "flex_flow": null,
            "width": null,
            "min_width": null,
            "border": null,
            "align_items": null,
            "bottom": null,
            "_model_module": "@jupyter-widgets/base",
            "top": null,
            "grid_column": null,
            "overflow_y": null,
            "overflow_x": null,
            "grid_auto_flow": null,
            "grid_area": null,
            "grid_template_columns": null,
            "flex": null,
            "_model_name": "LayoutModel",
            "justify_items": null,
            "grid_row": null,
            "max_height": null,
            "align_content": null,
            "visibility": null,
            "align_self": null,
            "height": null,
            "min_height": null,
            "padding": null,
            "grid_auto_rows": null,
            "grid_gap": null,
            "max_width": null,
            "order": null,
            "_view_module_version": "1.2.0",
            "grid_template_areas": null,
            "object_position": null,
            "object_fit": null,
            "grid_auto_columns": null,
            "margin": null,
            "display": null,
            "left": null
          }
        },
        "a5624c2fb852471581b6e13d8d7c3b1e": {
          "model_module": "@jupyter-widgets/controls",
          "model_name": "FloatProgressModel",
          "state": {
            "_view_name": "ProgressView",
            "style": "IPY_MODEL_8f5047b8b683482f91d186fe958ebea1",
            "_dom_classes": [],
            "description": "Dl Completed...: 100%",
            "_model_name": "FloatProgressModel",
            "bar_style": "success",
            "max": 1,
            "_view_module": "@jupyter-widgets/controls",
            "_model_module_version": "1.5.0",
            "value": 1,
            "_view_count": null,
            "_view_module_version": "1.5.0",
            "orientation": "horizontal",
            "min": 0,
            "description_tooltip": null,
            "_model_module": "@jupyter-widgets/controls",
            "layout": "IPY_MODEL_945f754b5cff468bb802104f6427ef16"
          }
        },
        "0c71c16d151841a0bc1934956fc92ca0": {
          "model_module": "@jupyter-widgets/controls",
          "model_name": "HTMLModel",
          "state": {
            "_view_name": "HTMLView",
            "style": "IPY_MODEL_91adc588a76b45a2b429830e031aa733",
            "_dom_classes": [],
            "description": "",
            "_model_name": "HTMLModel",
            "placeholder": "​",
            "_view_module": "@jupyter-widgets/controls",
            "_model_module_version": "1.5.0",
            "value": " 1/1 [00:02&lt;00:00,  2.53s/ url]",
            "_view_count": null,
            "_view_module_version": "1.5.0",
            "description_tooltip": null,
            "_model_module": "@jupyter-widgets/controls",
            "layout": "IPY_MODEL_421c89660e46412ba51c2b8ce231fbe7"
          }
        },
        "8f5047b8b683482f91d186fe958ebea1": {
          "model_module": "@jupyter-widgets/controls",
          "model_name": "ProgressStyleModel",
          "state": {
            "_view_name": "StyleView",
            "_model_name": "ProgressStyleModel",
            "description_width": "initial",
            "_view_module": "@jupyter-widgets/base",
            "_model_module_version": "1.5.0",
            "_view_count": null,
            "_view_module_version": "1.2.0",
            "bar_color": null,
            "_model_module": "@jupyter-widgets/controls"
          }
        },
        "945f754b5cff468bb802104f6427ef16": {
          "model_module": "@jupyter-widgets/base",
          "model_name": "LayoutModel",
          "state": {
            "_view_name": "LayoutView",
            "grid_template_rows": null,
            "right": null,
            "justify_content": null,
            "_view_module": "@jupyter-widgets/base",
            "overflow": null,
            "_model_module_version": "1.2.0",
            "_view_count": null,
            "flex_flow": null,
            "width": null,
            "min_width": null,
            "border": null,
            "align_items": null,
            "bottom": null,
            "_model_module": "@jupyter-widgets/base",
            "top": null,
            "grid_column": null,
            "overflow_y": null,
            "overflow_x": null,
            "grid_auto_flow": null,
            "grid_area": null,
            "grid_template_columns": null,
            "flex": null,
            "_model_name": "LayoutModel",
            "justify_items": null,
            "grid_row": null,
            "max_height": null,
            "align_content": null,
            "visibility": null,
            "align_self": null,
            "height": null,
            "min_height": null,
            "padding": null,
            "grid_auto_rows": null,
            "grid_gap": null,
            "max_width": null,
            "order": null,
            "_view_module_version": "1.2.0",
            "grid_template_areas": null,
            "object_position": null,
            "object_fit": null,
            "grid_auto_columns": null,
            "margin": null,
            "display": null,
            "left": null
          }
        },
        "91adc588a76b45a2b429830e031aa733": {
          "model_module": "@jupyter-widgets/controls",
          "model_name": "DescriptionStyleModel",
          "state": {
            "_view_name": "StyleView",
            "_model_name": "DescriptionStyleModel",
            "description_width": "",
            "_view_module": "@jupyter-widgets/base",
            "_model_module_version": "1.5.0",
            "_view_count": null,
            "_view_module_version": "1.2.0",
            "_model_module": "@jupyter-widgets/controls"
          }
        },
        "421c89660e46412ba51c2b8ce231fbe7": {
          "model_module": "@jupyter-widgets/base",
          "model_name": "LayoutModel",
          "state": {
            "_view_name": "LayoutView",
            "grid_template_rows": null,
            "right": null,
            "justify_content": null,
            "_view_module": "@jupyter-widgets/base",
            "overflow": null,
            "_model_module_version": "1.2.0",
            "_view_count": null,
            "flex_flow": null,
            "width": null,
            "min_width": null,
            "border": null,
            "align_items": null,
            "bottom": null,
            "_model_module": "@jupyter-widgets/base",
            "top": null,
            "grid_column": null,
            "overflow_y": null,
            "overflow_x": null,
            "grid_auto_flow": null,
            "grid_area": null,
            "grid_template_columns": null,
            "flex": null,
            "_model_name": "LayoutModel",
            "justify_items": null,
            "grid_row": null,
            "max_height": null,
            "align_content": null,
            "visibility": null,
            "align_self": null,
            "height": null,
            "min_height": null,
            "padding": null,
            "grid_auto_rows": null,
            "grid_gap": null,
            "max_width": null,
            "order": null,
            "_view_module_version": "1.2.0",
            "grid_template_areas": null,
            "object_position": null,
            "object_fit": null,
            "grid_auto_columns": null,
            "margin": null,
            "display": null,
            "left": null
          }
        },
        "cff694ed714043bebe1540691662176c": {
          "model_module": "@jupyter-widgets/controls",
          "model_name": "HBoxModel",
          "state": {
            "_view_name": "HBoxView",
            "_dom_classes": [],
            "_model_name": "HBoxModel",
            "_view_module": "@jupyter-widgets/controls",
            "_model_module_version": "1.5.0",
            "_view_count": null,
            "_view_module_version": "1.5.0",
            "box_style": "",
            "layout": "IPY_MODEL_cac1356561d94cd9a01fd7203031607a",
            "_model_module": "@jupyter-widgets/controls",
            "children": [
              "IPY_MODEL_3c98445376be4e9dae682f3488db3b6e",
              "IPY_MODEL_36e971295caf41279517095b25b2d276"
            ]
          }
        },
        "cac1356561d94cd9a01fd7203031607a": {
          "model_module": "@jupyter-widgets/base",
          "model_name": "LayoutModel",
          "state": {
            "_view_name": "LayoutView",
            "grid_template_rows": null,
            "right": null,
            "justify_content": null,
            "_view_module": "@jupyter-widgets/base",
            "overflow": null,
            "_model_module_version": "1.2.0",
            "_view_count": null,
            "flex_flow": null,
            "width": null,
            "min_width": null,
            "border": null,
            "align_items": null,
            "bottom": null,
            "_model_module": "@jupyter-widgets/base",
            "top": null,
            "grid_column": null,
            "overflow_y": null,
            "overflow_x": null,
            "grid_auto_flow": null,
            "grid_area": null,
            "grid_template_columns": null,
            "flex": null,
            "_model_name": "LayoutModel",
            "justify_items": null,
            "grid_row": null,
            "max_height": null,
            "align_content": null,
            "visibility": null,
            "align_self": null,
            "height": null,
            "min_height": null,
            "padding": null,
            "grid_auto_rows": null,
            "grid_gap": null,
            "max_width": null,
            "order": null,
            "_view_module_version": "1.2.0",
            "grid_template_areas": null,
            "object_position": null,
            "object_fit": null,
            "grid_auto_columns": null,
            "margin": null,
            "display": null,
            "left": null
          }
        },
        "3c98445376be4e9dae682f3488db3b6e": {
          "model_module": "@jupyter-widgets/controls",
          "model_name": "FloatProgressModel",
          "state": {
            "_view_name": "ProgressView",
            "style": "IPY_MODEL_97c2be3af6374684894ef6d8894f9839",
            "_dom_classes": [],
            "description": "Dl Size...: 100%",
            "_model_name": "FloatProgressModel",
            "bar_style": "success",
            "max": 1,
            "_view_module": "@jupyter-widgets/controls",
            "_model_module_version": "1.5.0",
            "value": 1,
            "_view_count": null,
            "_view_module_version": "1.5.0",
            "orientation": "horizontal",
            "min": 0,
            "description_tooltip": null,
            "_model_module": "@jupyter-widgets/controls",
            "layout": "IPY_MODEL_6fe4be4a8b6046eb863d6991756a7e2e"
          }
        },
        "36e971295caf41279517095b25b2d276": {
          "model_module": "@jupyter-widgets/controls",
          "model_name": "HTMLModel",
          "state": {
            "_view_name": "HTMLView",
            "style": "IPY_MODEL_20b19e137de44bae8dbd62a9de5aedb6",
            "_dom_classes": [],
            "description": "",
            "_model_name": "HTMLModel",
            "placeholder": "​",
            "_view_module": "@jupyter-widgets/controls",
            "_model_module_version": "1.5.0",
            "value": " 80/80 [00:02&lt;00:00, 32.16 MiB/s]",
            "_view_count": null,
            "_view_module_version": "1.5.0",
            "description_tooltip": null,
            "_model_module": "@jupyter-widgets/controls",
            "layout": "IPY_MODEL_9dfe836ecfde408fba3998fe2a66527c"
          }
        },
        "97c2be3af6374684894ef6d8894f9839": {
          "model_module": "@jupyter-widgets/controls",
          "model_name": "ProgressStyleModel",
          "state": {
            "_view_name": "StyleView",
            "_model_name": "ProgressStyleModel",
            "description_width": "initial",
            "_view_module": "@jupyter-widgets/base",
            "_model_module_version": "1.5.0",
            "_view_count": null,
            "_view_module_version": "1.2.0",
            "bar_color": null,
            "_model_module": "@jupyter-widgets/controls"
          }
        },
        "6fe4be4a8b6046eb863d6991756a7e2e": {
          "model_module": "@jupyter-widgets/base",
          "model_name": "LayoutModel",
          "state": {
            "_view_name": "LayoutView",
            "grid_template_rows": null,
            "right": null,
            "justify_content": null,
            "_view_module": "@jupyter-widgets/base",
            "overflow": null,
            "_model_module_version": "1.2.0",
            "_view_count": null,
            "flex_flow": null,
            "width": null,
            "min_width": null,
            "border": null,
            "align_items": null,
            "bottom": null,
            "_model_module": "@jupyter-widgets/base",
            "top": null,
            "grid_column": null,
            "overflow_y": null,
            "overflow_x": null,
            "grid_auto_flow": null,
            "grid_area": null,
            "grid_template_columns": null,
            "flex": null,
            "_model_name": "LayoutModel",
            "justify_items": null,
            "grid_row": null,
            "max_height": null,
            "align_content": null,
            "visibility": null,
            "align_self": null,
            "height": null,
            "min_height": null,
            "padding": null,
            "grid_auto_rows": null,
            "grid_gap": null,
            "max_width": null,
            "order": null,
            "_view_module_version": "1.2.0",
            "grid_template_areas": null,
            "object_position": null,
            "object_fit": null,
            "grid_auto_columns": null,
            "margin": null,
            "display": null,
            "left": null
          }
        },
        "20b19e137de44bae8dbd62a9de5aedb6": {
          "model_module": "@jupyter-widgets/controls",
          "model_name": "DescriptionStyleModel",
          "state": {
            "_view_name": "StyleView",
            "_model_name": "DescriptionStyleModel",
            "description_width": "",
            "_view_module": "@jupyter-widgets/base",
            "_model_module_version": "1.5.0",
            "_view_count": null,
            "_view_module_version": "1.2.0",
            "_model_module": "@jupyter-widgets/controls"
          }
        },
        "9dfe836ecfde408fba3998fe2a66527c": {
          "model_module": "@jupyter-widgets/base",
          "model_name": "LayoutModel",
          "state": {
            "_view_name": "LayoutView",
            "grid_template_rows": null,
            "right": null,
            "justify_content": null,
            "_view_module": "@jupyter-widgets/base",
            "overflow": null,
            "_model_module_version": "1.2.0",
            "_view_count": null,
            "flex_flow": null,
            "width": null,
            "min_width": null,
            "border": null,
            "align_items": null,
            "bottom": null,
            "_model_module": "@jupyter-widgets/base",
            "top": null,
            "grid_column": null,
            "overflow_y": null,
            "overflow_x": null,
            "grid_auto_flow": null,
            "grid_area": null,
            "grid_template_columns": null,
            "flex": null,
            "_model_name": "LayoutModel",
            "justify_items": null,
            "grid_row": null,
            "max_height": null,
            "align_content": null,
            "visibility": null,
            "align_self": null,
            "height": null,
            "min_height": null,
            "padding": null,
            "grid_auto_rows": null,
            "grid_gap": null,
            "max_width": null,
            "order": null,
            "_view_module_version": "1.2.0",
            "grid_template_areas": null,
            "object_position": null,
            "object_fit": null,
            "grid_auto_columns": null,
            "margin": null,
            "display": null,
            "left": null
          }
        },
        "294ded5d6faa4070b9bd9e167181befa": {
          "model_module": "@jupyter-widgets/controls",
          "model_name": "HBoxModel",
          "state": {
            "_view_name": "HBoxView",
            "_dom_classes": [],
            "_model_name": "HBoxModel",
            "_view_module": "@jupyter-widgets/controls",
            "_model_module_version": "1.5.0",
            "_view_count": null,
            "_view_module_version": "1.5.0",
            "box_style": "",
            "layout": "IPY_MODEL_fdf66ac6bee348978ad782f457c3ea7c",
            "_model_module": "@jupyter-widgets/controls",
            "children": [
              "IPY_MODEL_b40ef2525d6944e6a34430f75b4bf55b",
              "IPY_MODEL_2c47db45104247e9b2273969a004d7d9"
            ]
          }
        },
        "fdf66ac6bee348978ad782f457c3ea7c": {
          "model_module": "@jupyter-widgets/base",
          "model_name": "LayoutModel",
          "state": {
            "_view_name": "LayoutView",
            "grid_template_rows": null,
            "right": null,
            "justify_content": null,
            "_view_module": "@jupyter-widgets/base",
            "overflow": null,
            "_model_module_version": "1.2.0",
            "_view_count": null,
            "flex_flow": null,
            "width": null,
            "min_width": null,
            "border": null,
            "align_items": null,
            "bottom": null,
            "_model_module": "@jupyter-widgets/base",
            "top": null,
            "grid_column": null,
            "overflow_y": null,
            "overflow_x": null,
            "grid_auto_flow": null,
            "grid_area": null,
            "grid_template_columns": null,
            "flex": null,
            "_model_name": "LayoutModel",
            "justify_items": null,
            "grid_row": null,
            "max_height": null,
            "align_content": null,
            "visibility": null,
            "align_self": null,
            "height": null,
            "min_height": null,
            "padding": null,
            "grid_auto_rows": null,
            "grid_gap": null,
            "max_width": null,
            "order": null,
            "_view_module_version": "1.2.0",
            "grid_template_areas": null,
            "object_position": null,
            "object_fit": null,
            "grid_auto_columns": null,
            "margin": null,
            "display": null,
            "left": null
          }
        },
        "b40ef2525d6944e6a34430f75b4bf55b": {
          "model_module": "@jupyter-widgets/controls",
          "model_name": "FloatProgressModel",
          "state": {
            "_view_name": "ProgressView",
            "style": "IPY_MODEL_24037a749d814676b9fd7422bfe9baef",
            "_dom_classes": [],
            "description": "",
            "_model_name": "FloatProgressModel",
            "bar_style": "info",
            "max": 1,
            "_view_module": "@jupyter-widgets/controls",
            "_model_module_version": "1.5.0",
            "value": 1,
            "_view_count": null,
            "_view_module_version": "1.5.0",
            "orientation": "horizontal",
            "min": 0,
            "description_tooltip": null,
            "_model_module": "@jupyter-widgets/controls",
            "layout": "IPY_MODEL_0c536836ab3a4da0bb45b6cf7bbb9e4f"
          }
        },
        "2c47db45104247e9b2273969a004d7d9": {
          "model_module": "@jupyter-widgets/controls",
          "model_name": "HTMLModel",
          "state": {
            "_view_name": "HTMLView",
            "style": "IPY_MODEL_8ce07019446e453aa0559d3d2010a446",
            "_dom_classes": [],
            "description": "",
            "_model_name": "HTMLModel",
            "placeholder": "​",
            "_view_module": "@jupyter-widgets/controls",
            "_model_module_version": "1.5.0",
            "value": " 25000/0 [00:14&lt;00:00, 3189.16 examples/s]",
            "_view_count": null,
            "_view_module_version": "1.5.0",
            "description_tooltip": null,
            "_model_module": "@jupyter-widgets/controls",
            "layout": "IPY_MODEL_19101b15c6e34322813c6300ac7282c3"
          }
        },
        "24037a749d814676b9fd7422bfe9baef": {
          "model_module": "@jupyter-widgets/controls",
          "model_name": "ProgressStyleModel",
          "state": {
            "_view_name": "StyleView",
            "_model_name": "ProgressStyleModel",
            "description_width": "initial",
            "_view_module": "@jupyter-widgets/base",
            "_model_module_version": "1.5.0",
            "_view_count": null,
            "_view_module_version": "1.2.0",
            "bar_color": null,
            "_model_module": "@jupyter-widgets/controls"
          }
        },
        "0c536836ab3a4da0bb45b6cf7bbb9e4f": {
          "model_module": "@jupyter-widgets/base",
          "model_name": "LayoutModel",
          "state": {
            "_view_name": "LayoutView",
            "grid_template_rows": null,
            "right": null,
            "justify_content": null,
            "_view_module": "@jupyter-widgets/base",
            "overflow": null,
            "_model_module_version": "1.2.0",
            "_view_count": null,
            "flex_flow": null,
            "width": null,
            "min_width": null,
            "border": null,
            "align_items": null,
            "bottom": null,
            "_model_module": "@jupyter-widgets/base",
            "top": null,
            "grid_column": null,
            "overflow_y": null,
            "overflow_x": null,
            "grid_auto_flow": null,
            "grid_area": null,
            "grid_template_columns": null,
            "flex": null,
            "_model_name": "LayoutModel",
            "justify_items": null,
            "grid_row": null,
            "max_height": null,
            "align_content": null,
            "visibility": null,
            "align_self": null,
            "height": null,
            "min_height": null,
            "padding": null,
            "grid_auto_rows": null,
            "grid_gap": null,
            "max_width": null,
            "order": null,
            "_view_module_version": "1.2.0",
            "grid_template_areas": null,
            "object_position": null,
            "object_fit": null,
            "grid_auto_columns": null,
            "margin": null,
            "display": null,
            "left": null
          }
        },
        "8ce07019446e453aa0559d3d2010a446": {
          "model_module": "@jupyter-widgets/controls",
          "model_name": "DescriptionStyleModel",
          "state": {
            "_view_name": "StyleView",
            "_model_name": "DescriptionStyleModel",
            "description_width": "",
            "_view_module": "@jupyter-widgets/base",
            "_model_module_version": "1.5.0",
            "_view_count": null,
            "_view_module_version": "1.2.0",
            "_model_module": "@jupyter-widgets/controls"
          }
        },
        "19101b15c6e34322813c6300ac7282c3": {
          "model_module": "@jupyter-widgets/base",
          "model_name": "LayoutModel",
          "state": {
            "_view_name": "LayoutView",
            "grid_template_rows": null,
            "right": null,
            "justify_content": null,
            "_view_module": "@jupyter-widgets/base",
            "overflow": null,
            "_model_module_version": "1.2.0",
            "_view_count": null,
            "flex_flow": null,
            "width": null,
            "min_width": null,
            "border": null,
            "align_items": null,
            "bottom": null,
            "_model_module": "@jupyter-widgets/base",
            "top": null,
            "grid_column": null,
            "overflow_y": null,
            "overflow_x": null,
            "grid_auto_flow": null,
            "grid_area": null,
            "grid_template_columns": null,
            "flex": null,
            "_model_name": "LayoutModel",
            "justify_items": null,
            "grid_row": null,
            "max_height": null,
            "align_content": null,
            "visibility": null,
            "align_self": null,
            "height": null,
            "min_height": null,
            "padding": null,
            "grid_auto_rows": null,
            "grid_gap": null,
            "max_width": null,
            "order": null,
            "_view_module_version": "1.2.0",
            "grid_template_areas": null,
            "object_position": null,
            "object_fit": null,
            "grid_auto_columns": null,
            "margin": null,
            "display": null,
            "left": null
          }
        },
        "cdd37f5d9020451fb620ce228970e46a": {
          "model_module": "@jupyter-widgets/controls",
          "model_name": "HBoxModel",
          "state": {
            "_view_name": "HBoxView",
            "_dom_classes": [],
            "_model_name": "HBoxModel",
            "_view_module": "@jupyter-widgets/controls",
            "_model_module_version": "1.5.0",
            "_view_count": null,
            "_view_module_version": "1.5.0",
            "box_style": "",
            "layout": "IPY_MODEL_0cf6c91c938645968ebf5d1abe51b6d0",
            "_model_module": "@jupyter-widgets/controls",
            "children": [
              "IPY_MODEL_888fb0387ff9408ba9cc55ff48a6ee20",
              "IPY_MODEL_323de37e9307413894ab3d68e1668ad2"
            ]
          }
        },
        "0cf6c91c938645968ebf5d1abe51b6d0": {
          "model_module": "@jupyter-widgets/base",
          "model_name": "LayoutModel",
          "state": {
            "_view_name": "LayoutView",
            "grid_template_rows": null,
            "right": null,
            "justify_content": null,
            "_view_module": "@jupyter-widgets/base",
            "overflow": null,
            "_model_module_version": "1.2.0",
            "_view_count": null,
            "flex_flow": null,
            "width": null,
            "min_width": null,
            "border": null,
            "align_items": null,
            "bottom": null,
            "_model_module": "@jupyter-widgets/base",
            "top": null,
            "grid_column": null,
            "overflow_y": null,
            "overflow_x": null,
            "grid_auto_flow": null,
            "grid_area": null,
            "grid_template_columns": null,
            "flex": null,
            "_model_name": "LayoutModel",
            "justify_items": null,
            "grid_row": null,
            "max_height": null,
            "align_content": null,
            "visibility": null,
            "align_self": null,
            "height": null,
            "min_height": null,
            "padding": null,
            "grid_auto_rows": null,
            "grid_gap": null,
            "max_width": null,
            "order": null,
            "_view_module_version": "1.2.0",
            "grid_template_areas": null,
            "object_position": null,
            "object_fit": null,
            "grid_auto_columns": null,
            "margin": null,
            "display": null,
            "left": null
          }
        },
        "888fb0387ff9408ba9cc55ff48a6ee20": {
          "model_module": "@jupyter-widgets/controls",
          "model_name": "FloatProgressModel",
          "state": {
            "_view_name": "ProgressView",
            "style": "IPY_MODEL_052f6914d6304e33bd8be73827403f92",
            "_dom_classes": [],
            "description": " 32%",
            "_model_name": "FloatProgressModel",
            "bar_style": "danger",
            "max": 25000,
            "_view_module": "@jupyter-widgets/controls",
            "_model_module_version": "1.5.0",
            "value": 7906,
            "_view_count": null,
            "_view_module_version": "1.5.0",
            "orientation": "horizontal",
            "min": 0,
            "description_tooltip": null,
            "_model_module": "@jupyter-widgets/controls",
            "layout": "IPY_MODEL_8debb61873e6448fa134eb5a2ec88351"
          }
        },
        "323de37e9307413894ab3d68e1668ad2": {
          "model_module": "@jupyter-widgets/controls",
          "model_name": "HTMLModel",
          "state": {
            "_view_name": "HTMLView",
            "style": "IPY_MODEL_25bfeabfb3fe4dc9bab26e086b3cb462",
            "_dom_classes": [],
            "description": "",
            "_model_name": "HTMLModel",
            "placeholder": "​",
            "_view_module": "@jupyter-widgets/controls",
            "_model_module_version": "1.5.0",
            "value": " 7906/25000 [00:00&lt;00:00, 79056.68 examples/s]",
            "_view_count": null,
            "_view_module_version": "1.5.0",
            "description_tooltip": null,
            "_model_module": "@jupyter-widgets/controls",
            "layout": "IPY_MODEL_f8b91dd659a3480fa079265a86bf35e4"
          }
        },
        "052f6914d6304e33bd8be73827403f92": {
          "model_module": "@jupyter-widgets/controls",
          "model_name": "ProgressStyleModel",
          "state": {
            "_view_name": "StyleView",
            "_model_name": "ProgressStyleModel",
            "description_width": "initial",
            "_view_module": "@jupyter-widgets/base",
            "_model_module_version": "1.5.0",
            "_view_count": null,
            "_view_module_version": "1.2.0",
            "bar_color": null,
            "_model_module": "@jupyter-widgets/controls"
          }
        },
        "8debb61873e6448fa134eb5a2ec88351": {
          "model_module": "@jupyter-widgets/base",
          "model_name": "LayoutModel",
          "state": {
            "_view_name": "LayoutView",
            "grid_template_rows": null,
            "right": null,
            "justify_content": null,
            "_view_module": "@jupyter-widgets/base",
            "overflow": null,
            "_model_module_version": "1.2.0",
            "_view_count": null,
            "flex_flow": null,
            "width": null,
            "min_width": null,
            "border": null,
            "align_items": null,
            "bottom": null,
            "_model_module": "@jupyter-widgets/base",
            "top": null,
            "grid_column": null,
            "overflow_y": null,
            "overflow_x": null,
            "grid_auto_flow": null,
            "grid_area": null,
            "grid_template_columns": null,
            "flex": null,
            "_model_name": "LayoutModel",
            "justify_items": null,
            "grid_row": null,
            "max_height": null,
            "align_content": null,
            "visibility": null,
            "align_self": null,
            "height": null,
            "min_height": null,
            "padding": null,
            "grid_auto_rows": null,
            "grid_gap": null,
            "max_width": null,
            "order": null,
            "_view_module_version": "1.2.0",
            "grid_template_areas": null,
            "object_position": null,
            "object_fit": null,
            "grid_auto_columns": null,
            "margin": null,
            "display": null,
            "left": null
          }
        },
        "25bfeabfb3fe4dc9bab26e086b3cb462": {
          "model_module": "@jupyter-widgets/controls",
          "model_name": "DescriptionStyleModel",
          "state": {
            "_view_name": "StyleView",
            "_model_name": "DescriptionStyleModel",
            "description_width": "",
            "_view_module": "@jupyter-widgets/base",
            "_model_module_version": "1.5.0",
            "_view_count": null,
            "_view_module_version": "1.2.0",
            "_model_module": "@jupyter-widgets/controls"
          }
        },
        "f8b91dd659a3480fa079265a86bf35e4": {
          "model_module": "@jupyter-widgets/base",
          "model_name": "LayoutModel",
          "state": {
            "_view_name": "LayoutView",
            "grid_template_rows": null,
            "right": null,
            "justify_content": null,
            "_view_module": "@jupyter-widgets/base",
            "overflow": null,
            "_model_module_version": "1.2.0",
            "_view_count": null,
            "flex_flow": null,
            "width": null,
            "min_width": null,
            "border": null,
            "align_items": null,
            "bottom": null,
            "_model_module": "@jupyter-widgets/base",
            "top": null,
            "grid_column": null,
            "overflow_y": null,
            "overflow_x": null,
            "grid_auto_flow": null,
            "grid_area": null,
            "grid_template_columns": null,
            "flex": null,
            "_model_name": "LayoutModel",
            "justify_items": null,
            "grid_row": null,
            "max_height": null,
            "align_content": null,
            "visibility": null,
            "align_self": null,
            "height": null,
            "min_height": null,
            "padding": null,
            "grid_auto_rows": null,
            "grid_gap": null,
            "max_width": null,
            "order": null,
            "_view_module_version": "1.2.0",
            "grid_template_areas": null,
            "object_position": null,
            "object_fit": null,
            "grid_auto_columns": null,
            "margin": null,
            "display": null,
            "left": null
          }
        },
        "81297a5be2474aabba6b95eee4b17e4f": {
          "model_module": "@jupyter-widgets/controls",
          "model_name": "HBoxModel",
          "state": {
            "_view_name": "HBoxView",
            "_dom_classes": [],
            "_model_name": "HBoxModel",
            "_view_module": "@jupyter-widgets/controls",
            "_model_module_version": "1.5.0",
            "_view_count": null,
            "_view_module_version": "1.5.0",
            "box_style": "",
            "layout": "IPY_MODEL_37affc2e9e0f4ab8bd6c023320dc8c37",
            "_model_module": "@jupyter-widgets/controls",
            "children": [
              "IPY_MODEL_89e7ef7eee994be789df672fac6ced39",
              "IPY_MODEL_400772cecee44855b8292b7390b1842b"
            ]
          }
        },
        "37affc2e9e0f4ab8bd6c023320dc8c37": {
          "model_module": "@jupyter-widgets/base",
          "model_name": "LayoutModel",
          "state": {
            "_view_name": "LayoutView",
            "grid_template_rows": null,
            "right": null,
            "justify_content": null,
            "_view_module": "@jupyter-widgets/base",
            "overflow": null,
            "_model_module_version": "1.2.0",
            "_view_count": null,
            "flex_flow": null,
            "width": null,
            "min_width": null,
            "border": null,
            "align_items": null,
            "bottom": null,
            "_model_module": "@jupyter-widgets/base",
            "top": null,
            "grid_column": null,
            "overflow_y": null,
            "overflow_x": null,
            "grid_auto_flow": null,
            "grid_area": null,
            "grid_template_columns": null,
            "flex": null,
            "_model_name": "LayoutModel",
            "justify_items": null,
            "grid_row": null,
            "max_height": null,
            "align_content": null,
            "visibility": null,
            "align_self": null,
            "height": null,
            "min_height": null,
            "padding": null,
            "grid_auto_rows": null,
            "grid_gap": null,
            "max_width": null,
            "order": null,
            "_view_module_version": "1.2.0",
            "grid_template_areas": null,
            "object_position": null,
            "object_fit": null,
            "grid_auto_columns": null,
            "margin": null,
            "display": null,
            "left": null
          }
        },
        "89e7ef7eee994be789df672fac6ced39": {
          "model_module": "@jupyter-widgets/controls",
          "model_name": "FloatProgressModel",
          "state": {
            "_view_name": "ProgressView",
            "style": "IPY_MODEL_a4547f265ab94d558d700e3e04d28f40",
            "_dom_classes": [],
            "description": "",
            "_model_name": "FloatProgressModel",
            "bar_style": "info",
            "max": 1,
            "_view_module": "@jupyter-widgets/controls",
            "_model_module_version": "1.5.0",
            "value": 1,
            "_view_count": null,
            "_view_module_version": "1.5.0",
            "orientation": "horizontal",
            "min": 0,
            "description_tooltip": null,
            "_model_module": "@jupyter-widgets/controls",
            "layout": "IPY_MODEL_74bf4a042b9e4609a102287f6040626b"
          }
        },
        "400772cecee44855b8292b7390b1842b": {
          "model_module": "@jupyter-widgets/controls",
          "model_name": "HTMLModel",
          "state": {
            "_view_name": "HTMLView",
            "style": "IPY_MODEL_3f3c312cbe334030885e4c71f8d83033",
            "_dom_classes": [],
            "description": "",
            "_model_name": "HTMLModel",
            "placeholder": "​",
            "_view_module": "@jupyter-widgets/controls",
            "_model_module_version": "1.5.0",
            "value": " 25000/0 [00:15&lt;00:00, 3161.32 examples/s]",
            "_view_count": null,
            "_view_module_version": "1.5.0",
            "description_tooltip": null,
            "_model_module": "@jupyter-widgets/controls",
            "layout": "IPY_MODEL_f49912b7b7e44605bb017dff129b07d4"
          }
        },
        "a4547f265ab94d558d700e3e04d28f40": {
          "model_module": "@jupyter-widgets/controls",
          "model_name": "ProgressStyleModel",
          "state": {
            "_view_name": "StyleView",
            "_model_name": "ProgressStyleModel",
            "description_width": "initial",
            "_view_module": "@jupyter-widgets/base",
            "_model_module_version": "1.5.0",
            "_view_count": null,
            "_view_module_version": "1.2.0",
            "bar_color": null,
            "_model_module": "@jupyter-widgets/controls"
          }
        },
        "74bf4a042b9e4609a102287f6040626b": {
          "model_module": "@jupyter-widgets/base",
          "model_name": "LayoutModel",
          "state": {
            "_view_name": "LayoutView",
            "grid_template_rows": null,
            "right": null,
            "justify_content": null,
            "_view_module": "@jupyter-widgets/base",
            "overflow": null,
            "_model_module_version": "1.2.0",
            "_view_count": null,
            "flex_flow": null,
            "width": null,
            "min_width": null,
            "border": null,
            "align_items": null,
            "bottom": null,
            "_model_module": "@jupyter-widgets/base",
            "top": null,
            "grid_column": null,
            "overflow_y": null,
            "overflow_x": null,
            "grid_auto_flow": null,
            "grid_area": null,
            "grid_template_columns": null,
            "flex": null,
            "_model_name": "LayoutModel",
            "justify_items": null,
            "grid_row": null,
            "max_height": null,
            "align_content": null,
            "visibility": null,
            "align_self": null,
            "height": null,
            "min_height": null,
            "padding": null,
            "grid_auto_rows": null,
            "grid_gap": null,
            "max_width": null,
            "order": null,
            "_view_module_version": "1.2.0",
            "grid_template_areas": null,
            "object_position": null,
            "object_fit": null,
            "grid_auto_columns": null,
            "margin": null,
            "display": null,
            "left": null
          }
        },
        "3f3c312cbe334030885e4c71f8d83033": {
          "model_module": "@jupyter-widgets/controls",
          "model_name": "DescriptionStyleModel",
          "state": {
            "_view_name": "StyleView",
            "_model_name": "DescriptionStyleModel",
            "description_width": "",
            "_view_module": "@jupyter-widgets/base",
            "_model_module_version": "1.5.0",
            "_view_count": null,
            "_view_module_version": "1.2.0",
            "_model_module": "@jupyter-widgets/controls"
          }
        },
        "f49912b7b7e44605bb017dff129b07d4": {
          "model_module": "@jupyter-widgets/base",
          "model_name": "LayoutModel",
          "state": {
            "_view_name": "LayoutView",
            "grid_template_rows": null,
            "right": null,
            "justify_content": null,
            "_view_module": "@jupyter-widgets/base",
            "overflow": null,
            "_model_module_version": "1.2.0",
            "_view_count": null,
            "flex_flow": null,
            "width": null,
            "min_width": null,
            "border": null,
            "align_items": null,
            "bottom": null,
            "_model_module": "@jupyter-widgets/base",
            "top": null,
            "grid_column": null,
            "overflow_y": null,
            "overflow_x": null,
            "grid_auto_flow": null,
            "grid_area": null,
            "grid_template_columns": null,
            "flex": null,
            "_model_name": "LayoutModel",
            "justify_items": null,
            "grid_row": null,
            "max_height": null,
            "align_content": null,
            "visibility": null,
            "align_self": null,
            "height": null,
            "min_height": null,
            "padding": null,
            "grid_auto_rows": null,
            "grid_gap": null,
            "max_width": null,
            "order": null,
            "_view_module_version": "1.2.0",
            "grid_template_areas": null,
            "object_position": null,
            "object_fit": null,
            "grid_auto_columns": null,
            "margin": null,
            "display": null,
            "left": null
          }
        },
        "f96a7fd6e5b149acb193ca992da14356": {
          "model_module": "@jupyter-widgets/controls",
          "model_name": "HBoxModel",
          "state": {
            "_view_name": "HBoxView",
            "_dom_classes": [],
            "_model_name": "HBoxModel",
            "_view_module": "@jupyter-widgets/controls",
            "_model_module_version": "1.5.0",
            "_view_count": null,
            "_view_module_version": "1.5.0",
            "box_style": "",
            "layout": "IPY_MODEL_80ae18181fa64aa7a229fb21f24be9d7",
            "_model_module": "@jupyter-widgets/controls",
            "children": [
              "IPY_MODEL_b33bbbcf97f0445d8017863857556acd",
              "IPY_MODEL_5ef7913b0e48461a92c0a04a6db71ec7"
            ]
          }
        },
        "80ae18181fa64aa7a229fb21f24be9d7": {
          "model_module": "@jupyter-widgets/base",
          "model_name": "LayoutModel",
          "state": {
            "_view_name": "LayoutView",
            "grid_template_rows": null,
            "right": null,
            "justify_content": null,
            "_view_module": "@jupyter-widgets/base",
            "overflow": null,
            "_model_module_version": "1.2.0",
            "_view_count": null,
            "flex_flow": null,
            "width": null,
            "min_width": null,
            "border": null,
            "align_items": null,
            "bottom": null,
            "_model_module": "@jupyter-widgets/base",
            "top": null,
            "grid_column": null,
            "overflow_y": null,
            "overflow_x": null,
            "grid_auto_flow": null,
            "grid_area": null,
            "grid_template_columns": null,
            "flex": null,
            "_model_name": "LayoutModel",
            "justify_items": null,
            "grid_row": null,
            "max_height": null,
            "align_content": null,
            "visibility": null,
            "align_self": null,
            "height": null,
            "min_height": null,
            "padding": null,
            "grid_auto_rows": null,
            "grid_gap": null,
            "max_width": null,
            "order": null,
            "_view_module_version": "1.2.0",
            "grid_template_areas": null,
            "object_position": null,
            "object_fit": null,
            "grid_auto_columns": null,
            "margin": null,
            "display": null,
            "left": null
          }
        },
        "b33bbbcf97f0445d8017863857556acd": {
          "model_module": "@jupyter-widgets/controls",
          "model_name": "FloatProgressModel",
          "state": {
            "_view_name": "ProgressView",
            "style": "IPY_MODEL_4fab02ea0fe948d68d138057c3b6f8cf",
            "_dom_classes": [],
            "description": " 96%",
            "_model_name": "FloatProgressModel",
            "bar_style": "danger",
            "max": 25000,
            "_view_module": "@jupyter-widgets/controls",
            "_model_module_version": "1.5.0",
            "value": 23980,
            "_view_count": null,
            "_view_module_version": "1.5.0",
            "orientation": "horizontal",
            "min": 0,
            "description_tooltip": null,
            "_model_module": "@jupyter-widgets/controls",
            "layout": "IPY_MODEL_4e763128b07949a582cb03ed78cdc941"
          }
        },
        "5ef7913b0e48461a92c0a04a6db71ec7": {
          "model_module": "@jupyter-widgets/controls",
          "model_name": "HTMLModel",
          "state": {
            "_view_name": "HTMLView",
            "style": "IPY_MODEL_232f7b1138214a7a9a7338569d2f2fed",
            "_dom_classes": [],
            "description": "",
            "_model_name": "HTMLModel",
            "placeholder": "​",
            "_view_module": "@jupyter-widgets/controls",
            "_model_module_version": "1.5.0",
            "value": " 23980/25000 [00:00&lt;00:00, 60181.83 examples/s]",
            "_view_count": null,
            "_view_module_version": "1.5.0",
            "description_tooltip": null,
            "_model_module": "@jupyter-widgets/controls",
            "layout": "IPY_MODEL_15c940c627c5496d90cc7578107a0d01"
          }
        },
        "4fab02ea0fe948d68d138057c3b6f8cf": {
          "model_module": "@jupyter-widgets/controls",
          "model_name": "ProgressStyleModel",
          "state": {
            "_view_name": "StyleView",
            "_model_name": "ProgressStyleModel",
            "description_width": "initial",
            "_view_module": "@jupyter-widgets/base",
            "_model_module_version": "1.5.0",
            "_view_count": null,
            "_view_module_version": "1.2.0",
            "bar_color": null,
            "_model_module": "@jupyter-widgets/controls"
          }
        },
        "4e763128b07949a582cb03ed78cdc941": {
          "model_module": "@jupyter-widgets/base",
          "model_name": "LayoutModel",
          "state": {
            "_view_name": "LayoutView",
            "grid_template_rows": null,
            "right": null,
            "justify_content": null,
            "_view_module": "@jupyter-widgets/base",
            "overflow": null,
            "_model_module_version": "1.2.0",
            "_view_count": null,
            "flex_flow": null,
            "width": null,
            "min_width": null,
            "border": null,
            "align_items": null,
            "bottom": null,
            "_model_module": "@jupyter-widgets/base",
            "top": null,
            "grid_column": null,
            "overflow_y": null,
            "overflow_x": null,
            "grid_auto_flow": null,
            "grid_area": null,
            "grid_template_columns": null,
            "flex": null,
            "_model_name": "LayoutModel",
            "justify_items": null,
            "grid_row": null,
            "max_height": null,
            "align_content": null,
            "visibility": null,
            "align_self": null,
            "height": null,
            "min_height": null,
            "padding": null,
            "grid_auto_rows": null,
            "grid_gap": null,
            "max_width": null,
            "order": null,
            "_view_module_version": "1.2.0",
            "grid_template_areas": null,
            "object_position": null,
            "object_fit": null,
            "grid_auto_columns": null,
            "margin": null,
            "display": null,
            "left": null
          }
        },
        "232f7b1138214a7a9a7338569d2f2fed": {
          "model_module": "@jupyter-widgets/controls",
          "model_name": "DescriptionStyleModel",
          "state": {
            "_view_name": "StyleView",
            "_model_name": "DescriptionStyleModel",
            "description_width": "",
            "_view_module": "@jupyter-widgets/base",
            "_model_module_version": "1.5.0",
            "_view_count": null,
            "_view_module_version": "1.2.0",
            "_model_module": "@jupyter-widgets/controls"
          }
        },
        "15c940c627c5496d90cc7578107a0d01": {
          "model_module": "@jupyter-widgets/base",
          "model_name": "LayoutModel",
          "state": {
            "_view_name": "LayoutView",
            "grid_template_rows": null,
            "right": null,
            "justify_content": null,
            "_view_module": "@jupyter-widgets/base",
            "overflow": null,
            "_model_module_version": "1.2.0",
            "_view_count": null,
            "flex_flow": null,
            "width": null,
            "min_width": null,
            "border": null,
            "align_items": null,
            "bottom": null,
            "_model_module": "@jupyter-widgets/base",
            "top": null,
            "grid_column": null,
            "overflow_y": null,
            "overflow_x": null,
            "grid_auto_flow": null,
            "grid_area": null,
            "grid_template_columns": null,
            "flex": null,
            "_model_name": "LayoutModel",
            "justify_items": null,
            "grid_row": null,
            "max_height": null,
            "align_content": null,
            "visibility": null,
            "align_self": null,
            "height": null,
            "min_height": null,
            "padding": null,
            "grid_auto_rows": null,
            "grid_gap": null,
            "max_width": null,
            "order": null,
            "_view_module_version": "1.2.0",
            "grid_template_areas": null,
            "object_position": null,
            "object_fit": null,
            "grid_auto_columns": null,
            "margin": null,
            "display": null,
            "left": null
          }
        },
        "39932790919a461e93c4527b8466fd92": {
          "model_module": "@jupyter-widgets/controls",
          "model_name": "HBoxModel",
          "state": {
            "_view_name": "HBoxView",
            "_dom_classes": [],
            "_model_name": "HBoxModel",
            "_view_module": "@jupyter-widgets/controls",
            "_model_module_version": "1.5.0",
            "_view_count": null,
            "_view_module_version": "1.5.0",
            "box_style": "",
            "layout": "IPY_MODEL_643eaa075530420a9cde4beb910d0a0c",
            "_model_module": "@jupyter-widgets/controls",
            "children": [
              "IPY_MODEL_97b425bd9623403e8ba633e960323c9f",
              "IPY_MODEL_1470dc2a7e9b4651962e0662699b39be"
            ]
          }
        },
        "643eaa075530420a9cde4beb910d0a0c": {
          "model_module": "@jupyter-widgets/base",
          "model_name": "LayoutModel",
          "state": {
            "_view_name": "LayoutView",
            "grid_template_rows": null,
            "right": null,
            "justify_content": null,
            "_view_module": "@jupyter-widgets/base",
            "overflow": null,
            "_model_module_version": "1.2.0",
            "_view_count": null,
            "flex_flow": null,
            "width": null,
            "min_width": null,
            "border": null,
            "align_items": null,
            "bottom": null,
            "_model_module": "@jupyter-widgets/base",
            "top": null,
            "grid_column": null,
            "overflow_y": null,
            "overflow_x": null,
            "grid_auto_flow": null,
            "grid_area": null,
            "grid_template_columns": null,
            "flex": null,
            "_model_name": "LayoutModel",
            "justify_items": null,
            "grid_row": null,
            "max_height": null,
            "align_content": null,
            "visibility": null,
            "align_self": null,
            "height": null,
            "min_height": null,
            "padding": null,
            "grid_auto_rows": null,
            "grid_gap": null,
            "max_width": null,
            "order": null,
            "_view_module_version": "1.2.0",
            "grid_template_areas": null,
            "object_position": null,
            "object_fit": null,
            "grid_auto_columns": null,
            "margin": null,
            "display": null,
            "left": null
          }
        },
        "97b425bd9623403e8ba633e960323c9f": {
          "model_module": "@jupyter-widgets/controls",
          "model_name": "FloatProgressModel",
          "state": {
            "_view_name": "ProgressView",
            "style": "IPY_MODEL_3af1d422799f482aa2c9e57390bf296a",
            "_dom_classes": [],
            "description": "",
            "_model_name": "FloatProgressModel",
            "bar_style": "info",
            "max": 1,
            "_view_module": "@jupyter-widgets/controls",
            "_model_module_version": "1.5.0",
            "value": 1,
            "_view_count": null,
            "_view_module_version": "1.5.0",
            "orientation": "horizontal",
            "min": 0,
            "description_tooltip": null,
            "_model_module": "@jupyter-widgets/controls",
            "layout": "IPY_MODEL_f44929c90bb140738caf0451458ec1f1"
          }
        },
        "1470dc2a7e9b4651962e0662699b39be": {
          "model_module": "@jupyter-widgets/controls",
          "model_name": "HTMLModel",
          "state": {
            "_view_name": "HTMLView",
            "style": "IPY_MODEL_28ee63b2d2bd4887bfeeaf068e4fc0db",
            "_dom_classes": [],
            "description": "",
            "_model_name": "HTMLModel",
            "placeholder": "​",
            "_view_module": "@jupyter-widgets/controls",
            "_model_module_version": "1.5.0",
            "value": " 50000/0 [00:21&lt;00:00, 3243.43 examples/s]",
            "_view_count": null,
            "_view_module_version": "1.5.0",
            "description_tooltip": null,
            "_model_module": "@jupyter-widgets/controls",
            "layout": "IPY_MODEL_71eae9bebd064a2d9296ea1bde213c8f"
          }
        },
        "3af1d422799f482aa2c9e57390bf296a": {
          "model_module": "@jupyter-widgets/controls",
          "model_name": "ProgressStyleModel",
          "state": {
            "_view_name": "StyleView",
            "_model_name": "ProgressStyleModel",
            "description_width": "initial",
            "_view_module": "@jupyter-widgets/base",
            "_model_module_version": "1.5.0",
            "_view_count": null,
            "_view_module_version": "1.2.0",
            "bar_color": null,
            "_model_module": "@jupyter-widgets/controls"
          }
        },
        "f44929c90bb140738caf0451458ec1f1": {
          "model_module": "@jupyter-widgets/base",
          "model_name": "LayoutModel",
          "state": {
            "_view_name": "LayoutView",
            "grid_template_rows": null,
            "right": null,
            "justify_content": null,
            "_view_module": "@jupyter-widgets/base",
            "overflow": null,
            "_model_module_version": "1.2.0",
            "_view_count": null,
            "flex_flow": null,
            "width": null,
            "min_width": null,
            "border": null,
            "align_items": null,
            "bottom": null,
            "_model_module": "@jupyter-widgets/base",
            "top": null,
            "grid_column": null,
            "overflow_y": null,
            "overflow_x": null,
            "grid_auto_flow": null,
            "grid_area": null,
            "grid_template_columns": null,
            "flex": null,
            "_model_name": "LayoutModel",
            "justify_items": null,
            "grid_row": null,
            "max_height": null,
            "align_content": null,
            "visibility": null,
            "align_self": null,
            "height": null,
            "min_height": null,
            "padding": null,
            "grid_auto_rows": null,
            "grid_gap": null,
            "max_width": null,
            "order": null,
            "_view_module_version": "1.2.0",
            "grid_template_areas": null,
            "object_position": null,
            "object_fit": null,
            "grid_auto_columns": null,
            "margin": null,
            "display": null,
            "left": null
          }
        },
        "28ee63b2d2bd4887bfeeaf068e4fc0db": {
          "model_module": "@jupyter-widgets/controls",
          "model_name": "DescriptionStyleModel",
          "state": {
            "_view_name": "StyleView",
            "_model_name": "DescriptionStyleModel",
            "description_width": "",
            "_view_module": "@jupyter-widgets/base",
            "_model_module_version": "1.5.0",
            "_view_count": null,
            "_view_module_version": "1.2.0",
            "_model_module": "@jupyter-widgets/controls"
          }
        },
        "71eae9bebd064a2d9296ea1bde213c8f": {
          "model_module": "@jupyter-widgets/base",
          "model_name": "LayoutModel",
          "state": {
            "_view_name": "LayoutView",
            "grid_template_rows": null,
            "right": null,
            "justify_content": null,
            "_view_module": "@jupyter-widgets/base",
            "overflow": null,
            "_model_module_version": "1.2.0",
            "_view_count": null,
            "flex_flow": null,
            "width": null,
            "min_width": null,
            "border": null,
            "align_items": null,
            "bottom": null,
            "_model_module": "@jupyter-widgets/base",
            "top": null,
            "grid_column": null,
            "overflow_y": null,
            "overflow_x": null,
            "grid_auto_flow": null,
            "grid_area": null,
            "grid_template_columns": null,
            "flex": null,
            "_model_name": "LayoutModel",
            "justify_items": null,
            "grid_row": null,
            "max_height": null,
            "align_content": null,
            "visibility": null,
            "align_self": null,
            "height": null,
            "min_height": null,
            "padding": null,
            "grid_auto_rows": null,
            "grid_gap": null,
            "max_width": null,
            "order": null,
            "_view_module_version": "1.2.0",
            "grid_template_areas": null,
            "object_position": null,
            "object_fit": null,
            "grid_auto_columns": null,
            "margin": null,
            "display": null,
            "left": null
          }
        },
        "003e238301544bd0ae6c95f96e4cc919": {
          "model_module": "@jupyter-widgets/controls",
          "model_name": "HBoxModel",
          "state": {
            "_view_name": "HBoxView",
            "_dom_classes": [],
            "_model_name": "HBoxModel",
            "_view_module": "@jupyter-widgets/controls",
            "_model_module_version": "1.5.0",
            "_view_count": null,
            "_view_module_version": "1.5.0",
            "box_style": "",
            "layout": "IPY_MODEL_bedd3a1145c74766a2a25efc03082901",
            "_model_module": "@jupyter-widgets/controls",
            "children": [
              "IPY_MODEL_33d8728aa0764a75957dd19b6eb76d79",
              "IPY_MODEL_11942f0797c748449d733cd1d6a68907"
            ]
          }
        },
        "bedd3a1145c74766a2a25efc03082901": {
          "model_module": "@jupyter-widgets/base",
          "model_name": "LayoutModel",
          "state": {
            "_view_name": "LayoutView",
            "grid_template_rows": null,
            "right": null,
            "justify_content": null,
            "_view_module": "@jupyter-widgets/base",
            "overflow": null,
            "_model_module_version": "1.2.0",
            "_view_count": null,
            "flex_flow": null,
            "width": null,
            "min_width": null,
            "border": null,
            "align_items": null,
            "bottom": null,
            "_model_module": "@jupyter-widgets/base",
            "top": null,
            "grid_column": null,
            "overflow_y": null,
            "overflow_x": null,
            "grid_auto_flow": null,
            "grid_area": null,
            "grid_template_columns": null,
            "flex": null,
            "_model_name": "LayoutModel",
            "justify_items": null,
            "grid_row": null,
            "max_height": null,
            "align_content": null,
            "visibility": null,
            "align_self": null,
            "height": null,
            "min_height": null,
            "padding": null,
            "grid_auto_rows": null,
            "grid_gap": null,
            "max_width": null,
            "order": null,
            "_view_module_version": "1.2.0",
            "grid_template_areas": null,
            "object_position": null,
            "object_fit": null,
            "grid_auto_columns": null,
            "margin": null,
            "display": null,
            "left": null
          }
        },
        "33d8728aa0764a75957dd19b6eb76d79": {
          "model_module": "@jupyter-widgets/controls",
          "model_name": "FloatProgressModel",
          "state": {
            "_view_name": "ProgressView",
            "style": "IPY_MODEL_e1a3715176b848e79d8f48737e450a78",
            "_dom_classes": [],
            "description": " 91%",
            "_model_name": "FloatProgressModel",
            "bar_style": "danger",
            "max": 50000,
            "_view_module": "@jupyter-widgets/controls",
            "_model_module_version": "1.5.0",
            "value": 45472,
            "_view_count": null,
            "_view_module_version": "1.5.0",
            "orientation": "horizontal",
            "min": 0,
            "description_tooltip": null,
            "_model_module": "@jupyter-widgets/controls",
            "layout": "IPY_MODEL_0c601ef862184ebab59c95e6df4e8cbb"
          }
        },
        "11942f0797c748449d733cd1d6a68907": {
          "model_module": "@jupyter-widgets/controls",
          "model_name": "HTMLModel",
          "state": {
            "_view_name": "HTMLView",
            "style": "IPY_MODEL_9632cc6048704b4085841202953f561f",
            "_dom_classes": [],
            "description": "",
            "_model_name": "HTMLModel",
            "placeholder": "​",
            "_view_module": "@jupyter-widgets/controls",
            "_model_module_version": "1.5.0",
            "value": " 45472/50000 [00:00&lt;03:47, 19.93 examples/s]",
            "_view_count": null,
            "_view_module_version": "1.5.0",
            "description_tooltip": null,
            "_model_module": "@jupyter-widgets/controls",
            "layout": "IPY_MODEL_0f0bdc624c5f426fa8d63348f1eea9a8"
          }
        },
        "e1a3715176b848e79d8f48737e450a78": {
          "model_module": "@jupyter-widgets/controls",
          "model_name": "ProgressStyleModel",
          "state": {
            "_view_name": "StyleView",
            "_model_name": "ProgressStyleModel",
            "description_width": "initial",
            "_view_module": "@jupyter-widgets/base",
            "_model_module_version": "1.5.0",
            "_view_count": null,
            "_view_module_version": "1.2.0",
            "bar_color": null,
            "_model_module": "@jupyter-widgets/controls"
          }
        },
        "0c601ef862184ebab59c95e6df4e8cbb": {
          "model_module": "@jupyter-widgets/base",
          "model_name": "LayoutModel",
          "state": {
            "_view_name": "LayoutView",
            "grid_template_rows": null,
            "right": null,
            "justify_content": null,
            "_view_module": "@jupyter-widgets/base",
            "overflow": null,
            "_model_module_version": "1.2.0",
            "_view_count": null,
            "flex_flow": null,
            "width": null,
            "min_width": null,
            "border": null,
            "align_items": null,
            "bottom": null,
            "_model_module": "@jupyter-widgets/base",
            "top": null,
            "grid_column": null,
            "overflow_y": null,
            "overflow_x": null,
            "grid_auto_flow": null,
            "grid_area": null,
            "grid_template_columns": null,
            "flex": null,
            "_model_name": "LayoutModel",
            "justify_items": null,
            "grid_row": null,
            "max_height": null,
            "align_content": null,
            "visibility": null,
            "align_self": null,
            "height": null,
            "min_height": null,
            "padding": null,
            "grid_auto_rows": null,
            "grid_gap": null,
            "max_width": null,
            "order": null,
            "_view_module_version": "1.2.0",
            "grid_template_areas": null,
            "object_position": null,
            "object_fit": null,
            "grid_auto_columns": null,
            "margin": null,
            "display": null,
            "left": null
          }
        },
        "9632cc6048704b4085841202953f561f": {
          "model_module": "@jupyter-widgets/controls",
          "model_name": "DescriptionStyleModel",
          "state": {
            "_view_name": "StyleView",
            "_model_name": "DescriptionStyleModel",
            "description_width": "",
            "_view_module": "@jupyter-widgets/base",
            "_model_module_version": "1.5.0",
            "_view_count": null,
            "_view_module_version": "1.2.0",
            "_model_module": "@jupyter-widgets/controls"
          }
        },
        "0f0bdc624c5f426fa8d63348f1eea9a8": {
          "model_module": "@jupyter-widgets/base",
          "model_name": "LayoutModel",
          "state": {
            "_view_name": "LayoutView",
            "grid_template_rows": null,
            "right": null,
            "justify_content": null,
            "_view_module": "@jupyter-widgets/base",
            "overflow": null,
            "_model_module_version": "1.2.0",
            "_view_count": null,
            "flex_flow": null,
            "width": null,
            "min_width": null,
            "border": null,
            "align_items": null,
            "bottom": null,
            "_model_module": "@jupyter-widgets/base",
            "top": null,
            "grid_column": null,
            "overflow_y": null,
            "overflow_x": null,
            "grid_auto_flow": null,
            "grid_area": null,
            "grid_template_columns": null,
            "flex": null,
            "_model_name": "LayoutModel",
            "justify_items": null,
            "grid_row": null,
            "max_height": null,
            "align_content": null,
            "visibility": null,
            "align_self": null,
            "height": null,
            "min_height": null,
            "padding": null,
            "grid_auto_rows": null,
            "grid_gap": null,
            "max_width": null,
            "order": null,
            "_view_module_version": "1.2.0",
            "grid_template_areas": null,
            "object_position": null,
            "object_fit": null,
            "grid_auto_columns": null,
            "margin": null,
            "display": null,
            "left": null
          }
        },
        "ec5b54252b214fef8133a66cea58df8d": {
          "model_module": "@jupyter-widgets/controls",
          "model_name": "HBoxModel",
          "state": {
            "_view_name": "HBoxView",
            "_dom_classes": [],
            "_model_name": "HBoxModel",
            "_view_module": "@jupyter-widgets/controls",
            "_model_module_version": "1.5.0",
            "_view_count": null,
            "_view_module_version": "1.5.0",
            "box_style": "",
            "layout": "IPY_MODEL_5815bf40ed684874b14e8c1898b4aefb",
            "_model_module": "@jupyter-widgets/controls",
            "children": [
              "IPY_MODEL_dbacf5ac7bfc4f0991d9741bacc6a415",
              "IPY_MODEL_fd743badd1544f07bce1d2d63cb7917d"
            ]
          }
        },
        "5815bf40ed684874b14e8c1898b4aefb": {
          "model_module": "@jupyter-widgets/base",
          "model_name": "LayoutModel",
          "state": {
            "_view_name": "LayoutView",
            "grid_template_rows": null,
            "right": null,
            "justify_content": null,
            "_view_module": "@jupyter-widgets/base",
            "overflow": null,
            "_model_module_version": "1.2.0",
            "_view_count": null,
            "flex_flow": null,
            "width": null,
            "min_width": null,
            "border": null,
            "align_items": null,
            "bottom": null,
            "_model_module": "@jupyter-widgets/base",
            "top": null,
            "grid_column": null,
            "overflow_y": null,
            "overflow_x": null,
            "grid_auto_flow": null,
            "grid_area": null,
            "grid_template_columns": null,
            "flex": null,
            "_model_name": "LayoutModel",
            "justify_items": null,
            "grid_row": null,
            "max_height": null,
            "align_content": null,
            "visibility": null,
            "align_self": null,
            "height": null,
            "min_height": null,
            "padding": null,
            "grid_auto_rows": null,
            "grid_gap": null,
            "max_width": null,
            "order": null,
            "_view_module_version": "1.2.0",
            "grid_template_areas": null,
            "object_position": null,
            "object_fit": null,
            "grid_auto_columns": null,
            "margin": null,
            "display": null,
            "left": null
          }
        },
        "dbacf5ac7bfc4f0991d9741bacc6a415": {
          "model_module": "@jupyter-widgets/controls",
          "model_name": "FloatProgressModel",
          "state": {
            "_view_name": "ProgressView",
            "style": "IPY_MODEL_aadd0d55d7f84f8e88c1364b27b01986",
            "_dom_classes": [],
            "description": "Downloading: 100%",
            "_model_name": "FloatProgressModel",
            "bar_style": "success",
            "max": 656,
            "_view_module": "@jupyter-widgets/controls",
            "_model_module_version": "1.5.0",
            "value": 656,
            "_view_count": null,
            "_view_module_version": "1.5.0",
            "orientation": "horizontal",
            "min": 0,
            "description_tooltip": null,
            "_model_module": "@jupyter-widgets/controls",
            "layout": "IPY_MODEL_3a9235d190f54b7992cc110f4922e5b6"
          }
        },
        "fd743badd1544f07bce1d2d63cb7917d": {
          "model_module": "@jupyter-widgets/controls",
          "model_name": "HTMLModel",
          "state": {
            "_view_name": "HTMLView",
            "style": "IPY_MODEL_d3ee4eff033e441f8630e178b04f678c",
            "_dom_classes": [],
            "description": "",
            "_model_name": "HTMLModel",
            "placeholder": "​",
            "_view_module": "@jupyter-widgets/controls",
            "_model_module_version": "1.5.0",
            "value": " 656/656 [00:12&lt;00:00, 53.2B/s]",
            "_view_count": null,
            "_view_module_version": "1.5.0",
            "description_tooltip": null,
            "_model_module": "@jupyter-widgets/controls",
            "layout": "IPY_MODEL_e2c897f0a03445dc89702bb0162b03a5"
          }
        },
        "aadd0d55d7f84f8e88c1364b27b01986": {
          "model_module": "@jupyter-widgets/controls",
          "model_name": "ProgressStyleModel",
          "state": {
            "_view_name": "StyleView",
            "_model_name": "ProgressStyleModel",
            "description_width": "initial",
            "_view_module": "@jupyter-widgets/base",
            "_model_module_version": "1.5.0",
            "_view_count": null,
            "_view_module_version": "1.2.0",
            "bar_color": null,
            "_model_module": "@jupyter-widgets/controls"
          }
        },
        "3a9235d190f54b7992cc110f4922e5b6": {
          "model_module": "@jupyter-widgets/base",
          "model_name": "LayoutModel",
          "state": {
            "_view_name": "LayoutView",
            "grid_template_rows": null,
            "right": null,
            "justify_content": null,
            "_view_module": "@jupyter-widgets/base",
            "overflow": null,
            "_model_module_version": "1.2.0",
            "_view_count": null,
            "flex_flow": null,
            "width": null,
            "min_width": null,
            "border": null,
            "align_items": null,
            "bottom": null,
            "_model_module": "@jupyter-widgets/base",
            "top": null,
            "grid_column": null,
            "overflow_y": null,
            "overflow_x": null,
            "grid_auto_flow": null,
            "grid_area": null,
            "grid_template_columns": null,
            "flex": null,
            "_model_name": "LayoutModel",
            "justify_items": null,
            "grid_row": null,
            "max_height": null,
            "align_content": null,
            "visibility": null,
            "align_self": null,
            "height": null,
            "min_height": null,
            "padding": null,
            "grid_auto_rows": null,
            "grid_gap": null,
            "max_width": null,
            "order": null,
            "_view_module_version": "1.2.0",
            "grid_template_areas": null,
            "object_position": null,
            "object_fit": null,
            "grid_auto_columns": null,
            "margin": null,
            "display": null,
            "left": null
          }
        },
        "d3ee4eff033e441f8630e178b04f678c": {
          "model_module": "@jupyter-widgets/controls",
          "model_name": "DescriptionStyleModel",
          "state": {
            "_view_name": "StyleView",
            "_model_name": "DescriptionStyleModel",
            "description_width": "",
            "_view_module": "@jupyter-widgets/base",
            "_model_module_version": "1.5.0",
            "_view_count": null,
            "_view_module_version": "1.2.0",
            "_model_module": "@jupyter-widgets/controls"
          }
        },
        "e2c897f0a03445dc89702bb0162b03a5": {
          "model_module": "@jupyter-widgets/base",
          "model_name": "LayoutModel",
          "state": {
            "_view_name": "LayoutView",
            "grid_template_rows": null,
            "right": null,
            "justify_content": null,
            "_view_module": "@jupyter-widgets/base",
            "overflow": null,
            "_model_module_version": "1.2.0",
            "_view_count": null,
            "flex_flow": null,
            "width": null,
            "min_width": null,
            "border": null,
            "align_items": null,
            "bottom": null,
            "_model_module": "@jupyter-widgets/base",
            "top": null,
            "grid_column": null,
            "overflow_y": null,
            "overflow_x": null,
            "grid_auto_flow": null,
            "grid_area": null,
            "grid_template_columns": null,
            "flex": null,
            "_model_name": "LayoutModel",
            "justify_items": null,
            "grid_row": null,
            "max_height": null,
            "align_content": null,
            "visibility": null,
            "align_self": null,
            "height": null,
            "min_height": null,
            "padding": null,
            "grid_auto_rows": null,
            "grid_gap": null,
            "max_width": null,
            "order": null,
            "_view_module_version": "1.2.0",
            "grid_template_areas": null,
            "object_position": null,
            "object_fit": null,
            "grid_auto_columns": null,
            "margin": null,
            "display": null,
            "left": null
          }
        },
        "05fbaebdc16a4482842954eb6c0af976": {
          "model_module": "@jupyter-widgets/controls",
          "model_name": "HBoxModel",
          "state": {
            "_view_name": "HBoxView",
            "_dom_classes": [],
            "_model_name": "HBoxModel",
            "_view_module": "@jupyter-widgets/controls",
            "_model_module_version": "1.5.0",
            "_view_count": null,
            "_view_module_version": "1.5.0",
            "box_style": "",
            "layout": "IPY_MODEL_1c64f5b1c5884c7fbf6d1d256f3b1f26",
            "_model_module": "@jupyter-widgets/controls",
            "children": [
              "IPY_MODEL_100c3303eb944bf48f75acd5c244e9d6",
              "IPY_MODEL_808e25ada01144ada296eda878802236"
            ]
          }
        },
        "1c64f5b1c5884c7fbf6d1d256f3b1f26": {
          "model_module": "@jupyter-widgets/base",
          "model_name": "LayoutModel",
          "state": {
            "_view_name": "LayoutView",
            "grid_template_rows": null,
            "right": null,
            "justify_content": null,
            "_view_module": "@jupyter-widgets/base",
            "overflow": null,
            "_model_module_version": "1.2.0",
            "_view_count": null,
            "flex_flow": null,
            "width": null,
            "min_width": null,
            "border": null,
            "align_items": null,
            "bottom": null,
            "_model_module": "@jupyter-widgets/base",
            "top": null,
            "grid_column": null,
            "overflow_y": null,
            "overflow_x": null,
            "grid_auto_flow": null,
            "grid_area": null,
            "grid_template_columns": null,
            "flex": null,
            "_model_name": "LayoutModel",
            "justify_items": null,
            "grid_row": null,
            "max_height": null,
            "align_content": null,
            "visibility": null,
            "align_self": null,
            "height": null,
            "min_height": null,
            "padding": null,
            "grid_auto_rows": null,
            "grid_gap": null,
            "max_width": null,
            "order": null,
            "_view_module_version": "1.2.0",
            "grid_template_areas": null,
            "object_position": null,
            "object_fit": null,
            "grid_auto_columns": null,
            "margin": null,
            "display": null,
            "left": null
          }
        },
        "100c3303eb944bf48f75acd5c244e9d6": {
          "model_module": "@jupyter-widgets/controls",
          "model_name": "FloatProgressModel",
          "state": {
            "_view_name": "ProgressView",
            "style": "IPY_MODEL_99434bbb33394e3e9aa731ad633a67dc",
            "_dom_classes": [],
            "description": "Downloading: 100%",
            "_model_name": "FloatProgressModel",
            "bar_style": "success",
            "max": 466312920,
            "_view_module": "@jupyter-widgets/controls",
            "_model_module_version": "1.5.0",
            "value": 466312920,
            "_view_count": null,
            "_view_module_version": "1.5.0",
            "orientation": "horizontal",
            "min": 0,
            "description_tooltip": null,
            "_model_module": "@jupyter-widgets/controls",
            "layout": "IPY_MODEL_61919b30661e49029668e3b1927705c9"
          }
        },
        "808e25ada01144ada296eda878802236": {
          "model_module": "@jupyter-widgets/controls",
          "model_name": "HTMLModel",
          "state": {
            "_view_name": "HTMLView",
            "style": "IPY_MODEL_686720de0ba04a5ca709fd6d20e25990",
            "_dom_classes": [],
            "description": "",
            "_model_name": "HTMLModel",
            "placeholder": "​",
            "_view_module": "@jupyter-widgets/controls",
            "_model_module_version": "1.5.0",
            "value": " 466M/466M [00:11&lt;00:00, 40.5MB/s]",
            "_view_count": null,
            "_view_module_version": "1.5.0",
            "description_tooltip": null,
            "_model_module": "@jupyter-widgets/controls",
            "layout": "IPY_MODEL_106e37794b084583bc34d76928b0ae43"
          }
        },
        "99434bbb33394e3e9aa731ad633a67dc": {
          "model_module": "@jupyter-widgets/controls",
          "model_name": "ProgressStyleModel",
          "state": {
            "_view_name": "StyleView",
            "_model_name": "ProgressStyleModel",
            "description_width": "initial",
            "_view_module": "@jupyter-widgets/base",
            "_model_module_version": "1.5.0",
            "_view_count": null,
            "_view_module_version": "1.2.0",
            "bar_color": null,
            "_model_module": "@jupyter-widgets/controls"
          }
        },
        "61919b30661e49029668e3b1927705c9": {
          "model_module": "@jupyter-widgets/base",
          "model_name": "LayoutModel",
          "state": {
            "_view_name": "LayoutView",
            "grid_template_rows": null,
            "right": null,
            "justify_content": null,
            "_view_module": "@jupyter-widgets/base",
            "overflow": null,
            "_model_module_version": "1.2.0",
            "_view_count": null,
            "flex_flow": null,
            "width": null,
            "min_width": null,
            "border": null,
            "align_items": null,
            "bottom": null,
            "_model_module": "@jupyter-widgets/base",
            "top": null,
            "grid_column": null,
            "overflow_y": null,
            "overflow_x": null,
            "grid_auto_flow": null,
            "grid_area": null,
            "grid_template_columns": null,
            "flex": null,
            "_model_name": "LayoutModel",
            "justify_items": null,
            "grid_row": null,
            "max_height": null,
            "align_content": null,
            "visibility": null,
            "align_self": null,
            "height": null,
            "min_height": null,
            "padding": null,
            "grid_auto_rows": null,
            "grid_gap": null,
            "max_width": null,
            "order": null,
            "_view_module_version": "1.2.0",
            "grid_template_areas": null,
            "object_position": null,
            "object_fit": null,
            "grid_auto_columns": null,
            "margin": null,
            "display": null,
            "left": null
          }
        },
        "686720de0ba04a5ca709fd6d20e25990": {
          "model_module": "@jupyter-widgets/controls",
          "model_name": "DescriptionStyleModel",
          "state": {
            "_view_name": "StyleView",
            "_model_name": "DescriptionStyleModel",
            "description_width": "",
            "_view_module": "@jupyter-widgets/base",
            "_model_module_version": "1.5.0",
            "_view_count": null,
            "_view_module_version": "1.2.0",
            "_model_module": "@jupyter-widgets/controls"
          }
        },
        "106e37794b084583bc34d76928b0ae43": {
          "model_module": "@jupyter-widgets/base",
          "model_name": "LayoutModel",
          "state": {
            "_view_name": "LayoutView",
            "grid_template_rows": null,
            "right": null,
            "justify_content": null,
            "_view_module": "@jupyter-widgets/base",
            "overflow": null,
            "_model_module_version": "1.2.0",
            "_view_count": null,
            "flex_flow": null,
            "width": null,
            "min_width": null,
            "border": null,
            "align_items": null,
            "bottom": null,
            "_model_module": "@jupyter-widgets/base",
            "top": null,
            "grid_column": null,
            "overflow_y": null,
            "overflow_x": null,
            "grid_auto_flow": null,
            "grid_area": null,
            "grid_template_columns": null,
            "flex": null,
            "_model_name": "LayoutModel",
            "justify_items": null,
            "grid_row": null,
            "max_height": null,
            "align_content": null,
            "visibility": null,
            "align_self": null,
            "height": null,
            "min_height": null,
            "padding": null,
            "grid_auto_rows": null,
            "grid_gap": null,
            "max_width": null,
            "order": null,
            "_view_module_version": "1.2.0",
            "grid_template_areas": null,
            "object_position": null,
            "object_fit": null,
            "grid_auto_columns": null,
            "margin": null,
            "display": null,
            "left": null
          }
        },
        "a8b22d24a3a24f49bdeb1644122f042a": {
          "model_module": "@jupyter-widgets/controls",
          "model_name": "HBoxModel",
          "state": {
            "_view_name": "HBoxView",
            "_dom_classes": [],
            "_model_name": "HBoxModel",
            "_view_module": "@jupyter-widgets/controls",
            "_model_module_version": "1.5.0",
            "_view_count": null,
            "_view_module_version": "1.5.0",
            "box_style": "",
            "layout": "IPY_MODEL_4b16d9254d6e4bf88ff0776fb5f330ff",
            "_model_module": "@jupyter-widgets/controls",
            "children": [
              "IPY_MODEL_515e10f0edf64d08bff5c705a2ea3971",
              "IPY_MODEL_65fb1a84f9874a5c8753579d52241f33"
            ]
          }
        },
        "4b16d9254d6e4bf88ff0776fb5f330ff": {
          "model_module": "@jupyter-widgets/base",
          "model_name": "LayoutModel",
          "state": {
            "_view_name": "LayoutView",
            "grid_template_rows": null,
            "right": null,
            "justify_content": null,
            "_view_module": "@jupyter-widgets/base",
            "overflow": null,
            "_model_module_version": "1.2.0",
            "_view_count": null,
            "flex_flow": null,
            "width": null,
            "min_width": null,
            "border": null,
            "align_items": null,
            "bottom": null,
            "_model_module": "@jupyter-widgets/base",
            "top": null,
            "grid_column": null,
            "overflow_y": null,
            "overflow_x": null,
            "grid_auto_flow": null,
            "grid_area": null,
            "grid_template_columns": null,
            "flex": null,
            "_model_name": "LayoutModel",
            "justify_items": null,
            "grid_row": null,
            "max_height": null,
            "align_content": null,
            "visibility": null,
            "align_self": null,
            "height": null,
            "min_height": null,
            "padding": null,
            "grid_auto_rows": null,
            "grid_gap": null,
            "max_width": null,
            "order": null,
            "_view_module_version": "1.2.0",
            "grid_template_areas": null,
            "object_position": null,
            "object_fit": null,
            "grid_auto_columns": null,
            "margin": null,
            "display": null,
            "left": null
          }
        },
        "515e10f0edf64d08bff5c705a2ea3971": {
          "model_module": "@jupyter-widgets/controls",
          "model_name": "FloatProgressModel",
          "state": {
            "_view_name": "ProgressView",
            "style": "IPY_MODEL_1a850db022914a1e877edd8c438d3cc2",
            "_dom_classes": [],
            "description": "Downloading: 100%",
            "_model_name": "FloatProgressModel",
            "bar_style": "success",
            "max": 815973,
            "_view_module": "@jupyter-widgets/controls",
            "_model_module_version": "1.5.0",
            "value": 815973,
            "_view_count": null,
            "_view_module_version": "1.5.0",
            "orientation": "horizontal",
            "min": 0,
            "description_tooltip": null,
            "_model_module": "@jupyter-widgets/controls",
            "layout": "IPY_MODEL_5edbe89905a945cb8ce56ce3daf109de"
          }
        },
        "65fb1a84f9874a5c8753579d52241f33": {
          "model_module": "@jupyter-widgets/controls",
          "model_name": "HTMLModel",
          "state": {
            "_view_name": "HTMLView",
            "style": "IPY_MODEL_9b09b38ce4ce423986abd537a691433d",
            "_dom_classes": [],
            "description": "",
            "_model_name": "HTMLModel",
            "placeholder": "​",
            "_view_module": "@jupyter-widgets/controls",
            "_model_module_version": "1.5.0",
            "value": " 816k/816k [00:00&lt;00:00, 910kB/s]",
            "_view_count": null,
            "_view_module_version": "1.5.0",
            "description_tooltip": null,
            "_model_module": "@jupyter-widgets/controls",
            "layout": "IPY_MODEL_068a4f47532544c083e411503795fb45"
          }
        },
        "1a850db022914a1e877edd8c438d3cc2": {
          "model_module": "@jupyter-widgets/controls",
          "model_name": "ProgressStyleModel",
          "state": {
            "_view_name": "StyleView",
            "_model_name": "ProgressStyleModel",
            "description_width": "initial",
            "_view_module": "@jupyter-widgets/base",
            "_model_module_version": "1.5.0",
            "_view_count": null,
            "_view_module_version": "1.2.0",
            "bar_color": null,
            "_model_module": "@jupyter-widgets/controls"
          }
        },
        "5edbe89905a945cb8ce56ce3daf109de": {
          "model_module": "@jupyter-widgets/base",
          "model_name": "LayoutModel",
          "state": {
            "_view_name": "LayoutView",
            "grid_template_rows": null,
            "right": null,
            "justify_content": null,
            "_view_module": "@jupyter-widgets/base",
            "overflow": null,
            "_model_module_version": "1.2.0",
            "_view_count": null,
            "flex_flow": null,
            "width": null,
            "min_width": null,
            "border": null,
            "align_items": null,
            "bottom": null,
            "_model_module": "@jupyter-widgets/base",
            "top": null,
            "grid_column": null,
            "overflow_y": null,
            "overflow_x": null,
            "grid_auto_flow": null,
            "grid_area": null,
            "grid_template_columns": null,
            "flex": null,
            "_model_name": "LayoutModel",
            "justify_items": null,
            "grid_row": null,
            "max_height": null,
            "align_content": null,
            "visibility": null,
            "align_self": null,
            "height": null,
            "min_height": null,
            "padding": null,
            "grid_auto_rows": null,
            "grid_gap": null,
            "max_width": null,
            "order": null,
            "_view_module_version": "1.2.0",
            "grid_template_areas": null,
            "object_position": null,
            "object_fit": null,
            "grid_auto_columns": null,
            "margin": null,
            "display": null,
            "left": null
          }
        },
        "9b09b38ce4ce423986abd537a691433d": {
          "model_module": "@jupyter-widgets/controls",
          "model_name": "DescriptionStyleModel",
          "state": {
            "_view_name": "StyleView",
            "_model_name": "DescriptionStyleModel",
            "description_width": "",
            "_view_module": "@jupyter-widgets/base",
            "_model_module_version": "1.5.0",
            "_view_count": null,
            "_view_module_version": "1.2.0",
            "_model_module": "@jupyter-widgets/controls"
          }
        },
        "068a4f47532544c083e411503795fb45": {
          "model_module": "@jupyter-widgets/base",
          "model_name": "LayoutModel",
          "state": {
            "_view_name": "LayoutView",
            "grid_template_rows": null,
            "right": null,
            "justify_content": null,
            "_view_module": "@jupyter-widgets/base",
            "overflow": null,
            "_model_module_version": "1.2.0",
            "_view_count": null,
            "flex_flow": null,
            "width": null,
            "min_width": null,
            "border": null,
            "align_items": null,
            "bottom": null,
            "_model_module": "@jupyter-widgets/base",
            "top": null,
            "grid_column": null,
            "overflow_y": null,
            "overflow_x": null,
            "grid_auto_flow": null,
            "grid_area": null,
            "grid_template_columns": null,
            "flex": null,
            "_model_name": "LayoutModel",
            "justify_items": null,
            "grid_row": null,
            "max_height": null,
            "align_content": null,
            "visibility": null,
            "align_self": null,
            "height": null,
            "min_height": null,
            "padding": null,
            "grid_auto_rows": null,
            "grid_gap": null,
            "max_width": null,
            "order": null,
            "_view_module_version": "1.2.0",
            "grid_template_areas": null,
            "object_position": null,
            "object_fit": null,
            "grid_auto_columns": null,
            "margin": null,
            "display": null,
            "left": null
          }
        },
        "ea8052651ec24271a63c44bfb57203ff": {
          "model_module": "@jupyter-widgets/controls",
          "model_name": "HBoxModel",
          "state": {
            "_view_name": "HBoxView",
            "_dom_classes": [],
            "_model_name": "HBoxModel",
            "_view_module": "@jupyter-widgets/controls",
            "_model_module_version": "1.5.0",
            "_view_count": null,
            "_view_module_version": "1.5.0",
            "box_style": "",
            "layout": "IPY_MODEL_a80ff499639c46c49310c61dcc00c9a3",
            "_model_module": "@jupyter-widgets/controls",
            "children": [
              "IPY_MODEL_b705ff8b838446439f19ad748076b4ed",
              "IPY_MODEL_c052ae2469a546739373870fd3e57341"
            ]
          }
        },
        "a80ff499639c46c49310c61dcc00c9a3": {
          "model_module": "@jupyter-widgets/base",
          "model_name": "LayoutModel",
          "state": {
            "_view_name": "LayoutView",
            "grid_template_rows": null,
            "right": null,
            "justify_content": null,
            "_view_module": "@jupyter-widgets/base",
            "overflow": null,
            "_model_module_version": "1.2.0",
            "_view_count": null,
            "flex_flow": null,
            "width": null,
            "min_width": null,
            "border": null,
            "align_items": null,
            "bottom": null,
            "_model_module": "@jupyter-widgets/base",
            "top": null,
            "grid_column": null,
            "overflow_y": null,
            "overflow_x": null,
            "grid_auto_flow": null,
            "grid_area": null,
            "grid_template_columns": null,
            "flex": null,
            "_model_name": "LayoutModel",
            "justify_items": null,
            "grid_row": null,
            "max_height": null,
            "align_content": null,
            "visibility": null,
            "align_self": null,
            "height": null,
            "min_height": null,
            "padding": null,
            "grid_auto_rows": null,
            "grid_gap": null,
            "max_width": null,
            "order": null,
            "_view_module_version": "1.2.0",
            "grid_template_areas": null,
            "object_position": null,
            "object_fit": null,
            "grid_auto_columns": null,
            "margin": null,
            "display": null,
            "left": null
          }
        },
        "b705ff8b838446439f19ad748076b4ed": {
          "model_module": "@jupyter-widgets/controls",
          "model_name": "FloatProgressModel",
          "state": {
            "_view_name": "ProgressView",
            "style": "IPY_MODEL_9e33e6eff6564e8b81874acb5cef6061",
            "_dom_classes": [],
            "description": "Downloading: 100%",
            "_model_name": "FloatProgressModel",
            "bar_style": "success",
            "max": 458495,
            "_view_module": "@jupyter-widgets/controls",
            "_model_module_version": "1.5.0",
            "value": 458495,
            "_view_count": null,
            "_view_module_version": "1.5.0",
            "orientation": "horizontal",
            "min": 0,
            "description_tooltip": null,
            "_model_module": "@jupyter-widgets/controls",
            "layout": "IPY_MODEL_8d65c215956e443982b58fd5c6b189ce"
          }
        },
        "c052ae2469a546739373870fd3e57341": {
          "model_module": "@jupyter-widgets/controls",
          "model_name": "HTMLModel",
          "state": {
            "_view_name": "HTMLView",
            "style": "IPY_MODEL_a4cb92c74b284f268f1c40bd598b35f3",
            "_dom_classes": [],
            "description": "",
            "_model_name": "HTMLModel",
            "placeholder": "​",
            "_view_module": "@jupyter-widgets/controls",
            "_model_module_version": "1.5.0",
            "value": " 458k/458k [00:00&lt;00:00, 882kB/s]",
            "_view_count": null,
            "_view_module_version": "1.5.0",
            "description_tooltip": null,
            "_model_module": "@jupyter-widgets/controls",
            "layout": "IPY_MODEL_d28ee97ce5224f6bbbacda8c994f62f9"
          }
        },
        "9e33e6eff6564e8b81874acb5cef6061": {
          "model_module": "@jupyter-widgets/controls",
          "model_name": "ProgressStyleModel",
          "state": {
            "_view_name": "StyleView",
            "_model_name": "ProgressStyleModel",
            "description_width": "initial",
            "_view_module": "@jupyter-widgets/base",
            "_model_module_version": "1.5.0",
            "_view_count": null,
            "_view_module_version": "1.2.0",
            "bar_color": null,
            "_model_module": "@jupyter-widgets/controls"
          }
        },
        "8d65c215956e443982b58fd5c6b189ce": {
          "model_module": "@jupyter-widgets/base",
          "model_name": "LayoutModel",
          "state": {
            "_view_name": "LayoutView",
            "grid_template_rows": null,
            "right": null,
            "justify_content": null,
            "_view_module": "@jupyter-widgets/base",
            "overflow": null,
            "_model_module_version": "1.2.0",
            "_view_count": null,
            "flex_flow": null,
            "width": null,
            "min_width": null,
            "border": null,
            "align_items": null,
            "bottom": null,
            "_model_module": "@jupyter-widgets/base",
            "top": null,
            "grid_column": null,
            "overflow_y": null,
            "overflow_x": null,
            "grid_auto_flow": null,
            "grid_area": null,
            "grid_template_columns": null,
            "flex": null,
            "_model_name": "LayoutModel",
            "justify_items": null,
            "grid_row": null,
            "max_height": null,
            "align_content": null,
            "visibility": null,
            "align_self": null,
            "height": null,
            "min_height": null,
            "padding": null,
            "grid_auto_rows": null,
            "grid_gap": null,
            "max_width": null,
            "order": null,
            "_view_module_version": "1.2.0",
            "grid_template_areas": null,
            "object_position": null,
            "object_fit": null,
            "grid_auto_columns": null,
            "margin": null,
            "display": null,
            "left": null
          }
        },
        "a4cb92c74b284f268f1c40bd598b35f3": {
          "model_module": "@jupyter-widgets/controls",
          "model_name": "DescriptionStyleModel",
          "state": {
            "_view_name": "StyleView",
            "_model_name": "DescriptionStyleModel",
            "description_width": "",
            "_view_module": "@jupyter-widgets/base",
            "_model_module_version": "1.5.0",
            "_view_count": null,
            "_view_module_version": "1.2.0",
            "_model_module": "@jupyter-widgets/controls"
          }
        },
        "d28ee97ce5224f6bbbacda8c994f62f9": {
          "model_module": "@jupyter-widgets/base",
          "model_name": "LayoutModel",
          "state": {
            "_view_name": "LayoutView",
            "grid_template_rows": null,
            "right": null,
            "justify_content": null,
            "_view_module": "@jupyter-widgets/base",
            "overflow": null,
            "_model_module_version": "1.2.0",
            "_view_count": null,
            "flex_flow": null,
            "width": null,
            "min_width": null,
            "border": null,
            "align_items": null,
            "bottom": null,
            "_model_module": "@jupyter-widgets/base",
            "top": null,
            "grid_column": null,
            "overflow_y": null,
            "overflow_x": null,
            "grid_auto_flow": null,
            "grid_area": null,
            "grid_template_columns": null,
            "flex": null,
            "_model_name": "LayoutModel",
            "justify_items": null,
            "grid_row": null,
            "max_height": null,
            "align_content": null,
            "visibility": null,
            "align_self": null,
            "height": null,
            "min_height": null,
            "padding": null,
            "grid_auto_rows": null,
            "grid_gap": null,
            "max_width": null,
            "order": null,
            "_view_module_version": "1.2.0",
            "grid_template_areas": null,
            "object_position": null,
            "object_fit": null,
            "grid_auto_columns": null,
            "margin": null,
            "display": null,
            "left": null
          }
        },
        "9c4fc8eacaa242e1b6bb60d8200521b3": {
          "model_module": "@jupyter-widgets/controls",
          "model_name": "HBoxModel",
          "state": {
            "_view_name": "HBoxView",
            "_dom_classes": [],
            "_model_name": "HBoxModel",
            "_view_module": "@jupyter-widgets/controls",
            "_model_module_version": "1.5.0",
            "_view_count": null,
            "_view_module_version": "1.5.0",
            "box_style": "",
            "layout": "IPY_MODEL_009ff9984bd043b0822b28352ea89eae",
            "_model_module": "@jupyter-widgets/controls",
            "children": [
              "IPY_MODEL_9b7de89d2b5d4fe990c212d9029dd630",
              "IPY_MODEL_c3e37542b6984fa5a56375fcdb951271"
            ]
          }
        },
        "009ff9984bd043b0822b28352ea89eae": {
          "model_module": "@jupyter-widgets/base",
          "model_name": "LayoutModel",
          "state": {
            "_view_name": "LayoutView",
            "grid_template_rows": null,
            "right": null,
            "justify_content": null,
            "_view_module": "@jupyter-widgets/base",
            "overflow": null,
            "_model_module_version": "1.2.0",
            "_view_count": null,
            "flex_flow": null,
            "width": null,
            "min_width": null,
            "border": null,
            "align_items": null,
            "bottom": null,
            "_model_module": "@jupyter-widgets/base",
            "top": null,
            "grid_column": null,
            "overflow_y": null,
            "overflow_x": null,
            "grid_auto_flow": null,
            "grid_area": null,
            "grid_template_columns": null,
            "flex": null,
            "_model_name": "LayoutModel",
            "justify_items": null,
            "grid_row": null,
            "max_height": null,
            "align_content": null,
            "visibility": null,
            "align_self": null,
            "height": null,
            "min_height": null,
            "padding": null,
            "grid_auto_rows": null,
            "grid_gap": null,
            "max_width": null,
            "order": null,
            "_view_module_version": "1.2.0",
            "grid_template_areas": null,
            "object_position": null,
            "object_fit": null,
            "grid_auto_columns": null,
            "margin": null,
            "display": null,
            "left": null
          }
        },
        "9b7de89d2b5d4fe990c212d9029dd630": {
          "model_module": "@jupyter-widgets/controls",
          "model_name": "FloatProgressModel",
          "state": {
            "_view_name": "ProgressView",
            "style": "IPY_MODEL_f59f0cc923604ad4a17001999f959e04",
            "_dom_classes": [],
            "description": "Downloading: 100%",
            "_model_name": "FloatProgressModel",
            "bar_style": "success",
            "max": 1272610,
            "_view_module": "@jupyter-widgets/controls",
            "_model_module_version": "1.5.0",
            "value": 1272610,
            "_view_count": null,
            "_view_module_version": "1.5.0",
            "orientation": "horizontal",
            "min": 0,
            "description_tooltip": null,
            "_model_module": "@jupyter-widgets/controls",
            "layout": "IPY_MODEL_4c5170d1653b451ca3be7cb45590d123"
          }
        },
        "c3e37542b6984fa5a56375fcdb951271": {
          "model_module": "@jupyter-widgets/controls",
          "model_name": "HTMLModel",
          "state": {
            "_view_name": "HTMLView",
            "style": "IPY_MODEL_b15e0953eada4d0f83082c46bde99ad4",
            "_dom_classes": [],
            "description": "",
            "_model_name": "HTMLModel",
            "placeholder": "​",
            "_view_module": "@jupyter-widgets/controls",
            "_model_module_version": "1.5.0",
            "value": " 1.27M/1.27M [00:00&lt;00:00, 8.78MB/s]",
            "_view_count": null,
            "_view_module_version": "1.5.0",
            "description_tooltip": null,
            "_model_module": "@jupyter-widgets/controls",
            "layout": "IPY_MODEL_8088ef470213491a8905504527a956aa"
          }
        },
        "f59f0cc923604ad4a17001999f959e04": {
          "model_module": "@jupyter-widgets/controls",
          "model_name": "ProgressStyleModel",
          "state": {
            "_view_name": "StyleView",
            "_model_name": "ProgressStyleModel",
            "description_width": "initial",
            "_view_module": "@jupyter-widgets/base",
            "_model_module_version": "1.5.0",
            "_view_count": null,
            "_view_module_version": "1.2.0",
            "bar_color": null,
            "_model_module": "@jupyter-widgets/controls"
          }
        },
        "4c5170d1653b451ca3be7cb45590d123": {
          "model_module": "@jupyter-widgets/base",
          "model_name": "LayoutModel",
          "state": {
            "_view_name": "LayoutView",
            "grid_template_rows": null,
            "right": null,
            "justify_content": null,
            "_view_module": "@jupyter-widgets/base",
            "overflow": null,
            "_model_module_version": "1.2.0",
            "_view_count": null,
            "flex_flow": null,
            "width": null,
            "min_width": null,
            "border": null,
            "align_items": null,
            "bottom": null,
            "_model_module": "@jupyter-widgets/base",
            "top": null,
            "grid_column": null,
            "overflow_y": null,
            "overflow_x": null,
            "grid_auto_flow": null,
            "grid_area": null,
            "grid_template_columns": null,
            "flex": null,
            "_model_name": "LayoutModel",
            "justify_items": null,
            "grid_row": null,
            "max_height": null,
            "align_content": null,
            "visibility": null,
            "align_self": null,
            "height": null,
            "min_height": null,
            "padding": null,
            "grid_auto_rows": null,
            "grid_gap": null,
            "max_width": null,
            "order": null,
            "_view_module_version": "1.2.0",
            "grid_template_areas": null,
            "object_position": null,
            "object_fit": null,
            "grid_auto_columns": null,
            "margin": null,
            "display": null,
            "left": null
          }
        },
        "b15e0953eada4d0f83082c46bde99ad4": {
          "model_module": "@jupyter-widgets/controls",
          "model_name": "DescriptionStyleModel",
          "state": {
            "_view_name": "StyleView",
            "_model_name": "DescriptionStyleModel",
            "description_width": "",
            "_view_module": "@jupyter-widgets/base",
            "_model_module_version": "1.5.0",
            "_view_count": null,
            "_view_module_version": "1.2.0",
            "_model_module": "@jupyter-widgets/controls"
          }
        },
        "8088ef470213491a8905504527a956aa": {
          "model_module": "@jupyter-widgets/base",
          "model_name": "LayoutModel",
          "state": {
            "_view_name": "LayoutView",
            "grid_template_rows": null,
            "right": null,
            "justify_content": null,
            "_view_module": "@jupyter-widgets/base",
            "overflow": null,
            "_model_module_version": "1.2.0",
            "_view_count": null,
            "flex_flow": null,
            "width": null,
            "min_width": null,
            "border": null,
            "align_items": null,
            "bottom": null,
            "_model_module": "@jupyter-widgets/base",
            "top": null,
            "grid_column": null,
            "overflow_y": null,
            "overflow_x": null,
            "grid_auto_flow": null,
            "grid_area": null,
            "grid_template_columns": null,
            "flex": null,
            "_model_name": "LayoutModel",
            "justify_items": null,
            "grid_row": null,
            "max_height": null,
            "align_content": null,
            "visibility": null,
            "align_self": null,
            "height": null,
            "min_height": null,
            "padding": null,
            "grid_auto_rows": null,
            "grid_gap": null,
            "max_width": null,
            "order": null,
            "_view_module_version": "1.2.0",
            "grid_template_areas": null,
            "object_position": null,
            "object_fit": null,
            "grid_auto_columns": null,
            "margin": null,
            "display": null,
            "left": null
          }
        }
      }
    }
  },
  "cells": [
    {
      "cell_type": "markdown",
      "metadata": {
        "id": "Hc6Kf3GX-ioV"
      },
      "source": [
        "## **NLP with RNNs and Attention**"
      ]
    },
    {
      "cell_type": "code",
      "metadata": {
        "id": "sV4QZiNw-hz8"
      },
      "source": [
        "import sklearn\r\n",
        "import tensorflow as tf\r\n",
        "from tensorflow import keras\r\n",
        "\r\n",
        "import numpy as np\r\n",
        "import os\r\n",
        "\r\n",
        "import matplotlib as mpl\r\n",
        "import matplotlib.pyplot as plt"
      ],
      "execution_count": 1,
      "outputs": []
    },
    {
      "cell_type": "markdown",
      "metadata": {
        "id": "ulGacNnt-yar"
      },
      "source": [
        "### Char-RNN"
      ]
    },
    {
      "cell_type": "code",
      "metadata": {
        "colab": {
          "base_uri": "https://localhost:8080/"
        },
        "id": "qDJCTNQ5-xRC",
        "outputId": "6382fbc4-4966-4eb8-f549-db69fa0e42f0"
      },
      "source": [
        "## splitting up sequence into batches using windows\r\n",
        "# by shifting window of length 5, shifted by 2 eg [0, 1, 2, 3, 4] and [2, 3, 4, 5, 6]\r\n",
        "# create inputs and target e.g [[0,1,2,3] [1,2,3,4]]\r\n",
        "\r\n",
        "n_steps = 5\r\n",
        "dataset = tf.data.Dataset.from_tensor_slices(tf.range(15))\r\n",
        "dataset = dataset.window(n_steps, shift=2, drop_remainder=True)\r\n",
        "dataset = dataset.flat_map(lambda window: window.batch(n_steps))\r\n",
        "dataset = dataset.shuffle(10).map(lambda window: (window[:-1], window[1:]))\r\n",
        "dataset = dataset.batch(3).prefetch(1)\r\n",
        "for index, (X_batch, Y_batch) in enumerate(dataset):\r\n",
        "  print(\"_\" * 20, \"batch\", index, \"\\nX_batch\")\r\n",
        "  print(X_batch.numpy())\r\n",
        "  print(\"=\" * 5, \"\\nY_batch\")\r\n",
        "  print(Y_batch.numpy())"
      ],
      "execution_count": null,
      "outputs": [
        {
          "output_type": "stream",
          "text": [
            "____________________ batch 0 \n",
            "X_batch\n",
            "[[4 5 6 7]\n",
            " [0 1 2 3]\n",
            " [6 7 8 9]]\n",
            "===== \n",
            "Y_batch\n",
            "[[ 5  6  7  8]\n",
            " [ 1  2  3  4]\n",
            " [ 7  8  9 10]]\n",
            "____________________ batch 1 \n",
            "X_batch\n",
            "[[10 11 12 13]\n",
            " [ 8  9 10 11]\n",
            " [ 2  3  4  5]]\n",
            "===== \n",
            "Y_batch\n",
            "[[11 12 13 14]\n",
            " [ 9 10 11 12]\n",
            " [ 3  4  5  6]]\n"
          ],
          "name": "stdout"
        }
      ]
    },
    {
      "cell_type": "code",
      "metadata": {
        "colab": {
          "base_uri": "https://localhost:8080/"
        },
        "id": "L7JPXzWnCC_t",
        "outputId": "56dde244-5004-42bb-f5fa-ad1b5b1f7a3a"
      },
      "source": [
        "## Loading data and preprocessing\r\n",
        "shakespeare_url = \"https://raw.githubusercontent.com/karpathy/char-rnn/master/data/tinyshakespeare/input.txt\"\r\n",
        "filepath = keras.utils.get_file(\"shakespeare.txt\", shakespeare_url)\r\n",
        "with open(filepath) as f:\r\n",
        "  shakespeare_text = f.read()"
      ],
      "execution_count": null,
      "outputs": [
        {
          "output_type": "stream",
          "text": [
            "Downloading data from https://raw.githubusercontent.com/karpathy/char-rnn/master/data/tinyshakespeare/input.txt\n",
            "1122304/1115394 [==============================] - 0s 0us/step\n"
          ],
          "name": "stdout"
        }
      ]
    },
    {
      "cell_type": "code",
      "metadata": {
        "colab": {
          "base_uri": "https://localhost:8080/"
        },
        "id": "_bx6dr9PDNU4",
        "outputId": "f44608c9-d1d0-4b25-ffc5-e910a79e103b"
      },
      "source": [
        "print(shakespeare_text[:148])"
      ],
      "execution_count": null,
      "outputs": [
        {
          "output_type": "stream",
          "text": [
            "First Citizen:\n",
            "Before we proceed any further, hear me speak.\n",
            "\n",
            "All:\n",
            "Speak, speak.\n",
            "\n",
            "First Citizen:\n",
            "You are all resolved rather to die than to famish?\n",
            "\n"
          ],
          "name": "stdout"
        }
      ]
    },
    {
      "cell_type": "code",
      "metadata": {
        "colab": {
          "base_uri": "https://localhost:8080/",
          "height": 35
        },
        "id": "hWldHmsTDRRF",
        "outputId": "9bdd99ca-3bb9-4d74-aa6a-8b04886c9674"
      },
      "source": [
        "# all the characters in the text\r\n",
        "\"\".join(sorted(set(shakespeare_text.lower())))"
      ],
      "execution_count": null,
      "outputs": [
        {
          "output_type": "execute_result",
          "data": {
            "application/vnd.google.colaboratory.intrinsic+json": {
              "type": "string"
            },
            "text/plain": [
              "\"\\n !$&',-.3:;?abcdefghijklmnopqrstuvwxyz\""
            ]
          },
          "metadata": {
            "tags": []
          },
          "execution_count": 5
        }
      ]
    },
    {
      "cell_type": "code",
      "metadata": {
        "id": "dN5vfTV7Dd5s"
      },
      "source": [
        "# tokenize the text by character\r\n",
        "tokenizer = keras.preprocessing.text.Tokenizer(char_level=True)\r\n",
        "tokenizer.fit_on_texts(shakespeare_text)"
      ],
      "execution_count": null,
      "outputs": []
    },
    {
      "cell_type": "code",
      "metadata": {
        "colab": {
          "base_uri": "https://localhost:8080/"
        },
        "id": "76rrdxnODq_O",
        "outputId": "1cfe1e3b-91a5-41a1-a8fd-1441d7fa1159"
      },
      "source": [
        "tokenizer.texts_to_sequences([\"First\"])"
      ],
      "execution_count": null,
      "outputs": [
        {
          "output_type": "execute_result",
          "data": {
            "text/plain": [
              "[[20, 6, 9, 8, 3]]"
            ]
          },
          "metadata": {
            "tags": []
          },
          "execution_count": 7
        }
      ]
    },
    {
      "cell_type": "code",
      "metadata": {
        "colab": {
          "base_uri": "https://localhost:8080/"
        },
        "id": "Vx1bHCiZDva8",
        "outputId": "78818a86-6c8c-488c-a81a-ff345d0e6404"
      },
      "source": [
        "tokenizer.sequences_to_texts([[20, 6, 9, 8, 3]])"
      ],
      "execution_count": null,
      "outputs": [
        {
          "output_type": "execute_result",
          "data": {
            "text/plain": [
              "['f i r s t']"
            ]
          },
          "metadata": {
            "tags": []
          },
          "execution_count": 8
        }
      ]
    },
    {
      "cell_type": "code",
      "metadata": {
        "colab": {
          "base_uri": "https://localhost:8080/"
        },
        "id": "-Ek5VYRQD5gV",
        "outputId": "5c31fc8c-16ae-42d2-da80-a1ad9856368e"
      },
      "source": [
        "max_id = len(tokenizer.word_index) # num of distinct chars\r\n",
        "dataset_size = tokenizer.document_count\r\n",
        "print(max_id, dataset_size)"
      ],
      "execution_count": null,
      "outputs": [
        {
          "output_type": "stream",
          "text": [
            "39 1115394\n"
          ],
          "name": "stdout"
        }
      ]
    },
    {
      "cell_type": "code",
      "metadata": {
        "id": "dFIUimuAJqv2"
      },
      "source": [
        "[encoded] = np.array(tokenizer.texts_to_sequences([shakespeare_text])) - 1\r\n",
        "train_size = dataset_size * 90 // 100\r\n",
        "dataset = tf.data.Dataset.from_tensor_slices(encoded[:train_size])"
      ],
      "execution_count": null,
      "outputs": []
    },
    {
      "cell_type": "code",
      "metadata": {
        "id": "nexkNybxJ7U9"
      },
      "source": [
        "n_steps = 100\r\n",
        "window_length = n_steps + 1 # to create target data\r\n",
        "dataset = dataset.repeat().window(window_length, shift=1, drop_remainder=True)"
      ],
      "execution_count": null,
      "outputs": []
    },
    {
      "cell_type": "code",
      "metadata": {
        "id": "ysfG9l-NKWmd"
      },
      "source": [
        "dataset = dataset.flat_map(lambda window: window.batch(window_length))"
      ],
      "execution_count": null,
      "outputs": []
    },
    {
      "cell_type": "code",
      "metadata": {
        "id": "oS1jqlH8KcsG"
      },
      "source": [
        "batch_size = 32\r\n",
        "dataset = dataset.shuffle(10000).batch(batch_size)\r\n",
        "dataset = dataset.map(lambda windows: (windows[:, :-1], windows[:, 1:]))"
      ],
      "execution_count": null,
      "outputs": []
    },
    {
      "cell_type": "code",
      "metadata": {
        "id": "Km8EdLZJKnw9"
      },
      "source": [
        "# one hot encode X_batch\r\n",
        "dataset = dataset.map(\r\n",
        "    lambda X_batch, Y_batch: (tf.one_hot(X_batch, depth=max_id), Y_batch)\r\n",
        ")"
      ],
      "execution_count": null,
      "outputs": []
    },
    {
      "cell_type": "code",
      "metadata": {
        "id": "druNiesDLay1"
      },
      "source": [
        "dataset = dataset.prefetch(1)"
      ],
      "execution_count": null,
      "outputs": []
    },
    {
      "cell_type": "code",
      "metadata": {
        "colab": {
          "base_uri": "https://localhost:8080/"
        },
        "id": "rhVtdlM_LdWt",
        "outputId": "fde6bbdf-b354-443c-8cf3-7245bdf0158b"
      },
      "source": [
        "for X_batch, Y_batch in dataset.take(1):\r\n",
        "  print(X_batch.shape, Y_batch.shape)"
      ],
      "execution_count": null,
      "outputs": [
        {
          "output_type": "stream",
          "text": [
            "(32, 100, 39) (32, 100)\n"
          ],
          "name": "stdout"
        }
      ]
    },
    {
      "cell_type": "markdown",
      "metadata": {
        "id": "nxfx9h7iLnLB"
      },
      "source": [
        "### Training the model"
      ]
    },
    {
      "cell_type": "code",
      "metadata": {
        "colab": {
          "base_uri": "https://localhost:8080/"
        },
        "id": "C7Hwavo-LiaN",
        "outputId": "d5ad0487-b825-4ce3-b489-3f13929c3aac"
      },
      "source": [
        "model = keras.models.Sequential([\r\n",
        "    keras.layers.GRU(128, return_sequences=True, input_shape=[None, max_id], \r\n",
        "                     dropout=0.2, recurrent_dropout=0.2),\r\n",
        "    keras.layers.GRU(128, return_sequences=True, \r\n",
        "                     dropout=0.2, recurrent_dropout=0.2),\r\n",
        "    keras.layers.TimeDistributed(keras.layers.Dense(max_id, activation=\"softmax\"))\r\n",
        "])\r\n",
        "\r\n",
        "model.compile(loss=\"sparse_categorical_crossentropy\", optimizer=\"adam\")\r\n",
        "# supposedly should be, but takes too long to train\r\n",
        "# history = model.fit(dataset, steps_per_epoch=train_size // batch_size, epochs=10)\r\n",
        "history = model.fit(dataset.take(5000), steps_per_epoch=1000, epochs=5)"
      ],
      "execution_count": null,
      "outputs": [
        {
          "output_type": "stream",
          "text": [
            "WARNING:tensorflow:Layer gru_12 will not use cuDNN kernel since it doesn't meet the cuDNN kernel criteria. It will use generic GPU kernel as fallback when running on GPU\n",
            "WARNING:tensorflow:Layer gru_13 will not use cuDNN kernel since it doesn't meet the cuDNN kernel criteria. It will use generic GPU kernel as fallback when running on GPU\n",
            "Epoch 1/5\n",
            "1000/1000 [==============================] - 535s 530ms/step - loss: 2.4847\n",
            "Epoch 2/5\n",
            "1000/1000 [==============================] - 536s 536ms/step - loss: 1.7411\n",
            "Epoch 3/5\n",
            "1000/1000 [==============================] - 531s 531ms/step - loss: 1.5607\n",
            "Epoch 4/5\n",
            "1000/1000 [==============================] - 527s 527ms/step - loss: 1.5124\n",
            "Epoch 5/5\n",
            "1000/1000 [==============================] - 526s 526ms/step - loss: 1.5515\n"
          ],
          "name": "stdout"
        }
      ]
    },
    {
      "cell_type": "markdown",
      "metadata": {
        "id": "1tqzVDd0PSMe"
      },
      "source": [
        "### Using the Model to Generate Text"
      ]
    },
    {
      "cell_type": "code",
      "metadata": {
        "id": "0u_3CHIFND1u"
      },
      "source": [
        "def preprocess(texts):\r\n",
        "  X = np.array(tokenizer.texts_to_sequences(texts)) - 1\r\n",
        "  return tf.one_hot(X, max_id)"
      ],
      "execution_count": null,
      "outputs": []
    },
    {
      "cell_type": "code",
      "metadata": {
        "colab": {
          "base_uri": "https://localhost:8080/",
          "height": 35
        },
        "id": "8hdV7CcaQg_y",
        "outputId": "b7932101-f8ee-4f82-dca9-c3a7477cab7e"
      },
      "source": [
        "X_new = preprocess([\"How are yo\"])\r\n",
        "Y_pred = np.argmax(model.predict(X_new), axis=-1)\r\n",
        "tokenizer.sequences_to_texts(Y_pred + 1)[0][-1]"
      ],
      "execution_count": null,
      "outputs": [
        {
          "output_type": "execute_result",
          "data": {
            "application/vnd.google.colaboratory.intrinsic+json": {
              "type": "string"
            },
            "text/plain": [
              "'u'"
            ]
          },
          "metadata": {
            "tags": []
          },
          "execution_count": 32
        }
      ]
    },
    {
      "cell_type": "code",
      "metadata": {
        "colab": {
          "base_uri": "https://localhost:8080/"
        },
        "id": "Exg_FSoNQs-R",
        "outputId": "d1c399cf-8505-4f1f-ea4c-a6d0cd2aef1b"
      },
      "source": [
        "tf.random.categorical([[np.log(0.5), np.log(0.4), np.log(0.1)]], num_samples=40).numpy()"
      ],
      "execution_count": null,
      "outputs": [
        {
          "output_type": "execute_result",
          "data": {
            "text/plain": [
              "array([[0, 2, 1, 2, 0, 1, 0, 1, 0, 1, 0, 0, 0, 0, 0, 0, 1, 1, 0, 0, 0, 1,\n",
              "        0, 2, 1, 2, 0, 2, 2, 1, 1, 0, 0, 0, 1, 0, 0, 1, 0, 1]])"
            ]
          },
          "metadata": {
            "tags": []
          },
          "execution_count": 33
        }
      ]
    },
    {
      "cell_type": "code",
      "metadata": {
        "id": "C-Ar278gUjNG"
      },
      "source": [
        "def next_char(text, temperature=1):\r\n",
        "  X_new = preprocess([text])\r\n",
        "  y_proba = model.predict(X_new)[0, -1:, :]\r\n",
        "  rescaled_logits = tf.math.log(y_proba) / temperature\r\n",
        "  char_id = tf.random.categorical(rescaled_logits, num_samples=1) + 1\r\n",
        "  return tokenizer.sequences_to_texts(char_id.numpy())[0]"
      ],
      "execution_count": null,
      "outputs": []
    },
    {
      "cell_type": "code",
      "metadata": {
        "colab": {
          "base_uri": "https://localhost:8080/",
          "height": 35
        },
        "id": "_VHQeGBLVCVs",
        "outputId": "971ff26e-d56a-404e-d0be-0c607041fc21"
      },
      "source": [
        "next_char(\"How are yo\", temperature=1)"
      ],
      "execution_count": null,
      "outputs": [
        {
          "output_type": "execute_result",
          "data": {
            "application/vnd.google.colaboratory.intrinsic+json": {
              "type": "string"
            },
            "text/plain": [
              "'u'"
            ]
          },
          "metadata": {
            "tags": []
          },
          "execution_count": 35
        }
      ]
    },
    {
      "cell_type": "code",
      "metadata": {
        "id": "aFByX1VwVYFz"
      },
      "source": [
        "def complete_text(text, n_chars=50, temperature=1):\r\n",
        "  for _ in range(n_chars):\r\n",
        "    text += next_char(text, temperature)\r\n",
        "  return text"
      ],
      "execution_count": null,
      "outputs": []
    },
    {
      "cell_type": "code",
      "metadata": {
        "colab": {
          "base_uri": "https://localhost:8080/"
        },
        "id": "bs7ztN1XVh5k",
        "outputId": "8db22f02-df54-46a3-f6ba-9021eb756f2f"
      },
      "source": [
        "print(complete_text(\"t\", temperature=0.2))"
      ],
      "execution_count": null,
      "outputs": [
        {
          "output_type": "stream",
          "text": [
            "the send the country's soul the lady and the corse.\n"
          ],
          "name": "stdout"
        }
      ]
    },
    {
      "cell_type": "code",
      "metadata": {
        "colab": {
          "base_uri": "https://localhost:8080/"
        },
        "id": "7tusyn15VoWC",
        "outputId": "3c55b9ed-ac8a-4bb3-d417-13a58f9d7a1b"
      },
      "source": [
        "print(complete_text(\"t\", temperature=1))"
      ],
      "execution_count": null,
      "outputs": [
        {
          "output_type": "stream",
          "text": [
            "treadzargns and inforce.\n",
            "had thee heart for he is n\n"
          ],
          "name": "stdout"
        }
      ]
    },
    {
      "cell_type": "code",
      "metadata": {
        "colab": {
          "base_uri": "https://localhost:8080/"
        },
        "id": "anu7vOvyVrBv",
        "outputId": "11527b42-5eca-4bc6-f033-7700373aa974"
      },
      "source": [
        "print(complete_text(\"t\", temperature=2))"
      ],
      "execution_count": null,
      "outputs": [
        {
          "output_type": "stream",
          "text": [
            "t, slimg\n",
            "kitd catuoalewmme! by be't plucy, mygencza\n"
          ],
          "name": "stdout"
        }
      ]
    },
    {
      "cell_type": "markdown",
      "metadata": {
        "id": "ApZ5Jw-vnFue"
      },
      "source": [
        "### Stateful RNN"
      ]
    },
    {
      "cell_type": "code",
      "metadata": {
        "id": "0YgsQCRff1XL"
      },
      "source": [
        "dataset = tf.data.Dataset.from_tensor_slices(encoded[:train_size])\r\n",
        "dataset = dataset.window(window_length, shift=n_steps, drop_remainder=True)\r\n",
        "dataset = dataset.flat_map(lambda window: window.batch(window_length))\r\n",
        "dataset = dataset.repeat().batch(1)\r\n",
        "dataset = dataset.map(lambda windows: (windows[:, :-1], windows[:, 1:]))\r\n",
        "dataset = dataset.map(\r\n",
        "    lambda X_batch, Y_batch: (tf.one_hot(X_batch, depth=max_id), Y_batch)\r\n",
        ")\r\n",
        "dataset = dataset.prefetch(1)"
      ],
      "execution_count": null,
      "outputs": []
    },
    {
      "cell_type": "code",
      "metadata": {
        "id": "UEgu6CaIn1Hp"
      },
      "source": [
        "batch_size = 32\r\n",
        "encoded_parts = np.array_split(encoded[:train_size], batch_size)\r\n",
        "datasets = []\r\n",
        "for encoded_part in encoded_parts:\r\n",
        "  dataset = tf.data.Dataset.from_tensor_slices(encoded_part)\r\n",
        "  dataset = dataset.window(window_length, shift=n_steps, drop_remainder=True)\r\n",
        "  dataset = dataset.flat_map(lambda window: window.batch(window_length))\r\n",
        "  datasets.append(dataset)\r\n",
        "dataset = tf.data.Dataset.zip(tuple(datasets)).map(lambda *windows: tf.stack(windows))\r\n",
        "dataset = dataset.repeat().map(lambda windows: (windows[:, :-1], windows[:, 1:]))\r\n",
        "dataset = dataset.map(\r\n",
        "    lambda X_batch, Y_batch: (tf.one_hot(X_batch, depth=max_id), Y_batch)\r\n",
        ")\r\n",
        "dataset = dataset.prefetch(1)"
      ],
      "execution_count": null,
      "outputs": []
    },
    {
      "cell_type": "code",
      "metadata": {
        "id": "2JFJW-I1pPhV"
      },
      "source": [
        "model = keras.models.Sequential([\r\n",
        "    keras.layers.GRU(128, return_sequences=True, stateful=True,\r\n",
        "                     dropout=0.2, recurrent_dropout=0.2,\r\n",
        "                     batch_input_shape=[batch_size, None, max_id]),\r\n",
        "    keras.layers.GRU(128, return_sequences=True, stateful=True,\r\n",
        "                     dropout=0.2, recurrent_dropout=0.2),\r\n",
        "    keras.layers.TimeDistributed(keras.layers.Dense(max_id, activation=\"softmax\"))\r\n",
        "])"
      ],
      "execution_count": null,
      "outputs": []
    },
    {
      "cell_type": "code",
      "metadata": {
        "id": "AOtLUCAsp-KL"
      },
      "source": [
        "class ResetStatesCallback(keras.callbacks.Callback):\r\n",
        "  def on_epoch_begin(self, epoch, logs):\r\n",
        "    self.model.reset_states()"
      ],
      "execution_count": null,
      "outputs": []
    },
    {
      "cell_type": "code",
      "metadata": {
        "colab": {
          "base_uri": "https://localhost:8080/"
        },
        "id": "K3jf2x1Aqb1P",
        "outputId": "b0838f76-8284-4469-990f-68ea99f8d9c8"
      },
      "source": [
        "model.compile(loss=\"sparse_categorical_crossentropy\", optimizer=\"adam\")\r\n",
        "steps_per_epoch = train_size // batch_size // n_steps\r\n",
        "history = model.fit(dataset, steps_per_epoch=steps_per_epoch, epochs=50,\r\n",
        "                    callbacks=[ResetStatesCallback()])"
      ],
      "execution_count": null,
      "outputs": [
        {
          "output_type": "stream",
          "text": [
            "Epoch 1/50\n",
            "313/313 [==============================] - 127s 394ms/step - loss: 2.9127\n",
            "Epoch 2/50\n",
            "313/313 [==============================] - 123s 393ms/step - loss: 2.2382\n",
            "Epoch 3/50\n",
            "313/313 [==============================] - 123s 393ms/step - loss: 2.0507\n",
            "Epoch 4/50\n",
            "313/313 [==============================] - 124s 396ms/step - loss: 2.0642\n",
            "Epoch 5/50\n",
            "313/313 [==============================] - 124s 397ms/step - loss: 1.8877\n",
            "Epoch 6/50\n",
            "313/313 [==============================] - 125s 399ms/step - loss: 2.1515\n",
            "Epoch 7/50\n",
            "313/313 [==============================] - 125s 398ms/step - loss: 1.8925\n",
            "Epoch 8/50\n",
            "313/313 [==============================] - 124s 397ms/step - loss: 1.9084\n",
            "Epoch 9/50\n",
            "313/313 [==============================] - 124s 397ms/step - loss: 2.1817\n",
            "Epoch 10/50\n",
            "313/313 [==============================] - 124s 396ms/step - loss: 1.9583\n",
            "Epoch 11/50\n",
            "313/313 [==============================] - 124s 398ms/step - loss: 1.9823\n",
            "Epoch 12/50\n",
            "313/313 [==============================] - 126s 401ms/step - loss: 2.1565\n",
            "Epoch 13/50\n",
            "313/313 [==============================] - 125s 398ms/step - loss: 1.8322\n",
            "Epoch 14/50\n",
            "313/313 [==============================] - 125s 398ms/step - loss: 1.7866\n",
            "Epoch 15/50\n",
            "313/313 [==============================] - 125s 398ms/step - loss: 1.7404\n",
            "Epoch 16/50\n",
            "313/313 [==============================] - 125s 399ms/step - loss: 1.7386\n",
            "Epoch 17/50\n",
            "313/313 [==============================] - 124s 397ms/step - loss: 1.6792\n",
            "Epoch 18/50\n",
            "313/313 [==============================] - 126s 401ms/step - loss: 1.6698\n",
            "Epoch 19/50\n",
            "313/313 [==============================] - 125s 400ms/step - loss: 1.6604\n",
            "Epoch 20/50\n",
            "313/313 [==============================] - 125s 400ms/step - loss: 1.6533\n",
            "Epoch 21/50\n",
            "313/313 [==============================] - 125s 400ms/step - loss: 1.6460\n",
            "Epoch 22/50\n",
            "313/313 [==============================] - 125s 398ms/step - loss: 1.6394\n",
            "Epoch 23/50\n",
            "313/313 [==============================] - 126s 401ms/step - loss: 1.6351\n",
            "Epoch 24/50\n",
            "313/313 [==============================] - 125s 398ms/step - loss: 1.6293\n",
            "Epoch 25/50\n",
            "313/313 [==============================] - 124s 397ms/step - loss: 1.6247\n",
            "Epoch 26/50\n",
            "313/313 [==============================] - 125s 398ms/step - loss: 1.6206\n",
            "Epoch 27/50\n",
            "313/313 [==============================] - 125s 398ms/step - loss: 1.6169\n",
            "Epoch 28/50\n",
            "313/313 [==============================] - 125s 399ms/step - loss: 1.6117\n",
            "Epoch 29/50\n",
            "313/313 [==============================] - 125s 398ms/step - loss: 1.6078\n",
            "Epoch 30/50\n",
            "313/313 [==============================] - 125s 398ms/step - loss: 1.6035\n",
            "Epoch 31/50\n",
            "313/313 [==============================] - 125s 400ms/step - loss: 1.6010\n",
            "Epoch 32/50\n",
            "313/313 [==============================] - 125s 398ms/step - loss: 1.5989\n",
            "Epoch 33/50\n",
            "313/313 [==============================] - 124s 397ms/step - loss: 1.5942\n",
            "Epoch 34/50\n",
            "313/313 [==============================] - 125s 399ms/step - loss: 1.5925\n",
            "Epoch 35/50\n",
            "313/313 [==============================] - 125s 399ms/step - loss: 1.5903\n",
            "Epoch 36/50\n",
            "313/313 [==============================] - 125s 399ms/step - loss: 1.5860\n",
            "Epoch 37/50\n",
            "313/313 [==============================] - 126s 401ms/step - loss: 1.5847\n",
            "Epoch 38/50\n",
            "313/313 [==============================] - 125s 400ms/step - loss: 1.5810\n",
            "Epoch 39/50\n",
            "313/313 [==============================] - 125s 399ms/step - loss: 1.5799\n",
            "Epoch 40/50\n",
            "313/313 [==============================] - 125s 399ms/step - loss: 1.5764\n",
            "Epoch 41/50\n",
            "313/313 [==============================] - 124s 398ms/step - loss: 1.5757\n",
            "Epoch 42/50\n",
            "313/313 [==============================] - 125s 398ms/step - loss: 1.5740\n",
            "Epoch 43/50\n",
            "313/313 [==============================] - 125s 398ms/step - loss: 1.5726\n",
            "Epoch 44/50\n",
            "313/313 [==============================] - 125s 399ms/step - loss: 1.5699\n",
            "Epoch 45/50\n",
            "313/313 [==============================] - 124s 396ms/step - loss: 1.5674\n",
            "Epoch 46/50\n",
            "313/313 [==============================] - 125s 399ms/step - loss: 1.5672\n",
            "Epoch 47/50\n",
            "313/313 [==============================] - 124s 398ms/step - loss: 1.5641\n",
            "Epoch 48/50\n",
            "313/313 [==============================] - 124s 397ms/step - loss: 1.5630\n",
            "Epoch 49/50\n",
            "313/313 [==============================] - 125s 399ms/step - loss: 1.5629\n",
            "Epoch 50/50\n",
            "313/313 [==============================] - 125s 400ms/step - loss: 1.5596\n"
          ],
          "name": "stdout"
        }
      ]
    },
    {
      "cell_type": "code",
      "metadata": {
        "id": "LS3ITI6RqrdY"
      },
      "source": [
        "# to use the model on different batch size, we need to create a stateless copy\r\n",
        "stateless_model = keras.models.Sequential([\r\n",
        "    keras.layers.GRU(128, return_sequences=True, input_shape=[None, max_id]),\r\n",
        "    keras.layers.GRU(128, return_sequences=True),\r\n",
        "    keras.layers.TimeDistributed(keras.layers.Dense(max_id, activation=\"softmax\"))\r\n",
        "])\r\n",
        "\r\n",
        "# no need to add dropout since it is only used during training"
      ],
      "execution_count": null,
      "outputs": []
    },
    {
      "cell_type": "code",
      "metadata": {
        "id": "q_qCW-dUsUfu"
      },
      "source": [
        "stateless_model.build(tf.TensorShape([None, None, max_id]))\r\n",
        "\r\n",
        "# then add weights\r\n",
        "stateless_model.set_weights(model.get_weights())\r\n",
        "model = stateless_model"
      ],
      "execution_count": null,
      "outputs": []
    },
    {
      "cell_type": "code",
      "metadata": {
        "colab": {
          "base_uri": "https://localhost:8080/"
        },
        "id": "uYO78rLQspG2",
        "outputId": "ef09f68b-a592-4df7-b269-18eb583091cc"
      },
      "source": [
        "# hmm not so good\r\n",
        "print(complete_text(\"t\"))"
      ],
      "execution_count": null,
      "outputs": [
        {
          "output_type": "stream",
          "text": [
            "t.\n",
            "\n",
            "bittentio:\n",
            "though he watch i mame fellow, leate\n"
          ],
          "name": "stdout"
        }
      ]
    },
    {
      "cell_type": "markdown",
      "metadata": {
        "id": "l_g675-Csxu6"
      },
      "source": [
        "### Sentiment Analysis"
      ]
    },
    {
      "cell_type": "code",
      "metadata": {
        "colab": {
          "base_uri": "https://localhost:8080/"
        },
        "id": "BwU_aYyzsw8v",
        "outputId": "dae6acaa-a0b0-4fd6-89d7-a67c5be92c5b"
      },
      "source": [
        "# use IMDB dataset\r\n",
        "(X_train, y_train), (X_test, y_test) = keras.datasets.imdb.load_data()"
      ],
      "execution_count": null,
      "outputs": [
        {
          "output_type": "stream",
          "text": [
            "Downloading data from https://storage.googleapis.com/tensorflow/tf-keras-datasets/imdb.npz\n",
            "17465344/17464789 [==============================] - 0s 0us/step\n"
          ],
          "name": "stdout"
        },
        {
          "output_type": "stream",
          "text": [
            "<string>:6: VisibleDeprecationWarning: Creating an ndarray from ragged nested sequences (which is a list-or-tuple of lists-or-tuples-or ndarrays with different lengths or shapes) is deprecated. If you meant to do this, you must specify 'dtype=object' when creating the ndarray\n",
            "/usr/local/lib/python3.7/dist-packages/tensorflow/python/keras/datasets/imdb.py:159: VisibleDeprecationWarning: Creating an ndarray from ragged nested sequences (which is a list-or-tuple of lists-or-tuples-or ndarrays with different lengths or shapes) is deprecated. If you meant to do this, you must specify 'dtype=object' when creating the ndarray\n",
            "  x_train, y_train = np.array(xs[:idx]), np.array(labels[:idx])\n",
            "/usr/local/lib/python3.7/dist-packages/tensorflow/python/keras/datasets/imdb.py:160: VisibleDeprecationWarning: Creating an ndarray from ragged nested sequences (which is a list-or-tuple of lists-or-tuples-or ndarrays with different lengths or shapes) is deprecated. If you meant to do this, you must specify 'dtype=object' when creating the ndarray\n",
            "  x_test, y_test = np.array(xs[idx:]), np.array(labels[idx:])\n"
          ],
          "name": "stderr"
        }
      ]
    },
    {
      "cell_type": "code",
      "metadata": {
        "colab": {
          "base_uri": "https://localhost:8080/"
        },
        "id": "kU2edvl92PVt",
        "outputId": "0d5b6509-7c61-4c60-f215-977f6d54fc1f"
      },
      "source": [
        "# data comes preprocessed\r\n",
        "X_train[0][:10]"
      ],
      "execution_count": null,
      "outputs": [
        {
          "output_type": "execute_result",
          "data": {
            "text/plain": [
              "[1, 14, 22, 16, 43, 530, 973, 1622, 1385, 65]"
            ]
          },
          "metadata": {
            "tags": []
          },
          "execution_count": 32
        }
      ]
    },
    {
      "cell_type": "code",
      "metadata": {
        "colab": {
          "base_uri": "https://localhost:8080/",
          "height": 69
        },
        "id": "_nl-lk5e2Sgx",
        "outputId": "eb564274-1cf2-4000-9205-25725c6b4222"
      },
      "source": [
        "word_index = keras.datasets.imdb.get_word_index()\r\n",
        "id_to_word = {id_ + 3: word for word, id_ in word_index.items()}\r\n",
        "for id_, token in enumerate((\"<pad>\", \"<sos>\", \"<unk>\")):\r\n",
        "  id_to_word[id_] = token\r\n",
        "\" \".join([id_to_word[id_] for id_ in X_train[0][:10]])"
      ],
      "execution_count": null,
      "outputs": [
        {
          "output_type": "stream",
          "text": [
            "Downloading data from https://storage.googleapis.com/tensorflow/tf-keras-datasets/imdb_word_index.json\n",
            "1646592/1641221 [==============================] - 0s 0us/step\n"
          ],
          "name": "stdout"
        },
        {
          "output_type": "execute_result",
          "data": {
            "application/vnd.google.colaboratory.intrinsic+json": {
              "type": "string"
            },
            "text/plain": [
              "'<sos> this film was just brilliant casting location scenery story'"
            ]
          },
          "metadata": {
            "tags": []
          },
          "execution_count": 33
        }
      ]
    },
    {
      "cell_type": "code",
      "metadata": {
        "colab": {
          "base_uri": "https://localhost:8080/",
          "height": 367,
          "referenced_widgets": [
            "9a1ac3b1128044d6812e1b63774ac8fc",
            "8595f29535e147199f750c726b52ecea",
            "a5624c2fb852471581b6e13d8d7c3b1e",
            "0c71c16d151841a0bc1934956fc92ca0",
            "8f5047b8b683482f91d186fe958ebea1",
            "945f754b5cff468bb802104f6427ef16",
            "91adc588a76b45a2b429830e031aa733",
            "421c89660e46412ba51c2b8ce231fbe7",
            "cff694ed714043bebe1540691662176c",
            "cac1356561d94cd9a01fd7203031607a",
            "3c98445376be4e9dae682f3488db3b6e",
            "36e971295caf41279517095b25b2d276",
            "97c2be3af6374684894ef6d8894f9839",
            "6fe4be4a8b6046eb863d6991756a7e2e",
            "20b19e137de44bae8dbd62a9de5aedb6",
            "9dfe836ecfde408fba3998fe2a66527c",
            "294ded5d6faa4070b9bd9e167181befa",
            "fdf66ac6bee348978ad782f457c3ea7c",
            "b40ef2525d6944e6a34430f75b4bf55b",
            "2c47db45104247e9b2273969a004d7d9",
            "24037a749d814676b9fd7422bfe9baef",
            "0c536836ab3a4da0bb45b6cf7bbb9e4f",
            "8ce07019446e453aa0559d3d2010a446",
            "19101b15c6e34322813c6300ac7282c3",
            "cdd37f5d9020451fb620ce228970e46a",
            "0cf6c91c938645968ebf5d1abe51b6d0",
            "888fb0387ff9408ba9cc55ff48a6ee20",
            "323de37e9307413894ab3d68e1668ad2",
            "052f6914d6304e33bd8be73827403f92",
            "8debb61873e6448fa134eb5a2ec88351",
            "25bfeabfb3fe4dc9bab26e086b3cb462",
            "f8b91dd659a3480fa079265a86bf35e4",
            "81297a5be2474aabba6b95eee4b17e4f",
            "37affc2e9e0f4ab8bd6c023320dc8c37",
            "89e7ef7eee994be789df672fac6ced39",
            "400772cecee44855b8292b7390b1842b",
            "a4547f265ab94d558d700e3e04d28f40",
            "74bf4a042b9e4609a102287f6040626b",
            "3f3c312cbe334030885e4c71f8d83033",
            "f49912b7b7e44605bb017dff129b07d4",
            "f96a7fd6e5b149acb193ca992da14356",
            "80ae18181fa64aa7a229fb21f24be9d7",
            "b33bbbcf97f0445d8017863857556acd",
            "5ef7913b0e48461a92c0a04a6db71ec7",
            "4fab02ea0fe948d68d138057c3b6f8cf",
            "4e763128b07949a582cb03ed78cdc941",
            "232f7b1138214a7a9a7338569d2f2fed",
            "15c940c627c5496d90cc7578107a0d01",
            "39932790919a461e93c4527b8466fd92",
            "643eaa075530420a9cde4beb910d0a0c",
            "97b425bd9623403e8ba633e960323c9f",
            "1470dc2a7e9b4651962e0662699b39be",
            "3af1d422799f482aa2c9e57390bf296a",
            "f44929c90bb140738caf0451458ec1f1",
            "28ee63b2d2bd4887bfeeaf068e4fc0db",
            "71eae9bebd064a2d9296ea1bde213c8f",
            "003e238301544bd0ae6c95f96e4cc919",
            "bedd3a1145c74766a2a25efc03082901",
            "33d8728aa0764a75957dd19b6eb76d79",
            "11942f0797c748449d733cd1d6a68907",
            "e1a3715176b848e79d8f48737e450a78",
            "0c601ef862184ebab59c95e6df4e8cbb",
            "9632cc6048704b4085841202953f561f",
            "0f0bdc624c5f426fa8d63348f1eea9a8"
          ]
        },
        "id": "EB2PqSZF35Vk",
        "outputId": "835de111-cc56-454e-e190-7970940a9f28"
      },
      "source": [
        "# can also get the txt data\r\n",
        "import tensorflow_datasets as tfds\r\n",
        "\r\n",
        "datasets, info = tfds.load(\"imdb_reviews\", as_supervised=True, with_info=True)"
      ],
      "execution_count": null,
      "outputs": [
        {
          "output_type": "stream",
          "text": [
            "\u001b[1mDownloading and preparing dataset imdb_reviews/plain_text/1.0.0 (download: 80.23 MiB, generated: Unknown size, total: 80.23 MiB) to /root/tensorflow_datasets/imdb_reviews/plain_text/1.0.0...\u001b[0m\n"
          ],
          "name": "stdout"
        },
        {
          "output_type": "display_data",
          "data": {
            "application/vnd.jupyter.widget-view+json": {
              "model_id": "9a1ac3b1128044d6812e1b63774ac8fc",
              "version_minor": 0,
              "version_major": 2
            },
            "text/plain": [
              "HBox(children=(FloatProgress(value=1.0, bar_style='info', description='Dl Completed...', max=1.0, style=Progre…"
            ]
          },
          "metadata": {
            "tags": []
          }
        },
        {
          "output_type": "display_data",
          "data": {
            "application/vnd.jupyter.widget-view+json": {
              "model_id": "cff694ed714043bebe1540691662176c",
              "version_minor": 0,
              "version_major": 2
            },
            "text/plain": [
              "HBox(children=(FloatProgress(value=1.0, bar_style='info', description='Dl Size...', max=1.0, style=ProgressSty…"
            ]
          },
          "metadata": {
            "tags": []
          }
        },
        {
          "output_type": "stream",
          "text": [
            "\n",
            "\n",
            "\n",
            "\n"
          ],
          "name": "stdout"
        },
        {
          "output_type": "display_data",
          "data": {
            "application/vnd.jupyter.widget-view+json": {
              "model_id": "294ded5d6faa4070b9bd9e167181befa",
              "version_minor": 0,
              "version_major": 2
            },
            "text/plain": [
              "HBox(children=(FloatProgress(value=1.0, bar_style='info', max=1.0), HTML(value='')))"
            ]
          },
          "metadata": {
            "tags": []
          }
        },
        {
          "output_type": "stream",
          "text": [
            "\rShuffling and writing examples to /root/tensorflow_datasets/imdb_reviews/plain_text/1.0.0.incompleteGQSQL2/imdb_reviews-train.tfrecord\n"
          ],
          "name": "stdout"
        },
        {
          "output_type": "display_data",
          "data": {
            "application/vnd.jupyter.widget-view+json": {
              "model_id": "cdd37f5d9020451fb620ce228970e46a",
              "version_minor": 0,
              "version_major": 2
            },
            "text/plain": [
              "HBox(children=(FloatProgress(value=0.0, max=25000.0), HTML(value='')))"
            ]
          },
          "metadata": {
            "tags": []
          }
        },
        {
          "output_type": "stream",
          "text": [
            "\r"
          ],
          "name": "stdout"
        },
        {
          "output_type": "display_data",
          "data": {
            "application/vnd.jupyter.widget-view+json": {
              "model_id": "81297a5be2474aabba6b95eee4b17e4f",
              "version_minor": 0,
              "version_major": 2
            },
            "text/plain": [
              "HBox(children=(FloatProgress(value=1.0, bar_style='info', max=1.0), HTML(value='')))"
            ]
          },
          "metadata": {
            "tags": []
          }
        },
        {
          "output_type": "stream",
          "text": [
            "\rShuffling and writing examples to /root/tensorflow_datasets/imdb_reviews/plain_text/1.0.0.incompleteGQSQL2/imdb_reviews-test.tfrecord\n"
          ],
          "name": "stdout"
        },
        {
          "output_type": "display_data",
          "data": {
            "application/vnd.jupyter.widget-view+json": {
              "model_id": "f96a7fd6e5b149acb193ca992da14356",
              "version_minor": 0,
              "version_major": 2
            },
            "text/plain": [
              "HBox(children=(FloatProgress(value=0.0, max=25000.0), HTML(value='')))"
            ]
          },
          "metadata": {
            "tags": []
          }
        },
        {
          "output_type": "stream",
          "text": [
            "\r"
          ],
          "name": "stdout"
        },
        {
          "output_type": "display_data",
          "data": {
            "application/vnd.jupyter.widget-view+json": {
              "model_id": "39932790919a461e93c4527b8466fd92",
              "version_minor": 0,
              "version_major": 2
            },
            "text/plain": [
              "HBox(children=(FloatProgress(value=1.0, bar_style='info', max=1.0), HTML(value='')))"
            ]
          },
          "metadata": {
            "tags": []
          }
        },
        {
          "output_type": "stream",
          "text": [
            "\rShuffling and writing examples to /root/tensorflow_datasets/imdb_reviews/plain_text/1.0.0.incompleteGQSQL2/imdb_reviews-unsupervised.tfrecord\n"
          ],
          "name": "stdout"
        },
        {
          "output_type": "display_data",
          "data": {
            "application/vnd.jupyter.widget-view+json": {
              "model_id": "003e238301544bd0ae6c95f96e4cc919",
              "version_minor": 0,
              "version_major": 2
            },
            "text/plain": [
              "HBox(children=(FloatProgress(value=0.0, max=50000.0), HTML(value='')))"
            ]
          },
          "metadata": {
            "tags": []
          }
        },
        {
          "output_type": "stream",
          "text": [
            "WARNING:absl:Dataset is using deprecated text encoder API which will be removed soon. Please use the plain_text version of the dataset and migrate to `tensorflow_text`.\n"
          ],
          "name": "stderr"
        },
        {
          "output_type": "stream",
          "text": [
            "\u001b[1mDataset imdb_reviews downloaded and prepared to /root/tensorflow_datasets/imdb_reviews/plain_text/1.0.0. Subsequent calls will reuse this data.\u001b[0m\n",
            "\r"
          ],
          "name": "stdout"
        }
      ]
    },
    {
      "cell_type": "code",
      "metadata": {
        "colab": {
          "base_uri": "https://localhost:8080/"
        },
        "id": "6-MC60AP5hw9",
        "outputId": "90ff7e8d-b59c-4ca0-9e24-c78a04b76fe4"
      },
      "source": [
        "datasets.keys()"
      ],
      "execution_count": null,
      "outputs": [
        {
          "output_type": "execute_result",
          "data": {
            "text/plain": [
              "dict_keys(['test', 'train', 'unsupervised'])"
            ]
          },
          "metadata": {
            "tags": []
          },
          "execution_count": 35
        }
      ]
    },
    {
      "cell_type": "code",
      "metadata": {
        "id": "CSSVEbTH5k-F"
      },
      "source": [
        "train_size = info.splits[\"train\"].num_examples\r\n",
        "test_size = info.splits[\"test\"].num_examples"
      ],
      "execution_count": null,
      "outputs": []
    },
    {
      "cell_type": "code",
      "metadata": {
        "colab": {
          "base_uri": "https://localhost:8080/"
        },
        "id": "MtAbC8N85zxR",
        "outputId": "efe8cfe1-c6ca-4560-8781-623c3a01aef4"
      },
      "source": [
        "train_size, test_size"
      ],
      "execution_count": null,
      "outputs": [
        {
          "output_type": "execute_result",
          "data": {
            "text/plain": [
              "(25000, 25000)"
            ]
          },
          "metadata": {
            "tags": []
          },
          "execution_count": 37
        }
      ]
    },
    {
      "cell_type": "code",
      "metadata": {
        "colab": {
          "base_uri": "https://localhost:8080/"
        },
        "id": "ex2sFIZJ51rQ",
        "outputId": "47201f95-033f-49cf-8d53-4ad8ff7f565c"
      },
      "source": [
        "for X_batch, y_batch in datasets[\"train\"].batch(2).take(1):\r\n",
        "  for review, label in zip(X_batch.numpy(), y_batch.numpy()):\r\n",
        "    print(\"Review:\", review.decode(\"utf-8\")[:200], \"...\")\r\n",
        "    print(\"Label:\", label, \"=Positive\" if label else \"= Negative\")\r\n",
        "    print()"
      ],
      "execution_count": null,
      "outputs": [
        {
          "output_type": "stream",
          "text": [
            "Review: This was an absolutely terrible movie. Don't be lured in by Christopher Walken or Michael Ironside. Both are great actors, but this must simply be their worst role in history. Even their great acting  ...\n",
            "Label: 0 = Negative\n",
            "\n",
            "Review: I have been known to fall asleep during films, but this is usually due to a combination of things including, really tired, being warm and comfortable on the sette and having just eaten a lot. However  ...\n",
            "Label: 0 = Negative\n",
            "\n"
          ],
          "name": "stdout"
        }
      ]
    },
    {
      "cell_type": "code",
      "metadata": {
        "id": "7JEB92ul6i_j"
      },
      "source": [
        "def preprocess(X_batch, y_batch):\r\n",
        "  X_batch = tf.strings.substr(X_batch, 0, 300)\r\n",
        "  X_batch = tf.strings.regex_replace(X_batch, rb\"<br\\s*/?>\", b\" \")\r\n",
        "  X_batch = tf.strings.regex_replace(X_batch, b\"[^a-zA-Z']\", b\" \")\r\n",
        "  X_batch = tf.strings.split(X_batch)\r\n",
        "  return X_batch.to_tensor(default_value=b\"<pad>\"), y_batch"
      ],
      "execution_count": null,
      "outputs": []
    },
    {
      "cell_type": "code",
      "metadata": {
        "colab": {
          "base_uri": "https://localhost:8080/"
        },
        "id": "bMGKvFeL7CvE",
        "outputId": "e53653d3-e58a-439b-a1b3-fd3091f4e312"
      },
      "source": [
        "preprocess(X_batch, y_batch)"
      ],
      "execution_count": null,
      "outputs": [
        {
          "output_type": "execute_result",
          "data": {
            "text/plain": [
              "(<tf.Tensor: shape=(2, 53), dtype=string, numpy=\n",
              " array([[b'This', b'was', b'an', b'absolutely', b'terrible', b'movie',\n",
              "         b\"Don't\", b'be', b'lured', b'in', b'by', b'Christopher',\n",
              "         b'Walken', b'or', b'Michael', b'Ironside', b'Both', b'are',\n",
              "         b'great', b'actors', b'but', b'this', b'must', b'simply', b'be',\n",
              "         b'their', b'worst', b'role', b'in', b'history', b'Even',\n",
              "         b'their', b'great', b'acting', b'could', b'not', b'redeem',\n",
              "         b'this', b\"movie's\", b'ridiculous', b'storyline', b'This',\n",
              "         b'movie', b'is', b'an', b'early', b'nineties', b'US',\n",
              "         b'propaganda', b'pi', b'<pad>', b'<pad>', b'<pad>'],\n",
              "        [b'I', b'have', b'been', b'known', b'to', b'fall', b'asleep',\n",
              "         b'during', b'films', b'but', b'this', b'is', b'usually', b'due',\n",
              "         b'to', b'a', b'combination', b'of', b'things', b'including',\n",
              "         b'really', b'tired', b'being', b'warm', b'and', b'comfortable',\n",
              "         b'on', b'the', b'sette', b'and', b'having', b'just', b'eaten',\n",
              "         b'a', b'lot', b'However', b'on', b'this', b'occasion', b'I',\n",
              "         b'fell', b'asleep', b'because', b'the', b'film', b'was',\n",
              "         b'rubbish', b'The', b'plot', b'development', b'was', b'constant',\n",
              "         b'Cons']], dtype=object)>,\n",
              " <tf.Tensor: shape=(2,), dtype=int64, numpy=array([0, 0])>)"
            ]
          },
          "metadata": {
            "tags": []
          },
          "execution_count": 40
        }
      ]
    },
    {
      "cell_type": "code",
      "metadata": {
        "id": "E8J9J5TZ7GEx"
      },
      "source": [
        "from collections import Counter\r\n",
        "\r\n",
        "vocabulary = Counter()\r\n",
        "for X_batch, y_batch in datasets[\"train\"].batch(32).map(preprocess):\r\n",
        "  for review in X_batch:\r\n",
        "    vocabulary.update(list(review.numpy()))"
      ],
      "execution_count": null,
      "outputs": []
    },
    {
      "cell_type": "code",
      "metadata": {
        "colab": {
          "base_uri": "https://localhost:8080/"
        },
        "id": "AIRI_V3i7u3-",
        "outputId": "e365add1-1b3b-4d88-d69b-aad990b15adb"
      },
      "source": [
        "vocabulary.most_common()[:3]"
      ],
      "execution_count": null,
      "outputs": [
        {
          "output_type": "execute_result",
          "data": {
            "text/plain": [
              "[(b'<pad>', 214309), (b'the', 61137), (b'a', 38564)]"
            ]
          },
          "metadata": {
            "tags": []
          },
          "execution_count": 42
        }
      ]
    },
    {
      "cell_type": "code",
      "metadata": {
        "colab": {
          "base_uri": "https://localhost:8080/"
        },
        "id": "IuibG-zR_FiZ",
        "outputId": "14139646-d8b0-4229-91df-bdeacd611c59"
      },
      "source": [
        "len(vocabulary)"
      ],
      "execution_count": null,
      "outputs": [
        {
          "output_type": "execute_result",
          "data": {
            "text/plain": [
              "53893"
            ]
          },
          "metadata": {
            "tags": []
          },
          "execution_count": 43
        }
      ]
    },
    {
      "cell_type": "code",
      "metadata": {
        "id": "4cz5P0K__HpG"
      },
      "source": [
        "vocab_size = 10000\r\n",
        "truncated_vocabulary = [\r\n",
        "      word for word, count in vocabulary.most_common()[:vocab_size]\r\n",
        "]"
      ],
      "execution_count": null,
      "outputs": []
    },
    {
      "cell_type": "code",
      "metadata": {
        "colab": {
          "base_uri": "https://localhost:8080/"
        },
        "id": "M87q11F4_S0Q",
        "outputId": "5173d3de-f1f1-4ca6-96f4-34ed2bad1c00"
      },
      "source": [
        "word_to_id = {word: index for index, word in enumerate(truncated_vocabulary)}\r\n",
        "for word in b\"This movie was faaaaantasitic\".split():\r\n",
        "  print(word_to_id.get(word) or vocab_size)"
      ],
      "execution_count": null,
      "outputs": [
        {
          "output_type": "stream",
          "text": [
            "22\n",
            "12\n",
            "11\n",
            "10000\n"
          ],
          "name": "stdout"
        }
      ]
    },
    {
      "cell_type": "code",
      "metadata": {
        "id": "ENP_e9Y-_g5g"
      },
      "source": [
        "words = tf.constant(truncated_vocabulary)\r\n",
        "word_ids = tf.range(len(truncated_vocabulary), dtype=tf.int64)\r\n",
        "vocab_init = tf.lookup.KeyValueTensorInitializer(words, word_ids)\r\n",
        "num_oov_buckets = 1000\r\n",
        "table = tf.lookup.StaticVocabularyTable(vocab_init, num_oov_buckets)"
      ],
      "execution_count": null,
      "outputs": []
    },
    {
      "cell_type": "code",
      "metadata": {
        "colab": {
          "base_uri": "https://localhost:8080/"
        },
        "id": "K_f04BfKAx3_",
        "outputId": "ec83fbcf-4d0b-412c-9539-d3e441175058"
      },
      "source": [
        "table.lookup(tf.constant([b\"This movie was faaaaaantastic\".split()]))"
      ],
      "execution_count": null,
      "outputs": [
        {
          "output_type": "execute_result",
          "data": {
            "text/plain": [
              "<tf.Tensor: shape=(1, 4), dtype=int64, numpy=array([[   22,    12,    11, 10053]])>"
            ]
          },
          "metadata": {
            "tags": []
          },
          "execution_count": 49
        }
      ]
    },
    {
      "cell_type": "code",
      "metadata": {
        "id": "O2BSwTB4A76L"
      },
      "source": [
        "def encode_words(X_batch, y_batch):\r\n",
        "  return table.lookup(X_batch), y_batch\r\n",
        "\r\n",
        "train_set = datasets[\"train\"].repeat().batch(32).map(preprocess)\r\n",
        "train_set = train_set.map(encode_words).prefetch(1)"
      ],
      "execution_count": null,
      "outputs": []
    },
    {
      "cell_type": "code",
      "metadata": {
        "colab": {
          "base_uri": "https://localhost:8080/"
        },
        "id": "X2PQZTJ-BKCN",
        "outputId": "09637237-c99a-4fe3-dd09-a2a9bae4e402"
      },
      "source": [
        "for X_batch, y_batch in train_set.take(1):\r\n",
        "  print(X_batch)\r\n",
        "  print(y_batch)"
      ],
      "execution_count": null,
      "outputs": [
        {
          "output_type": "stream",
          "text": [
            "tf.Tensor(\n",
            "[[  22   11   28 ...    0    0    0]\n",
            " [   6   21   70 ...    0    0    0]\n",
            " [4099 6881    1 ...    0    0    0]\n",
            " ...\n",
            " [  22   12  118 ...  331 1047    0]\n",
            " [1757 4101  451 ...    0    0    0]\n",
            " [3365 4392    6 ...    0    0    0]], shape=(32, 60), dtype=int64)\n",
            "tf.Tensor([0 0 0 1 1 1 0 0 0 0 0 1 1 0 1 0 1 1 1 0 1 1 1 1 1 0 0 0 1 0 0 0], shape=(32,), dtype=int64)\n"
          ],
          "name": "stdout"
        }
      ]
    },
    {
      "cell_type": "code",
      "metadata": {
        "colab": {
          "base_uri": "https://localhost:8080/"
        },
        "id": "CfKKyfQbBOx7",
        "outputId": "3f67693c-1b9a-4acc-da2a-f6f9cc4fb1fc"
      },
      "source": [
        "embed_size = 128\r\n",
        "model = keras.models.Sequential([\r\n",
        "    keras.layers.Embedding(vocab_size + num_oov_buckets, embed_size,\r\n",
        "                           mask_zero=True, input_shape=[None]),\r\n",
        "    keras.layers.GRU(128, return_sequences=True),\r\n",
        "    keras.layers.GRU(128),\r\n",
        "    keras.layers.Dense(1, activation=\"sigmoid\")\r\n",
        "])\r\n",
        "\r\n",
        "model.compile(loss=\"binary_crossentropy\", optimizer=\"adam\", metrics=[\"accuracy\"])\r\n",
        "history = model.fit(train_set, steps_per_epoch=train_size//32, epochs=5)"
      ],
      "execution_count": null,
      "outputs": [
        {
          "output_type": "stream",
          "text": [
            "Epoch 1/5\n",
            "781/781 [==============================] - 128s 156ms/step - loss: 0.6051 - accuracy: 0.6468\n",
            "Epoch 2/5\n",
            "781/781 [==============================] - 121s 155ms/step - loss: 0.3709 - accuracy: 0.8388\n",
            "Epoch 3/5\n",
            "781/781 [==============================] - 123s 157ms/step - loss: 0.2041 - accuracy: 0.9266\n",
            "Epoch 4/5\n",
            "781/781 [==============================] - 122s 156ms/step - loss: 0.1427 - accuracy: 0.9484\n",
            "Epoch 5/5\n",
            "781/781 [==============================] - 122s 156ms/step - loss: 0.1047 - accuracy: 0.9625\n"
          ],
          "name": "stdout"
        }
      ]
    },
    {
      "cell_type": "markdown",
      "metadata": {
        "id": "qkm7aAG_SnT2"
      },
      "source": [
        "### Reusing Pretrained Embeddings"
      ]
    },
    {
      "cell_type": "code",
      "metadata": {
        "id": "Zl7mFtClD_qb"
      },
      "source": [
        "TFHUB_CACHE_DIR = os.path.join(os.curdir, \"my_tfhub_cache\")\r\n",
        "os.environ[\"TFHUB_CACHE_DIR\"] = TFHUB_CACHE_DIR"
      ],
      "execution_count": null,
      "outputs": []
    },
    {
      "cell_type": "code",
      "metadata": {
        "id": "L8Ng5Pu1S-HP"
      },
      "source": [
        "import tensorflow_hub as hub\r\n",
        "\r\n",
        "model = keras.Sequential([\r\n",
        "    hub.KerasLayer(\"https://tfhub.dev/google/tf2-preview/nnlm-en-dim50/1\",\r\n",
        "                   dtype=tf.string, input_shape=[], output_shape=[50]),\r\n",
        "    keras.layers.Dense(128, activation=\"relu\"),\r\n",
        "    keras.layers.Dense(1, activation=\"sigmoid\")\r\n",
        "])\r\n",
        "model.compile(loss=\"binary_crossentropy\", optimizer=\"adam\",\r\n",
        "              metrics=[\"accuracy\"])"
      ],
      "execution_count": null,
      "outputs": []
    },
    {
      "cell_type": "code",
      "metadata": {
        "colab": {
          "base_uri": "https://localhost:8080/"
        },
        "id": "qBPbnZifTACr",
        "outputId": "c9fe0d90-150f-4be7-949e-1ba1786de897"
      },
      "source": [
        "for dirpath, dirnames, filenames in os.walk(TFHUB_CACHE_DIR):\r\n",
        "    for filename in filenames:\r\n",
        "        print(os.path.join(dirpath, filename))"
      ],
      "execution_count": null,
      "outputs": [
        {
          "output_type": "stream",
          "text": [
            "./my_tfhub_cache/82c4aaf4250ffb09088bd48368ee7fd00e5464fe.descriptor.txt\n",
            "./my_tfhub_cache/82c4aaf4250ffb09088bd48368ee7fd00e5464fe/saved_model.pb\n",
            "./my_tfhub_cache/82c4aaf4250ffb09088bd48368ee7fd00e5464fe/variables/variables.data-00000-of-00001\n",
            "./my_tfhub_cache/82c4aaf4250ffb09088bd48368ee7fd00e5464fe/variables/variables.index\n",
            "./my_tfhub_cache/82c4aaf4250ffb09088bd48368ee7fd00e5464fe/assets/tokens.txt\n"
          ],
          "name": "stdout"
        }
      ]
    },
    {
      "cell_type": "code",
      "metadata": {
        "colab": {
          "base_uri": "https://localhost:8080/"
        },
        "id": "lR21DBjmTCPf",
        "outputId": "65ef74af-167f-4e7f-83b9-b6776202a62c"
      },
      "source": [
        "import tensorflow_datasets as tfds\r\n",
        "\r\n",
        "datasets, info = tfds.load(\"imdb_reviews\", as_supervised=True, with_info=True)\r\n",
        "train_size = info.splits[\"train\"].num_examples\r\n",
        "batch_size = 32\r\n",
        "train_set = datasets[\"train\"].repeat().batch(batch_size).prefetch(1)\r\n",
        "history = model.fit(train_set, steps_per_epoch=train_size // batch_size, epochs=5)"
      ],
      "execution_count": null,
      "outputs": [
        {
          "output_type": "stream",
          "text": [
            "Epoch 1/5\n",
            "781/781 [==============================] - 5s 5ms/step - loss: 0.5846 - accuracy: 0.6915\n",
            "Epoch 2/5\n",
            "781/781 [==============================] - 4s 5ms/step - loss: 0.5189 - accuracy: 0.7431\n",
            "Epoch 3/5\n",
            "781/781 [==============================] - 4s 5ms/step - loss: 0.5127 - accuracy: 0.7482\n",
            "Epoch 4/5\n",
            "781/781 [==============================] - 4s 5ms/step - loss: 0.5091 - accuracy: 0.7514\n",
            "Epoch 5/5\n",
            "781/781 [==============================] - 4s 5ms/step - loss: 0.5060 - accuracy: 0.7526\n"
          ],
          "name": "stdout"
        }
      ]
    },
    {
      "cell_type": "code",
      "metadata": {
        "id": "xSK1BSgGTEDr"
      },
      "source": [
        ""
      ],
      "execution_count": null,
      "outputs": []
    },
    {
      "cell_type": "markdown",
      "metadata": {
        "id": "9BHOGzeYurgV"
      },
      "source": [
        "### Automatic Translation"
      ]
    },
    {
      "cell_type": "code",
      "metadata": {
        "id": "nNavizs3uwtL"
      },
      "source": [
        "# examplary encoder-decoder model for translation\r\n",
        "\r\n",
        "vocab_size = 100\r\n",
        "embed_size = 10"
      ],
      "execution_count": null,
      "outputs": []
    },
    {
      "cell_type": "code",
      "metadata": {
        "colab": {
          "base_uri": "https://localhost:8080/"
        },
        "id": "XNQeJtGpxIeT",
        "outputId": "77fd321a-45ae-4795-e59c-bb3c4bdef0b0"
      },
      "source": [
        "!pip install tensorflow_addons"
      ],
      "execution_count": null,
      "outputs": [
        {
          "output_type": "stream",
          "text": [
            "Collecting tensorflow_addons\n",
            "\u001b[?25l  Downloading https://files.pythonhosted.org/packages/74/e3/56d2fe76f0bb7c88ed9b2a6a557e25e83e252aec08f13de34369cd850a0b/tensorflow_addons-0.12.1-cp37-cp37m-manylinux2010_x86_64.whl (703kB)\n",
            "\r\u001b[K     |▌                               | 10kB 16.3MB/s eta 0:00:01\r\u001b[K     |█                               | 20kB 22.6MB/s eta 0:00:01\r\u001b[K     |█▍                              | 30kB 14.2MB/s eta 0:00:01\r\u001b[K     |█▉                              | 40kB 11.4MB/s eta 0:00:01\r\u001b[K     |██▎                             | 51kB 8.5MB/s eta 0:00:01\r\u001b[K     |██▉                             | 61kB 8.6MB/s eta 0:00:01\r\u001b[K     |███▎                            | 71kB 8.3MB/s eta 0:00:01\r\u001b[K     |███▊                            | 81kB 8.9MB/s eta 0:00:01\r\u001b[K     |████▏                           | 92kB 8.4MB/s eta 0:00:01\r\u001b[K     |████▋                           | 102kB 8.7MB/s eta 0:00:01\r\u001b[K     |█████▏                          | 112kB 8.7MB/s eta 0:00:01\r\u001b[K     |█████▋                          | 122kB 8.7MB/s eta 0:00:01\r\u001b[K     |██████                          | 133kB 8.7MB/s eta 0:00:01\r\u001b[K     |██████▌                         | 143kB 8.7MB/s eta 0:00:01\r\u001b[K     |███████                         | 153kB 8.7MB/s eta 0:00:01\r\u001b[K     |███████▌                        | 163kB 8.7MB/s eta 0:00:01\r\u001b[K     |████████                        | 174kB 8.7MB/s eta 0:00:01\r\u001b[K     |████████▍                       | 184kB 8.7MB/s eta 0:00:01\r\u001b[K     |████████▉                       | 194kB 8.7MB/s eta 0:00:01\r\u001b[K     |█████████▎                      | 204kB 8.7MB/s eta 0:00:01\r\u001b[K     |█████████▉                      | 215kB 8.7MB/s eta 0:00:01\r\u001b[K     |██████████▎                     | 225kB 8.7MB/s eta 0:00:01\r\u001b[K     |██████████▊                     | 235kB 8.7MB/s eta 0:00:01\r\u001b[K     |███████████▏                    | 245kB 8.7MB/s eta 0:00:01\r\u001b[K     |███████████▋                    | 256kB 8.7MB/s eta 0:00:01\r\u001b[K     |████████████▏                   | 266kB 8.7MB/s eta 0:00:01\r\u001b[K     |████████████▋                   | 276kB 8.7MB/s eta 0:00:01\r\u001b[K     |█████████████                   | 286kB 8.7MB/s eta 0:00:01\r\u001b[K     |█████████████▌                  | 296kB 8.7MB/s eta 0:00:01\r\u001b[K     |██████████████                  | 307kB 8.7MB/s eta 0:00:01\r\u001b[K     |██████████████▍                 | 317kB 8.7MB/s eta 0:00:01\r\u001b[K     |███████████████                 | 327kB 8.7MB/s eta 0:00:01\r\u001b[K     |███████████████▍                | 337kB 8.7MB/s eta 0:00:01\r\u001b[K     |███████████████▉                | 348kB 8.7MB/s eta 0:00:01\r\u001b[K     |████████████████▎               | 358kB 8.7MB/s eta 0:00:01\r\u001b[K     |████████████████▊               | 368kB 8.7MB/s eta 0:00:01\r\u001b[K     |█████████████████▎              | 378kB 8.7MB/s eta 0:00:01\r\u001b[K     |█████████████████▊              | 389kB 8.7MB/s eta 0:00:01\r\u001b[K     |██████████████████▏             | 399kB 8.7MB/s eta 0:00:01\r\u001b[K     |██████████████████▋             | 409kB 8.7MB/s eta 0:00:01\r\u001b[K     |███████████████████             | 419kB 8.7MB/s eta 0:00:01\r\u001b[K     |███████████████████▋            | 430kB 8.7MB/s eta 0:00:01\r\u001b[K     |████████████████████            | 440kB 8.7MB/s eta 0:00:01\r\u001b[K     |████████████████████▌           | 450kB 8.7MB/s eta 0:00:01\r\u001b[K     |█████████████████████           | 460kB 8.7MB/s eta 0:00:01\r\u001b[K     |█████████████████████▍          | 471kB 8.7MB/s eta 0:00:01\r\u001b[K     |██████████████████████          | 481kB 8.7MB/s eta 0:00:01\r\u001b[K     |██████████████████████▍         | 491kB 8.7MB/s eta 0:00:01\r\u001b[K     |██████████████████████▉         | 501kB 8.7MB/s eta 0:00:01\r\u001b[K     |███████████████████████▎        | 512kB 8.7MB/s eta 0:00:01\r\u001b[K     |███████████████████████▊        | 522kB 8.7MB/s eta 0:00:01\r\u001b[K     |████████████████████████▎       | 532kB 8.7MB/s eta 0:00:01\r\u001b[K     |████████████████████████▊       | 542kB 8.7MB/s eta 0:00:01\r\u001b[K     |█████████████████████████▏      | 552kB 8.7MB/s eta 0:00:01\r\u001b[K     |█████████████████████████▋      | 563kB 8.7MB/s eta 0:00:01\r\u001b[K     |██████████████████████████      | 573kB 8.7MB/s eta 0:00:01\r\u001b[K     |██████████████████████████▋     | 583kB 8.7MB/s eta 0:00:01\r\u001b[K     |███████████████████████████     | 593kB 8.7MB/s eta 0:00:01\r\u001b[K     |███████████████████████████▌    | 604kB 8.7MB/s eta 0:00:01\r\u001b[K     |████████████████████████████    | 614kB 8.7MB/s eta 0:00:01\r\u001b[K     |████████████████████████████▍   | 624kB 8.7MB/s eta 0:00:01\r\u001b[K     |████████████████████████████▉   | 634kB 8.7MB/s eta 0:00:01\r\u001b[K     |█████████████████████████████▍  | 645kB 8.7MB/s eta 0:00:01\r\u001b[K     |█████████████████████████████▉  | 655kB 8.7MB/s eta 0:00:01\r\u001b[K     |██████████████████████████████▎ | 665kB 8.7MB/s eta 0:00:01\r\u001b[K     |██████████████████████████████▊ | 675kB 8.7MB/s eta 0:00:01\r\u001b[K     |███████████████████████████████▏| 686kB 8.7MB/s eta 0:00:01\r\u001b[K     |███████████████████████████████▊| 696kB 8.7MB/s eta 0:00:01\r\u001b[K     |████████████████████████████████| 706kB 8.7MB/s \n",
            "\u001b[?25hRequirement already satisfied: typeguard>=2.7 in /usr/local/lib/python3.7/dist-packages (from tensorflow_addons) (2.7.1)\n",
            "Installing collected packages: tensorflow-addons\n",
            "Successfully installed tensorflow-addons-0.12.1\n"
          ],
          "name": "stdout"
        }
      ]
    },
    {
      "cell_type": "code",
      "metadata": {
        "id": "hxGdVz48u-tE"
      },
      "source": [
        "import tensorflow_addons as tfa\r\n",
        "\r\n",
        "encoder_inputs = keras.layers.Input(shape=[None], dtype=np.int32)\r\n",
        "decoder_inputs = keras.layers.Input(shape=[None], dtype=np.int32)\r\n",
        "sequence_lengths = keras.layers.Input(shape=[], dtype=np.int32)\r\n",
        "\r\n",
        "embeddings = keras.layers.Embedding(vocab_size, embed_size)\r\n",
        "encoder_embeddings = embeddings(encoder_inputs)\r\n",
        "decoder_embeddings = embeddings(decoder_inputs)\r\n",
        "\r\n",
        "# return state returns state_h and state_c\r\n",
        "encoder = keras.layers.LSTM(512, return_state=True)\r\n",
        "encoder_outputs, state_h, state_c = encoder(encoder_embeddings)\r\n",
        "encoder_state = [state_h, state_c]\r\n",
        "\r\n",
        "# trainingsampler let the decoder know what output was at the previous step \r\n",
        "sampler = tfa.seq2seq.sampler.TrainingSampler()\r\n",
        "\r\n",
        "decoder_cell = keras.layers.LSTMCell(512)\r\n",
        "output_layer = keras.layers.Dense(vocab_size)\r\n",
        "decoder = tfa.seq2seq.basic_decoder.BasicDecoder(decoder_cell, sampler,\r\n",
        "                                                 output_layer=output_layer)\r\n",
        "final_outputs, final_state, final_sequence_lengths = decoder(\r\n",
        "    decoder_embeddings, initial_state=encoder_state, sequence_length=sequence_lengths\r\n",
        ")\r\n",
        "Y_proba = tf.nn.softmax(final_outputs.rnn_output)\r\n",
        "\r\n",
        "\r\n",
        "model = keras.models.Model(\r\n",
        "    inputs=[encoder_inputs, decoder_inputs, sequence_lengths],\r\n",
        "    outputs=[Y_proba]\r\n",
        ")"
      ],
      "execution_count": null,
      "outputs": []
    },
    {
      "cell_type": "code",
      "metadata": {
        "id": "VsoxGXsuw-3V"
      },
      "source": [
        "model.compile(loss=\"sparse_categorical_crossentropy\", optimizer=\"adam\")"
      ],
      "execution_count": null,
      "outputs": []
    },
    {
      "cell_type": "code",
      "metadata": {
        "colab": {
          "base_uri": "https://localhost:8080/"
        },
        "id": "3RL2J74zxZwj",
        "outputId": "4133f254-499c-4f0a-fcaa-6c66af840f22"
      },
      "source": [
        "# naive example\r\n",
        "X = np.random.randint(100, size=10*1000).reshape(1000, 10)\r\n",
        "Y = np.random.randint(100, size=15*1000).reshape(1000, 15)\r\n",
        "X_decoder = np.c_[np.zeros((1000, 1)), Y[:, :-1]]\r\n",
        "seq_lengths = np.full([1000], 15)\r\n",
        "\r\n",
        "history = model.fit([X, X_decoder, seq_lengths], Y, epochs=2)"
      ],
      "execution_count": null,
      "outputs": [
        {
          "output_type": "stream",
          "text": [
            "Epoch 1/2\n",
            "32/32 [==============================] - 13s 298ms/step - loss: 4.6052\n",
            "Epoch 2/2\n",
            "32/32 [==============================] - 10s 300ms/step - loss: 4.6025\n"
          ],
          "name": "stdout"
        }
      ]
    },
    {
      "cell_type": "markdown",
      "metadata": {
        "id": "O-rXqJS6z_z3"
      },
      "source": [
        "### Bidirectional Reccurent Layers"
      ]
    },
    {
      "cell_type": "code",
      "metadata": {
        "colab": {
          "base_uri": "https://localhost:8080/"
        },
        "id": "2Ce7inNVx9me",
        "outputId": "593512d1-0a81-494e-e46d-0b8586ffcef3"
      },
      "source": [
        "model = keras.models.Sequential([\r\n",
        "      keras.layers.GRU(10, return_sequences=True, input_shape=[None, 10]),\r\n",
        "      keras.layers.Bidirectional(keras.layers.GRU(10, return_sequences=True))\r\n",
        "])\r\n",
        "\r\n",
        "model.summary()"
      ],
      "execution_count": null,
      "outputs": [
        {
          "output_type": "stream",
          "text": [
            "Model: \"sequential\"\n",
            "_________________________________________________________________\n",
            "Layer (type)                 Output Shape              Param #   \n",
            "=================================================================\n",
            "gru (GRU)                    (None, None, 10)          660       \n",
            "_________________________________________________________________\n",
            "bidirectional (Bidirectional (None, None, 20)          1320      \n",
            "=================================================================\n",
            "Total params: 1,980\n",
            "Trainable params: 1,980\n",
            "Non-trainable params: 0\n",
            "_________________________________________________________________\n"
          ],
          "name": "stdout"
        }
      ]
    },
    {
      "cell_type": "markdown",
      "metadata": {
        "id": "WHCveKYy1590"
      },
      "source": [
        "### Positional Encoding"
      ]
    },
    {
      "cell_type": "code",
      "metadata": {
        "id": "ZiqI6H6E0Ru0"
      },
      "source": [
        "# positional embedding is used in Transformer model to keep positional information\r\n",
        "# make a big positionalencoding and cut it at use\r\n",
        "class PositionalEncoding(keras.layers.Layer):\r\n",
        "  def __init__(self, max_steps, max_dims, dtype=tf.float32, **kwargs):\r\n",
        "    super().__init__(dtype=dtype, **kwargs)\r\n",
        "    if max_dims % 2 == 1: max_dims += 1 # max dims to be even\r\n",
        "    p, i = np.meshgrid(np.arange(max_steps), np.arange(max_dims // 2))\r\n",
        "    pos_emb = np.empty((1, max_steps, max_dims))\r\n",
        "    pos_emb[0, :, ::2] = np.sin(p / 10000**(2 * i / max_dims)).T\r\n",
        "    pos_emb[0, :, 1::2] = np.cos(p / 10000**(2 * i / max_dims)).T\r\n",
        "    self.positional_embedding = tf.constant(pos_emb.astype(self.dtype))\r\n",
        "  def call(self, inputs):\r\n",
        "    shape = tf.shape(inputs)\r\n",
        "    return inputs + self.positional_embedding[:, :shape[-2], :shape[-1]]"
      ],
      "execution_count": null,
      "outputs": []
    },
    {
      "cell_type": "code",
      "metadata": {
        "id": "uTOPCP2Z3fO2"
      },
      "source": [
        "max_steps = 201\r\n",
        "max_dims = 512\r\n",
        "pos_emb = PositionalEncoding(max_steps, max_dims)\r\n",
        "PE = pos_emb(np.zeros((1, max_steps, max_dims), np.float32))[0].numpy()"
      ],
      "execution_count": null,
      "outputs": []
    },
    {
      "cell_type": "code",
      "metadata": {
        "id": "8LqF0MtY3tWj"
      },
      "source": [
        "# simplified transformer with positional embedding and attention would look like\r\n",
        "\r\n",
        "embed_size = 512; max_steps = 500; vocab_size = 10000\r\n",
        "encoder_inputs = keras.layers.Input(shape=[None], dtype=np.int32)\r\n",
        "decoder_inputs = keras.layers.Input(shape=[None], dtype=np.int32)\r\n",
        "embeddings = keras.layers.Embedding(vocab_size, embed_size)\r\n",
        "encoder_embeddings = embeddings(encoder_inputs)\r\n",
        "decoder_embeddings = embeddings(decoder_inputs)\r\n",
        "positional_encoding = PositionalEncoding(max_steps, max_dims=embed_size)\r\n",
        "encoder_in = positional_encoding(encoder_embeddings)\r\n",
        "decoder_in = positional_encoding(decoder_embeddings)\r\n"
      ],
      "execution_count": null,
      "outputs": []
    },
    {
      "cell_type": "code",
      "metadata": {
        "id": "zIQZ3Pa26WJH"
      },
      "source": [
        "Z = encoder_in\r\n",
        "for N in range(6):\r\n",
        "  Z = keras.layers.Attention(use_scale=True)([Z, Z])\r\n",
        "\r\n",
        "encoder_outputs = Z\r\n",
        "Z = decoder_in\r\n",
        "for N in range(6):\r\n",
        "  # by setting causal=True, model only looks at the previous outputs\r\n",
        "  Z = keras.layers.Attention(use_scale=True, causal=True)([Z, Z])\r\n",
        "  Z = keras.layers.Attention(use_scale=True)([Z, encoder_outputs])\r\n",
        "\r\n",
        "outputs = keras.layers.TimeDistributed(\r\n",
        "    keras.layers.Dense(vocab_size, activation=\"softmax\")\r\n",
        ")(Z)"
      ],
      "execution_count": null,
      "outputs": []
    },
    {
      "cell_type": "markdown",
      "metadata": {
        "id": "hDkSLHXI7_gf"
      },
      "source": [
        "### Multi-Head Attention Implementation"
      ]
    },
    {
      "cell_type": "code",
      "metadata": {
        "id": "NwOZ1tWx68n3"
      },
      "source": [
        "K = keras.backend\r\n",
        "\r\n",
        "class MultiHeadAttention(keras.layers.Layer):\r\n",
        "    def __init__(self, n_heads, causal=False, use_scale=False, **kwargs):\r\n",
        "        self.n_heads = n_heads\r\n",
        "        self.causal = causal\r\n",
        "        self.use_scale = use_scale\r\n",
        "        super().__init__(**kwargs)\r\n",
        "    def build(self, batch_input_shape):\r\n",
        "        self.dims = batch_input_shape[0][-1]\r\n",
        "        self.q_dims, self.v_dims, self.k_dims = [self.dims // self.n_heads] * 3 # could be hyperparameters instead\r\n",
        "        self.q_linear = keras.layers.Conv1D(self.n_heads * self.q_dims, kernel_size=1, use_bias=False)\r\n",
        "        self.v_linear = keras.layers.Conv1D(self.n_heads * self.v_dims, kernel_size=1, use_bias=False)\r\n",
        "        self.k_linear = keras.layers.Conv1D(self.n_heads * self.k_dims, kernel_size=1, use_bias=False)\r\n",
        "        self.attention = keras.layers.Attention(causal=self.causal, use_scale=self.use_scale)\r\n",
        "        self.out_linear = keras.layers.Conv1D(self.dims, kernel_size=1, use_bias=False)\r\n",
        "        super().build(batch_input_shape)\r\n",
        "    def _multi_head_linear(self, inputs, linear):\r\n",
        "        shape = K.concatenate([K.shape(inputs)[:-1], [self.n_heads, -1]])\r\n",
        "        projected = K.reshape(linear(inputs), shape)\r\n",
        "        perm = K.permute_dimensions(projected, [0, 2, 1, 3])\r\n",
        "        return K.reshape(perm, [shape[0] * self.n_heads, shape[1], -1])\r\n",
        "    def call(self, inputs):\r\n",
        "        q = inputs[0]\r\n",
        "        v = inputs[1]\r\n",
        "        k = inputs[2] if len(inputs) > 2 else v\r\n",
        "        shape = K.shape(q)\r\n",
        "        q_proj = self._multi_head_linear(q, self.q_linear)\r\n",
        "        v_proj = self._multi_head_linear(v, self.v_linear)\r\n",
        "        k_proj = self._multi_head_linear(k, self.k_linear)\r\n",
        "        multi_attended = self.attention([q_proj, v_proj, k_proj])\r\n",
        "        shape_attended = K.shape(multi_attended)\r\n",
        "        reshaped_attended = K.reshape(multi_attended, [shape[0], self.n_heads, shape_attended[1], shape_attended[2]])\r\n",
        "        perm = K.permute_dimensions(reshaped_attended, [0, 2, 1, 3])\r\n",
        "        concat = K.reshape(perm, [shape[0], shape_attended[1], -1])\r\n",
        "        return self.out_linear(concat)"
      ],
      "execution_count": null,
      "outputs": []
    },
    {
      "cell_type": "code",
      "metadata": {
        "colab": {
          "base_uri": "https://localhost:8080/"
        },
        "id": "OBBP2H_SBlo2",
        "outputId": "d15de67a-1c89-4667-ea15-7ca6fd60a80a"
      },
      "source": [
        "Q = np.random.rand(2, 50, 512)\r\n",
        "V = np.random.rand(2, 80, 512)\r\n",
        "multi_attn = MultiHeadAttention(8)\r\n",
        "multi_attn([Q, V]).shape"
      ],
      "execution_count": null,
      "outputs": [
        {
          "output_type": "execute_result",
          "data": {
            "text/plain": [
              "TensorShape([2, 50, 512])"
            ]
          },
          "metadata": {
            "tags": []
          },
          "execution_count": 38
        }
      ]
    },
    {
      "cell_type": "markdown",
      "metadata": {
        "id": "3OATHaXNTjwY"
      },
      "source": [
        "### Embedded Reber Grammars"
      ]
    },
    {
      "cell_type": "markdown",
      "metadata": {
        "id": "MuG930WWTrgw"
      },
      "source": [
        "Choose a particular embedded Reber grammar (such as the one represented on Jenny Orr's page), then train an RNN to identify whether a string respects that grammar or not. You will first need to write a function capable of generating a training batch containing about 50% strings that respect the grammar, and 50% that don't.\r\n",
        "\r\n",
        "[link](https://www.willamette.edu/~gorr/classes/cs449/reber.html)"
      ]
    },
    {
      "cell_type": "code",
      "metadata": {
        "id": "0x7LKdxGEYY7"
      },
      "source": [
        "# lets create reber grammar\r\n",
        "default_reber_grammar = [\r\n",
        "    [(\"B\", 1)],  # (state 0) =B=>(state 1)\r\n",
        "    [(\"T\", 2), (\"P\", 3)],  # (state 1) =T=>(state 2) or =P=>(state 3)\r\n",
        "    [(\"S\", 2), (\"X\", 4)],\r\n",
        "    [(\"T\", 3), (\"V\", 5)],\r\n",
        "    [(\"X\", 3), (\"S\", 6)],\r\n",
        "    [(\"P\", 4), (\"V\", 6)],\r\n",
        "    [(\"E\", None)] # (state 6) =E => (terminal state)\r\n",
        "]\r\n",
        "\r\n",
        "embedded_reber_grammar = [\r\n",
        "    [(\"B\", 1)],\r\n",
        "    [(\"T\", 2), (\"P\", 3)],\r\n",
        "    [(default_reber_grammar, 4)],\r\n",
        "    [(default_reber_grammar, 5)],\r\n",
        "    [(\"T\", 6)],\r\n",
        "    [(\"P\", 6)],\r\n",
        "    [(\"E\", None)], \r\n",
        "]\r\n",
        "\r\n",
        "def generate_string(grammar):\r\n",
        "  state = 0\r\n",
        "  output = []\r\n",
        "  while state is not None:\r\n",
        "    index = np.random.randint(len(grammar[state]))\r\n",
        "    production, state = grammar[state][index]\r\n",
        "    if isinstance(production, list):\r\n",
        "      production = generate_string(grammar=production)\r\n",
        "    output.append(production)\r\n",
        "  return \"\".join(output)"
      ],
      "execution_count": null,
      "outputs": []
    },
    {
      "cell_type": "code",
      "metadata": {
        "colab": {
          "base_uri": "https://localhost:8080/"
        },
        "id": "xxIFNburaB2Y",
        "outputId": "997e1649-020a-4779-935e-88ad86233178"
      },
      "source": [
        "# try generating\r\n",
        "for _ in range(25):\r\n",
        "    print(generate_string(default_reber_grammar), end=\" \")"
      ],
      "execution_count": null,
      "outputs": [
        {
          "output_type": "stream",
          "text": [
            "BPVPSE BPTVVE BPVVE BTXSE BPTTTTVPXTTVPXVVE BTXSE BTSSXSE BTSXXVVE BTXSE BPTVVE BTSSXXTVVE BPVVE BTXXVVE BPTTTVPSE BTSSSSXXTVVE BPTTTVPXVVE BTXSE BTXSE BTXSE BPVVE BTXXVPXVVE BTXSE BTXXTVPSE BTXXVPXTTTVVE BTXSE "
          ],
          "name": "stdout"
        }
      ]
    },
    {
      "cell_type": "code",
      "metadata": {
        "colab": {
          "base_uri": "https://localhost:8080/"
        },
        "id": "DC1xBNiVaFZc",
        "outputId": "ea0e6510-8654-4fa9-8c74-87d8fa5c74e7"
      },
      "source": [
        "# generate with embedded reber grammar\r\n",
        "for _ in range(25):\r\n",
        "    print(generate_string(embedded_reber_grammar), end=\" \")"
      ],
      "execution_count": null,
      "outputs": [
        {
          "output_type": "stream",
          "text": [
            "BTBPVVETE BPBPTVPXVPXVVEPE BTBPVVETE BTBPTTVVETE BTBPTVPSETE BPBPTTVPSEPE BTBTXSETE BTBTSXSETE BPBTSSXSEPE BTBPTTVPSETE BTBTXXTTTTTVPSETE BPBPTVPSEPE BPBTXXVPXVVEPE BTBTXXVPXVPSETE BTBTSSSSSSSSXSETE BTBTSXXTTVPXTVPSETE BTBTSXSETE BTBPVVETE BPBPTTTTTTTTVVEPE BPBPVVEPE BTBTXXTTTVVETE BPBPVVEPE BTBTXSETE BTBTXSETE BPBTXXTTTTTVPSEPE "
          ],
          "name": "stdout"
        }
      ]
    },
    {
      "cell_type": "code",
      "metadata": {
        "id": "h27ybuPcaimF"
      },
      "source": [
        "## now generate corrupted strings\r\n",
        "possible_chars = \"BEPSTVX\"\r\n",
        "\r\n",
        "def generate_corrupted_string(grammar, chars=possible_chars):\r\n",
        "  good_string = generate_string(grammar)\r\n",
        "  index = np.random.randint(len(good_string))\r\n",
        "  good_char = good_string[index]\r\n",
        "  bad_char = np.random.choice(sorted(set(chars) - set(good_char)))\r\n",
        "  return good_string[:index] + bad_char + good_string[index +1 :]"
      ],
      "execution_count": null,
      "outputs": []
    },
    {
      "cell_type": "code",
      "metadata": {
        "colab": {
          "base_uri": "https://localhost:8080/"
        },
        "id": "wCFny_fJbNpt",
        "outputId": "2b24a35a-6201-4005-ae3f-889662c2f222"
      },
      "source": [
        "for _ in range(25):\r\n",
        "    print(generate_corrupted_string(embedded_reber_grammar), end=\" \")"
      ],
      "execution_count": null,
      "outputs": [
        {
          "output_type": "stream",
          "text": [
            "BPBPTEVEPE BPBPTVVEEE BTBPTVPXVVETB BTBPVVETS BTBTSTSETE BTBTSSSXXVPXBTVVETE BTBPTTTVPXTVVBTE BPBPVPSBPE BTBTXXTTTTVPPETE BPXPTVPSEPE BTBPVPXTTVVEVE BTBVTVVETE BTBTSSSXXVEETE BPBPTTBPXTTVVEPE BTVPVPXTTVVETE BTBTXXTSPXTVPSETE BTBPVPSETS BPBESSSXSEPE BTBPVPXTTVPSXTE BTBPXSETE SPBPTTVPXTVPXTTVPXTTVVEPE STBTSXSETE BVBPTTVPSETE BTBTSXSXXVVETE BTBPTTTTVPSEPE "
          ],
          "name": "stdout"
        }
      ]
    },
    {
      "cell_type": "code",
      "metadata": {
        "id": "9jeN1eGdbQfU"
      },
      "source": [
        "def string_to_ids(s, chars=possible_chars):\r\n",
        "  return [chars.index(c) for c in s]"
      ],
      "execution_count": null,
      "outputs": []
    },
    {
      "cell_type": "code",
      "metadata": {
        "colab": {
          "base_uri": "https://localhost:8080/"
        },
        "id": "HD4xLzz5cVtV",
        "outputId": "464caf2e-7879-44ac-871a-b07a89c503fb"
      },
      "source": [
        "string_to_ids(\"BTTTXXXVETET\")"
      ],
      "execution_count": null,
      "outputs": [
        {
          "output_type": "execute_result",
          "data": {
            "text/plain": [
              "[0, 4, 4, 4, 6, 6, 6, 5, 1, 4, 1, 4]"
            ]
          },
          "metadata": {
            "tags": []
          },
          "execution_count": 47
        }
      ]
    },
    {
      "cell_type": "code",
      "metadata": {
        "id": "RHru5VkAcYgU"
      },
      "source": [
        "def generate_dataset(size):\r\n",
        "  good_strings = [string_to_ids(generate_string(embedded_reber_grammar)) for _ in range(size // 2)]\r\n",
        "  bad_strings = [string_to_ids(generate_corrupted_string(embedded_reber_grammar)) for _ in range(size - size // 2)]\r\n",
        "  all_strings = good_strings + bad_strings\r\n",
        "  X = tf.ragged.constant(all_strings, ragged_rank=1)\r\n",
        "  y = np.array([[1.] for _ in range(len(good_strings))] + \r\n",
        "               [[0.] for _ in range(len(bad_strings))])\r\n",
        "  return X, y"
      ],
      "execution_count": null,
      "outputs": []
    },
    {
      "cell_type": "code",
      "metadata": {
        "id": "GEPpE-yOgXut"
      },
      "source": [
        "X_train, y_train = generate_dataset(10000)\r\n",
        "X_valid, y_valid = generate_dataset(2000)"
      ],
      "execution_count": null,
      "outputs": []
    },
    {
      "cell_type": "code",
      "metadata": {
        "colab": {
          "base_uri": "https://localhost:8080/"
        },
        "id": "wo2KJ7zlgfW1",
        "outputId": "1bda1b6e-937a-4110-d973-1d0e76cfbc0a"
      },
      "source": [
        "X_train[0]"
      ],
      "execution_count": null,
      "outputs": [
        {
          "output_type": "execute_result",
          "data": {
            "text/plain": [
              "<tf.Tensor: shape=(11,), dtype=int32, numpy=array([0, 4, 0, 2, 4, 5, 2, 3, 1, 4, 1], dtype=int32)>"
            ]
          },
          "metadata": {
            "tags": []
          },
          "execution_count": 50
        }
      ]
    },
    {
      "cell_type": "code",
      "metadata": {
        "colab": {
          "base_uri": "https://localhost:8080/"
        },
        "id": "aadM3MivghQ1",
        "outputId": "2b6f5bac-8ffd-48b8-b47e-9ee917be90d9"
      },
      "source": [
        "y_train[0]"
      ],
      "execution_count": null,
      "outputs": [
        {
          "output_type": "execute_result",
          "data": {
            "text/plain": [
              "array([1.])"
            ]
          },
          "metadata": {
            "tags": []
          },
          "execution_count": 51
        }
      ]
    },
    {
      "cell_type": "code",
      "metadata": {
        "colab": {
          "base_uri": "https://localhost:8080/"
        },
        "id": "zEewzzKygh61",
        "outputId": "b5ee3e41-4cd6-4454-e8df-1f6b5af1de3f"
      },
      "source": [
        "embedding_size = 5\r\n",
        "\r\n",
        "model = keras.models.Sequential([\r\n",
        "    keras.layers.InputLayer(input_shape=[None], dtype=tf.int32, ragged=True),\r\n",
        "    keras.layers.Embedding(input_dim=len(possible_chars), output_dim=embedding_size),\r\n",
        "    keras.layers.GRU(30),\r\n",
        "    keras.layers.Dense(1, activation=\"sigmoid\")\r\n",
        "])\r\n",
        "optimizer = keras.optimizers.SGD(lr=0.02, momentum=0.95, nesterov=True)\r\n",
        "model.compile(loss=\"binary_crossentropy\", optimizer=optimizer, metrics=[\"accuracy\"])\r\n",
        "history = model.fit(X_train, y_train, epochs=20, validation_data=(X_valid, y_valid))"
      ],
      "execution_count": null,
      "outputs": [
        {
          "output_type": "stream",
          "text": [
            "Epoch 1/20\n"
          ],
          "name": "stdout"
        },
        {
          "output_type": "stream",
          "text": [
            "/usr/local/lib/python3.7/dist-packages/tensorflow/python/framework/indexed_slices.py:437: UserWarning: Converting sparse IndexedSlices(IndexedSlices(indices=Tensor(\"gradient_tape/sequential_1/gru_2/RaggedToTensor/boolean_mask_1/GatherV2:0\", shape=(None,), dtype=int32), values=Tensor(\"gradient_tape/sequential_1/gru_2/RaggedToTensor/boolean_mask/GatherV2:0\", shape=(None, 5), dtype=float32), dense_shape=Tensor(\"gradient_tape/sequential_1/gru_2/RaggedToTensor/Shape:0\", shape=(2,), dtype=int32))) to a dense Tensor of unknown shape. This may consume a large amount of memory.\n",
            "  \"shape. This may consume a large amount of memory.\" % value)\n"
          ],
          "name": "stderr"
        },
        {
          "output_type": "stream",
          "text": [
            "313/313 [==============================] - 5s 12ms/step - loss: 0.6930 - accuracy: 0.5053 - val_loss: 0.7011 - val_accuracy: 0.5380\n",
            "Epoch 2/20\n",
            "313/313 [==============================] - 3s 11ms/step - loss: 0.6711 - accuracy: 0.5518 - val_loss: 0.6546 - val_accuracy: 0.6125\n",
            "Epoch 3/20\n",
            "313/313 [==============================] - 4s 11ms/step - loss: 0.6488 - accuracy: 0.5936 - val_loss: 0.6515 - val_accuracy: 0.4745\n",
            "Epoch 4/20\n",
            "313/313 [==============================] - 4s 11ms/step - loss: 0.6383 - accuracy: 0.5930 - val_loss: 0.6166 - val_accuracy: 0.6620\n",
            "Epoch 5/20\n",
            "313/313 [==============================] - 3s 11ms/step - loss: 0.6129 - accuracy: 0.6276 - val_loss: 0.6048 - val_accuracy: 0.6580\n",
            "Epoch 6/20\n",
            "313/313 [==============================] - 4s 11ms/step - loss: 0.5613 - accuracy: 0.6814 - val_loss: 0.5039 - val_accuracy: 0.7515\n",
            "Epoch 7/20\n",
            "313/313 [==============================] - 4s 11ms/step - loss: 0.4885 - accuracy: 0.7460 - val_loss: 0.3344 - val_accuracy: 0.8845\n",
            "Epoch 8/20\n",
            "313/313 [==============================] - 4s 11ms/step - loss: 0.3025 - accuracy: 0.8866 - val_loss: 0.2126 - val_accuracy: 0.9175\n",
            "Epoch 9/20\n",
            "313/313 [==============================] - 3s 11ms/step - loss: 0.1793 - accuracy: 0.9420 - val_loss: 0.1060 - val_accuracy: 0.9765\n",
            "Epoch 10/20\n",
            "313/313 [==============================] - 4s 11ms/step - loss: 0.1091 - accuracy: 0.9713 - val_loss: 0.0782 - val_accuracy: 0.9820\n",
            "Epoch 11/20\n",
            "313/313 [==============================] - 4s 11ms/step - loss: 0.0846 - accuracy: 0.9792 - val_loss: 0.0654 - val_accuracy: 0.9855\n",
            "Epoch 12/20\n",
            "313/313 [==============================] - 4s 11ms/step - loss: 0.0768 - accuracy: 0.9812 - val_loss: 0.0648 - val_accuracy: 0.9860\n",
            "Epoch 13/20\n",
            "313/313 [==============================] - 4s 11ms/step - loss: 0.0620 - accuracy: 0.9849 - val_loss: 0.0031 - val_accuracy: 1.0000\n",
            "Epoch 14/20\n",
            "313/313 [==============================] - 4s 11ms/step - loss: 0.0021 - accuracy: 1.0000 - val_loss: 9.9136e-04 - val_accuracy: 1.0000\n",
            "Epoch 15/20\n",
            "313/313 [==============================] - 4s 11ms/step - loss: 8.3108e-04 - accuracy: 1.0000 - val_loss: 6.3886e-04 - val_accuracy: 1.0000\n",
            "Epoch 16/20\n",
            "313/313 [==============================] - 4s 11ms/step - loss: 5.5465e-04 - accuracy: 1.0000 - val_loss: 4.7388e-04 - val_accuracy: 1.0000\n",
            "Epoch 17/20\n",
            "313/313 [==============================] - 3s 11ms/step - loss: 4.1769e-04 - accuracy: 1.0000 - val_loss: 3.7148e-04 - val_accuracy: 1.0000\n",
            "Epoch 18/20\n",
            "313/313 [==============================] - 3s 11ms/step - loss: 3.3204e-04 - accuracy: 1.0000 - val_loss: 3.0464e-04 - val_accuracy: 1.0000\n",
            "Epoch 19/20\n",
            "313/313 [==============================] - 3s 11ms/step - loss: 2.8260e-04 - accuracy: 1.0000 - val_loss: 2.5917e-04 - val_accuracy: 1.0000\n",
            "Epoch 20/20\n",
            "313/313 [==============================] - 3s 11ms/step - loss: 2.3707e-04 - accuracy: 1.0000 - val_loss: 2.2484e-04 - val_accuracy: 1.0000\n"
          ],
          "name": "stdout"
        }
      ]
    },
    {
      "cell_type": "code",
      "metadata": {
        "colab": {
          "base_uri": "https://localhost:8080/"
        },
        "id": "RI1splCPhsjS",
        "outputId": "34f046a9-fc36-46d8-bf74-682f95030499"
      },
      "source": [
        "test_strings = [\"BPBTSSSSSSSXXTTVPXVPXTTTTTVVETE\",\r\n",
        "                \"BPBTSSSSSSSXXTTVPXVPXTTTTTVVEPE\"]\r\n",
        "X_test = tf.ragged.constant([string_to_ids(s) for s in test_strings], ragged_rank=1)\r\n",
        "\r\n",
        "y_proba = model.predict(X_test)\r\n",
        "print()\r\n",
        "print(\"Estimated probability that these are Reber strings:\")\r\n",
        "for index, string in enumerate(test_strings):\r\n",
        "    print(\"{}: {:.2f}%\".format(string, 100 * y_proba[index][0]))"
      ],
      "execution_count": null,
      "outputs": [
        {
          "output_type": "stream",
          "text": [
            "\n",
            "Estimated probability that these are Reber strings:\n",
            "BPBTSSSSSSSXXTTVPXVPXTTTTTVVETE: 0.34%\n",
            "BPBTSSSSSSSXXTTVPXVPXTTTTTVVEPE: 99.95%\n"
          ],
          "name": "stdout"
        }
      ]
    },
    {
      "cell_type": "markdown",
      "metadata": {
        "id": "c1lKlbaK4ANq"
      },
      "source": [
        "### Encoder-Decoder model to convert date string from \"April 22, 2019\" to \"2019-04-22\""
      ]
    },
    {
      "cell_type": "code",
      "metadata": {
        "id": "Ypkk60DnoJzx"
      },
      "source": [
        "# randomly use days between 1000-01-01 and 9999-12-31\r\n",
        "from datetime import date\r\n",
        "\r\n",
        "months = [\"January\", \"February\", \"March\", \"April\", \"May\", \"June\",\r\n",
        "          \"July\", \"August\", \"September\", \"October\", \"November\", \"December\"]\r\n",
        "\r\n",
        "def random_dates(n_dates):\r\n",
        "  min_date = date(1000, 1, 1).toordinal()\r\n",
        "  max_date = date(9999, 12, 31).toordinal()\r\n",
        "\r\n",
        "  ordinals = np.random.randint(max_date - min_date, size=n_dates) + min_date\r\n",
        "  dates = [date.fromordinal(ordinal) for ordinal in ordinals]\r\n",
        "\r\n",
        "  x = [months[dt.month - 1] + \" \" + dt.strftime(\"%d, %Y\") for dt in dates]\r\n",
        "  y = [dt.isoformat() for dt in dates]\r\n",
        "  return x, y"
      ],
      "execution_count": null,
      "outputs": []
    },
    {
      "cell_type": "code",
      "metadata": {
        "colab": {
          "base_uri": "https://localhost:8080/"
        },
        "id": "02HpX4LT5H-o",
        "outputId": "ec0addee-b3d6-4d01-b064-e51f86b7bf1d"
      },
      "source": [
        "n_dates = 3\r\n",
        "x_example, y_example = random_dates(n_dates)\r\n",
        "print(\"{:25s}{:25s}\".format(\"Input\", \"Target\"))\r\n",
        "print(\"-\" * 50)\r\n",
        "for idx in range(n_dates):\r\n",
        "  print(\"{:25s}{:25s}\".format(x_example[idx], y_example[idx]))"
      ],
      "execution_count": null,
      "outputs": [
        {
          "output_type": "stream",
          "text": [
            "Input                    Target                   \n",
            "--------------------------------------------------\n",
            "September 05, 4900       4900-09-05               \n",
            "October 14, 3704         3704-10-14               \n",
            "September 12, 3268       3268-09-12               \n"
          ],
          "name": "stdout"
        }
      ]
    },
    {
      "cell_type": "code",
      "metadata": {
        "colab": {
          "base_uri": "https://localhost:8080/",
          "height": 35
        },
        "id": "XzBOUWVd6R9A",
        "outputId": "59a4373e-f617-4d79-b664-4477154a7d13"
      },
      "source": [
        "# list of all possible characters in inputs\r\n",
        "input_chars = \"\".join(sorted(set(\"\".join(months) + \"0123456789, \")))\r\n",
        "input_chars"
      ],
      "execution_count": null,
      "outputs": [
        {
          "output_type": "execute_result",
          "data": {
            "application/vnd.google.colaboratory.intrinsic+json": {
              "type": "string"
            },
            "text/plain": [
              "' ,0123456789ADFJMNOSabceghilmnoprstuvy'"
            ]
          },
          "metadata": {
            "tags": []
          },
          "execution_count": 4
        }
      ]
    },
    {
      "cell_type": "code",
      "metadata": {
        "id": "2WKFdE017tLN"
      },
      "source": [
        "# all possible output chars\r\n",
        "output_chars = \"0123456789-\""
      ],
      "execution_count": null,
      "outputs": []
    },
    {
      "cell_type": "code",
      "metadata": {
        "id": "9SDLgjih7z29"
      },
      "source": [
        "# convert stirng to a list of charcter ids\r\n",
        "def date_str_to_ids(date_str, chars=input_chars):\r\n",
        "  return [chars.index(c) for c in date_str]"
      ],
      "execution_count": null,
      "outputs": []
    },
    {
      "cell_type": "code",
      "metadata": {
        "colab": {
          "base_uri": "https://localhost:8080/"
        },
        "id": "8M-TNicH7_EM",
        "outputId": "c6fed801-e43e-422d-94ca-740e35b1bc30"
      },
      "source": [
        "date_str_to_ids(x_example[1], input_chars)"
      ],
      "execution_count": null,
      "outputs": [
        {
          "output_type": "execute_result",
          "data": {
            "text/plain": [
              "[18, 22, 34, 30, 21, 23, 32, 0, 3, 6, 1, 0, 5, 9, 2, 6]"
            ]
          },
          "metadata": {
            "tags": []
          },
          "execution_count": 7
        }
      ]
    },
    {
      "cell_type": "code",
      "metadata": {
        "colab": {
          "base_uri": "https://localhost:8080/"
        },
        "id": "5gtx-JRC8WLF",
        "outputId": "fa1bbc69-eaf0-4219-e0f5-99cb7a3f43ea"
      },
      "source": [
        "date_str_to_ids(y_example[0], output_chars)"
      ],
      "execution_count": null,
      "outputs": [
        {
          "output_type": "execute_result",
          "data": {
            "text/plain": [
              "[4, 9, 0, 0, 10, 0, 9, 10, 0, 5]"
            ]
          },
          "metadata": {
            "tags": []
          },
          "execution_count": 8
        }
      ]
    },
    {
      "cell_type": "code",
      "metadata": {
        "id": "Mr4AAzk58aKN"
      },
      "source": [
        "def prepare_date_strs(date_strs, chars=input_chars):\r\n",
        "  X_ids = [date_str_to_ids(dt, chars) for dt in date_strs]\r\n",
        "  X = tf.ragged.constant(X_ids, ragged_rank=1)\r\n",
        "  return (X + 1).to_tensor()\r\n",
        "\r\n",
        "def create_dataset(n_dates):\r\n",
        "  x, y = random_dates(n_dates)\r\n",
        "  return prepare_date_strs(x, input_chars), prepare_date_strs(y, output_chars)"
      ],
      "execution_count": null,
      "outputs": []
    },
    {
      "cell_type": "code",
      "metadata": {
        "id": "sZYrMDVw9X91"
      },
      "source": [
        "X_train, Y_train = create_dataset(10000)\r\n",
        "X_valid, Y_valid = create_dataset(2000)\r\n",
        "X_test, Y_test = create_dataset(2000)"
      ],
      "execution_count": null,
      "outputs": []
    },
    {
      "cell_type": "code",
      "metadata": {
        "colab": {
          "base_uri": "https://localhost:8080/"
        },
        "id": "jGkb5Mwn9pXd",
        "outputId": "cf0bd16b-5e03-4336-e898-e197b2b533ab"
      },
      "source": [
        "Y_train[0]"
      ],
      "execution_count": null,
      "outputs": [
        {
          "output_type": "execute_result",
          "data": {
            "text/plain": [
              "<tf.Tensor: shape=(10,), dtype=int32, numpy=array([ 8,  8,  2,  1, 11,  1,  7, 11,  1, 10], dtype=int32)>"
            ]
          },
          "metadata": {
            "tags": []
          },
          "execution_count": 11
        }
      ]
    },
    {
      "cell_type": "code",
      "metadata": {
        "colab": {
          "base_uri": "https://localhost:8080/"
        },
        "id": "xWANNIZj91m9",
        "outputId": "f7b93f31-bda2-4494-8af5-20ba8b45d62f"
      },
      "source": [
        "# basic seq2seq model\r\n",
        "embedding_size = 32\r\n",
        "max_output_length = Y_train.shape[1]\r\n",
        "\r\n",
        "encoder = keras.models.Sequential([\r\n",
        "      keras.layers.Embedding(input_dim=len(input_chars) + 1,\r\n",
        "                             output_dim=embedding_size,\r\n",
        "                             input_shape=[None]),\r\n",
        "      keras.layers.LSTM(128)\r\n",
        "])\r\n",
        "\r\n",
        "decoder = keras.models.Sequential([\r\n",
        "      keras.layers.LSTM(128, return_sequences=True),\r\n",
        "      keras.layers.Dense(len(output_chars) + 1, activation=\"softmax\")\r\n",
        "])\r\n",
        "\r\n",
        "model = keras.models.Sequential([\r\n",
        "    encoder,\r\n",
        "    keras.layers.RepeatVector(max_output_length),\r\n",
        "    decoder\r\n",
        "])\r\n",
        "\r\n",
        "optimizer = keras.optimizers.Nadam()\r\n",
        "model.compile(loss=\"sparse_categorical_crossentropy\", optimizer=optimizer,\r\n",
        "              metrics=[\"accuracy\"])\r\n",
        "history = model.fit(X_train, Y_train, epochs=20, validation_data=(X_valid, Y_valid))\r\n"
      ],
      "execution_count": null,
      "outputs": [
        {
          "output_type": "stream",
          "text": [
            "Epoch 1/20\n",
            "313/313 [==============================] - 17s 41ms/step - loss: 2.0603 - accuracy: 0.2713 - val_loss: 1.5695 - val_accuracy: 0.4329\n",
            "Epoch 2/20\n",
            "313/313 [==============================] - 12s 38ms/step - loss: 1.3439 - accuracy: 0.5087 - val_loss: 1.1402 - val_accuracy: 0.5935\n",
            "Epoch 3/20\n",
            "313/313 [==============================] - 12s 38ms/step - loss: 1.0865 - accuracy: 0.6146 - val_loss: 0.9890 - val_accuracy: 0.6368\n",
            "Epoch 4/20\n",
            "313/313 [==============================] - 12s 38ms/step - loss: 0.8848 - accuracy: 0.6713 - val_loss: 0.7097 - val_accuracy: 0.7263\n",
            "Epoch 5/20\n",
            "313/313 [==============================] - 12s 38ms/step - loss: 0.6673 - accuracy: 0.7441 - val_loss: 0.5178 - val_accuracy: 0.7980\n",
            "Epoch 6/20\n",
            "313/313 [==============================] - 12s 38ms/step - loss: 0.4513 - accuracy: 0.8237 - val_loss: 0.3306 - val_accuracy: 0.8760\n",
            "Epoch 7/20\n",
            "313/313 [==============================] - 12s 38ms/step - loss: 0.2844 - accuracy: 0.8981 - val_loss: 0.1952 - val_accuracy: 0.9391\n",
            "Epoch 8/20\n",
            "313/313 [==============================] - 12s 38ms/step - loss: 0.3675 - accuracy: 0.8902 - val_loss: 0.1658 - val_accuracy: 0.9546\n",
            "Epoch 9/20\n",
            "313/313 [==============================] - 12s 39ms/step - loss: 0.1245 - accuracy: 0.9707 - val_loss: 0.0806 - val_accuracy: 0.9836\n",
            "Epoch 10/20\n",
            "313/313 [==============================] - 12s 38ms/step - loss: 0.1328 - accuracy: 0.9681 - val_loss: 0.4842 - val_accuracy: 0.8565\n",
            "Epoch 11/20\n",
            "313/313 [==============================] - 12s 38ms/step - loss: 0.3088 - accuracy: 0.9162 - val_loss: 0.1093 - val_accuracy: 0.9840\n",
            "Epoch 12/20\n",
            "313/313 [==============================] - 12s 38ms/step - loss: 0.0827 - accuracy: 0.9910 - val_loss: 0.0513 - val_accuracy: 0.9945\n",
            "Epoch 13/20\n",
            "313/313 [==============================] - 12s 38ms/step - loss: 0.0405 - accuracy: 0.9972 - val_loss: 0.0295 - val_accuracy: 0.9973\n",
            "Epoch 14/20\n",
            "313/313 [==============================] - 12s 38ms/step - loss: 0.0234 - accuracy: 0.9989 - val_loss: 0.0190 - val_accuracy: 0.9989\n",
            "Epoch 15/20\n",
            "313/313 [==============================] - 12s 38ms/step - loss: 0.0146 - accuracy: 0.9997 - val_loss: 0.0170 - val_accuracy: 0.9988\n",
            "Epoch 16/20\n",
            "313/313 [==============================] - 12s 38ms/step - loss: 0.0099 - accuracy: 0.9999 - val_loss: 0.0092 - val_accuracy: 0.9997\n",
            "Epoch 17/20\n",
            "313/313 [==============================] - 12s 38ms/step - loss: 0.0069 - accuracy: 1.0000 - val_loss: 0.0070 - val_accuracy: 0.9998\n",
            "Epoch 18/20\n",
            "313/313 [==============================] - 12s 38ms/step - loss: 0.0051 - accuracy: 1.0000 - val_loss: 0.0052 - val_accuracy: 0.9998\n",
            "Epoch 19/20\n",
            "313/313 [==============================] - 12s 38ms/step - loss: 0.0039 - accuracy: 1.0000 - val_loss: 0.0041 - val_accuracy: 0.9999\n",
            "Epoch 20/20\n",
            "313/313 [==============================] - 12s 38ms/step - loss: 0.0030 - accuracy: 1.0000 - val_loss: 0.0033 - val_accuracy: 0.9999\n"
          ],
          "name": "stdout"
        }
      ]
    },
    {
      "cell_type": "code",
      "metadata": {
        "id": "DpJJej-xKlOB"
      },
      "source": [
        "# convert output to string\r\n",
        "def ids_to_date_strs(ids, chars=output_chars):\r\n",
        "  return [\"\".join([(\"?\" + chars)[index] for index in sequence]) for sequence in ids]"
      ],
      "execution_count": null,
      "outputs": []
    },
    {
      "cell_type": "code",
      "metadata": {
        "colab": {
          "base_uri": "https://localhost:8080/"
        },
        "id": "VfrP4XqzLTmm",
        "outputId": "3235ce46-f4cb-44e1-a787-5f6625ddc181"
      },
      "source": [
        "X_new = prepare_date_strs([\"September 17, 2009\", \"July 14, 1789\"])\r\n",
        "\r\n",
        "ids = np.argmax(model.predict(X_new), axis=-1)\r\n",
        "for date_str in ids_to_date_strs(ids):\r\n",
        "  print(date_str)"
      ],
      "execution_count": null,
      "outputs": [
        {
          "output_type": "stream",
          "text": [
            "2009-09-17\n",
            "1789-07-14\n"
          ],
          "name": "stdout"
        }
      ]
    },
    {
      "cell_type": "code",
      "metadata": {
        "colab": {
          "base_uri": "https://localhost:8080/"
        },
        "id": "cZcn4CpJL3dt",
        "outputId": "f645af85-99d7-49bc-c0ef-53cb001d79e0"
      },
      "source": [
        "X_new = prepare_date_strs([\"May 02, 2020\", \"July 14, 1789\"])\r\n",
        "\r\n",
        "ids = np.argmax(model.predict(X_new), axis=-1)\r\n",
        "for date_str in ids_to_date_strs(ids):\r\n",
        "  print(date_str)"
      ],
      "execution_count": null,
      "outputs": [
        {
          "output_type": "stream",
          "text": [
            "2020-12-02\n",
            "1789-09-14\n"
          ],
          "name": "stdout"
        }
      ]
    },
    {
      "cell_type": "code",
      "metadata": {
        "colab": {
          "base_uri": "https://localhost:8080/"
        },
        "id": "TzUOCITnL8Od",
        "outputId": "7ac55b3b-3c9e-48ec-e910-d123546fc589"
      },
      "source": [
        "# pad sequence to have same length\r\n",
        "max_input_length = X_train.shape[1]\r\n",
        "max_input_length"
      ],
      "execution_count": null,
      "outputs": [
        {
          "output_type": "execute_result",
          "data": {
            "text/plain": [
              "18"
            ]
          },
          "metadata": {
            "tags": []
          },
          "execution_count": 40
        }
      ]
    },
    {
      "cell_type": "code",
      "metadata": {
        "id": "7MVjhD2yMjp9"
      },
      "source": [
        "def prepare_date_strs_padded(date_strs):\r\n",
        "  X = prepare_date_strs(date_strs)\r\n",
        "  if X.shape[1] < max_input_length:\r\n",
        "    X = tf.pad(X, [[0, 0], [0, max_input_length - X.shape[1]]])\r\n",
        "  return X\r\n",
        "\r\n",
        "def convert_date_strs(date_strs):\r\n",
        "  X = prepare_date_strs_padded(date_strs)\r\n",
        "  ids = np.argmax(model.predict(X), axis=-1)\r\n",
        "  return ids_to_date_strs(ids)"
      ],
      "execution_count": null,
      "outputs": []
    },
    {
      "cell_type": "code",
      "metadata": {
        "colab": {
          "base_uri": "https://localhost:8080/"
        },
        "id": "IVxrKosvNEfO",
        "outputId": "a1e5a701-b7d3-407f-81f8-1f76e6d9bd3d"
      },
      "source": [
        "convert_date_strs([\"May 02, 2020\", \"July 14, 1789\"])\r\n"
      ],
      "execution_count": null,
      "outputs": [
        {
          "output_type": "execute_result",
          "data": {
            "text/plain": [
              "['2020-05-02', '1789-07-14']"
            ]
          },
          "metadata": {
            "tags": []
          },
          "execution_count": 42
        }
      ]
    },
    {
      "cell_type": "markdown",
      "metadata": {
        "id": "UJJsbSkRgCut"
      },
      "source": [
        "#### Second version. Feeding the shifted targets to the decoder"
      ]
    },
    {
      "cell_type": "markdown",
      "metadata": {
        "id": "YmE01NiWgK18"
      },
      "source": [
        "Instead of feeding the decoder a simple repetition of the encoder's output vector, we can feed it the target sequence, shifted by one time step to the right. This way, at each time step the decoder will know what the previous target character was. This should help is tackle more complex sequence-to-sequence problems.\r\n",
        "\r\n",
        "Since the first output character of each target sequence has no previous character, we will need a new token to represent the start-of-sequence (sos).\r\n",
        "\r\n",
        "During inference, we won't know the target, so what will we feed the decoder? We can just predict one character at a time, starting with an sos token, then feeding the decoder all the characters that were predicted so far (we will look at this in more details later in this notebook).\r\n",
        "\r\n",
        "But if the decoder's LSTM expects to get the previous target as input at each step, how shall we pass it it the vector output by the encoder? Well, one option is to ignore the output vector, and instead use the encoder's LSTM state as the initial state of the decoder's LSTM (which requires that encoder's LSTM must have the same number of units as the decoder's LSTM)."
      ]
    },
    {
      "cell_type": "code",
      "metadata": {
        "id": "xiVDW7G9NF8m"
      },
      "source": [
        "# create decoder input by shifting output sequences\r\n",
        "sos_id = len(output_chars) + 1\r\n",
        "\r\n",
        "def shifted_output_sequences(Y):\r\n",
        "  sos_tokens = tf.fill(dims=(len(Y), 1), value=sos_id)\r\n",
        "  return tf.concat([sos_tokens, Y[:, :-1]], axis=1)"
      ],
      "execution_count": null,
      "outputs": []
    },
    {
      "cell_type": "code",
      "metadata": {
        "id": "jE8oT64Tg4Kc"
      },
      "source": [
        "X_train_decoder = shifted_output_sequences(Y_train)\r\n",
        "X_valid_decoder = shifted_output_sequences(Y_valid)\r\n",
        "X_test_decoder = shifted_output_sequences(Y_test)"
      ],
      "execution_count": null,
      "outputs": []
    },
    {
      "cell_type": "code",
      "metadata": {
        "colab": {
          "base_uri": "https://localhost:8080/"
        },
        "id": "XZFxgKOBhPVP",
        "outputId": "0427c80f-4b6b-4cb4-a608-ee6a3016fdbb"
      },
      "source": [
        "X_train_decoder"
      ],
      "execution_count": null,
      "outputs": [
        {
          "output_type": "execute_result",
          "data": {
            "text/plain": [
              "<tf.Tensor: shape=(10000, 10), dtype=int32, numpy=\n",
              "array([[12,  8,  8, ...,  7, 11,  1],\n",
              "       [12,  3, 10, ...,  3, 11,  3],\n",
              "       [12,  5,  1, ...,  1, 11,  3],\n",
              "       ...,\n",
              "       [12,  5,  7, ...,  5, 11,  3],\n",
              "       [12,  9,  5, ...,  8, 11,  1],\n",
              "       [12,  9,  6, ...,  3, 11,  3]], dtype=int32)>"
            ]
          },
          "metadata": {
            "tags": []
          },
          "execution_count": 45
        }
      ]
    },
    {
      "cell_type": "code",
      "metadata": {
        "colab": {
          "base_uri": "https://localhost:8080/"
        },
        "id": "bgWx-cwFhQt3",
        "outputId": "c9579776-2be5-4f8b-e5d1-47807038e4cc"
      },
      "source": [
        "# using functional API\r\n",
        "encoder_embedding_size = 32\r\n",
        "decoder_embedding_size = 32\r\n",
        "lstm_units = 128\r\n",
        "\r\n",
        "encoder_input = keras.layers.Input(shape=[None], dtype=tf.int32)\r\n",
        "encoder_embedding = keras.layers.Embedding(\r\n",
        "    input_dim=len(input_chars) + 1,\r\n",
        "    output_dim=encoder_embedding_size)(encoder_input)\r\n",
        "_, encoder_state_h, encoder_state_c = keras.layers.LSTM(\r\n",
        "    lstm_units, return_state=True)(encoder_embedding)\r\n",
        "encoder_state = [encoder_state_h, encoder_state_c]\r\n",
        "\r\n",
        "decoder_input = keras.layers.Input(shape=[None], dtype=tf.int32)\r\n",
        "decoder_embedding = keras.layers.Embedding(\r\n",
        "    input_dim=len(output_chars) + 2,\r\n",
        "    output_dim=decoder_embedding_size)(decoder_input)\r\n",
        "decoder_lstm_output = keras.layers.LSTM(lstm_units, return_sequences=True)(\r\n",
        "    decoder_embedding, initial_state=encoder_state)\r\n",
        "decoder_output = keras.layers.Dense(len(output_chars) + 1, activation=\"softmax\")(decoder_lstm_output)\r\n",
        "\r\n",
        "model = keras.models.Model(inputs=[encoder_input, decoder_input],\r\n",
        "                           outputs=[decoder_output])\r\n",
        "\r\n",
        "optimizer = keras.optimizers.Nadam()\r\n",
        "model.compile(loss=\"sparse_categorical_crossentropy\", optimizer=optimizer,\r\n",
        "              metrics=[\"accuracy\"])\r\n",
        "history = model.fit([X_train, X_train_decoder], Y_train, epochs=10,\r\n",
        "                    validation_data=([X_valid, X_valid_decoder], Y_valid))"
      ],
      "execution_count": null,
      "outputs": [
        {
          "output_type": "stream",
          "text": [
            "Epoch 1/10\n",
            "313/313 [==============================] - 16s 38ms/step - loss: 1.9379 - accuracy: 0.3063 - val_loss: 1.4309 - val_accuracy: 0.4450\n",
            "Epoch 2/10\n",
            "313/313 [==============================] - 11s 36ms/step - loss: 1.3164 - accuracy: 0.5045 - val_loss: 0.8867 - val_accuracy: 0.6884\n",
            "Epoch 3/10\n",
            "313/313 [==============================] - 11s 36ms/step - loss: 0.7388 - accuracy: 0.7385 - val_loss: 0.2784 - val_accuracy: 0.9373\n",
            "Epoch 4/10\n",
            "313/313 [==============================] - 11s 36ms/step - loss: 0.2282 - accuracy: 0.9488 - val_loss: 0.0984 - val_accuracy: 0.9879\n",
            "Epoch 5/10\n",
            "313/313 [==============================] - 11s 36ms/step - loss: 0.0801 - accuracy: 0.9907 - val_loss: 0.0379 - val_accuracy: 0.9981\n",
            "Epoch 6/10\n",
            "313/313 [==============================] - 11s 36ms/step - loss: 0.0283 - accuracy: 0.9996 - val_loss: 0.0193 - val_accuracy: 0.9998\n",
            "Epoch 7/10\n",
            "313/313 [==============================] - 11s 36ms/step - loss: 0.0155 - accuracy: 1.0000 - val_loss: 0.0119 - val_accuracy: 0.9998\n",
            "Epoch 8/10\n",
            "313/313 [==============================] - 11s 36ms/step - loss: 0.0094 - accuracy: 1.0000 - val_loss: 0.0076 - val_accuracy: 0.9999\n",
            "Epoch 9/10\n",
            "313/313 [==============================] - 11s 36ms/step - loss: 0.0596 - accuracy: 0.9874 - val_loss: 0.0240 - val_accuracy: 0.9989\n",
            "Epoch 10/10\n",
            "313/313 [==============================] - 11s 36ms/step - loss: 0.0154 - accuracy: 0.9997 - val_loss: 0.0078 - val_accuracy: 0.9999\n"
          ],
          "name": "stdout"
        }
      ]
    },
    {
      "cell_type": "code",
      "metadata": {
        "id": "rL_dzNZmiT-P"
      },
      "source": [
        "# use the model to predict\r\n",
        "sos_id = len(output_chars) + 1\r\n",
        "\r\n",
        "def predict_date_strs(date_strs):\r\n",
        "  X = prepare_date_strs_padded(date_strs)\r\n",
        "  Y_pred = tf.fill(dims=(len(X), 1), value=sos_id)\r\n",
        "  for index in range(max_output_length):\r\n",
        "    pad_size = max_output_length - Y_pred.shape[1]\r\n",
        "    X_decoder = tf.pad(Y_pred, [[0,0], [0, pad_size]])\r\n",
        "    Y_probas_next = model.predict([X, X_decoder])[:, index:index+1]\r\n",
        "    Y_pred_next = tf.argmax(Y_probas_next, axis=-1, output_type=tf.int32)\r\n",
        "    Y_pred = tf.concat([Y_pred, Y_pred_next], axis=1)\r\n",
        "  return ids_to_date_strs(Y_pred[:, 1:])"
      ],
      "execution_count": null,
      "outputs": []
    },
    {
      "cell_type": "code",
      "metadata": {
        "colab": {
          "base_uri": "https://localhost:8080/"
        },
        "id": "BAO1hysOk1yL",
        "outputId": "29a7b0a1-e2d3-4481-9e1f-77a03c50001c"
      },
      "source": [
        "predict_date_strs([\"July 14, 1789\", \"May 01, 2020\"])"
      ],
      "execution_count": null,
      "outputs": [
        {
          "output_type": "execute_result",
          "data": {
            "text/plain": [
              "['1789-07-14', '2020-05-01']"
            ]
          },
          "metadata": {
            "tags": []
          },
          "execution_count": 48
        }
      ]
    },
    {
      "cell_type": "code",
      "metadata": {
        "colab": {
          "base_uri": "https://localhost:8080/"
        },
        "id": "lrk5O-qH7v97",
        "outputId": "886179c3-404b-40f7-9dd8-7a0703c054a4"
      },
      "source": [
        "!pip install tensorflow_addons"
      ],
      "execution_count": null,
      "outputs": [
        {
          "output_type": "stream",
          "text": [
            "Requirement already satisfied: tensorflow_addons in /usr/local/lib/python3.7/dist-packages (0.12.1)\n",
            "Requirement already satisfied: typeguard>=2.7 in /usr/local/lib/python3.7/dist-packages (from tensorflow_addons) (2.7.1)\n"
          ],
          "name": "stdout"
        }
      ]
    },
    {
      "cell_type": "code",
      "metadata": {
        "colab": {
          "base_uri": "https://localhost:8080/"
        },
        "id": "n0WWWfI6lJWv",
        "outputId": "86518320-bafb-4f6a-9bdf-75492964cd90"
      },
      "source": [
        "# using TF-Addon's seq2seq implementation\r\n",
        "\r\n",
        "import tensorflow_addons as tfa\r\n",
        "\r\n",
        "encoder_embedding_size = 32\r\n",
        "decoder_embedding_size = 32\r\n",
        "units = 128\r\n",
        "\r\n",
        "encoder_inputs = keras.layers.Input(shape=[None], dtype=np.int32)\r\n",
        "decoder_inputs = keras.layers.Input(shape=[None], dtype=np.int32)\r\n",
        "sequence_lengths = keras.layers.Input(shape=[], dtype=np.int32)\r\n",
        "\r\n",
        "encoder_embeddings = keras.layers.Embedding(\r\n",
        "    len(input_chars) + 1, encoder_embedding_size)(encoder_inputs)\r\n",
        "\r\n",
        "decoder_embedding_layer = keras.layers.Embedding(\r\n",
        "    len(output_chars) + 2, decoder_embedding_size)\r\n",
        "decoder_embeddings = decoder_embedding_layer(decoder_inputs)\r\n",
        "\r\n",
        "encoder = keras.layers.LSTM(units, return_state=True)\r\n",
        "encoder_outputs, state_h, state_c = encoder(encoder_embeddings)\r\n",
        "encoder_state = [state_h, state_c]\r\n",
        "\r\n",
        "sampler = tfa.seq2seq.sampler.TrainingSampler()\r\n",
        "\r\n",
        "decoder_cell = keras.layers.LSTMCell(units)\r\n",
        "output_layer = keras.layers.Dense(len(output_chars) + 1)\r\n",
        "\r\n",
        "decoder = tfa.seq2seq.basic_decoder.BasicDecoder(decoder_cell, sampler, output_layer=output_layer)\r\n",
        "\r\n",
        "final_outputs, final_state, final_sequence_lengths = decoder(\r\n",
        "    decoder_embeddings,\r\n",
        "    initial_state=encoder_state)\r\n",
        "\r\n",
        "Y_proba = keras.layers.Activation(\"softmax\")(final_outputs.rnn_output)\r\n",
        "\r\n",
        "model = keras.models.Model(inputs=[encoder_inputs, decoder_inputs],\r\n",
        "                           outputs=[Y_proba])\r\n",
        "optimizer = keras.optimizers.Nadam()\r\n",
        "model.compile(loss=\"sparse_categorical_crossentropy\", optimizer=optimizer,\r\n",
        "              metrics=[\"accuracy\"])\r\n",
        "history = model.fit([X_train, X_train_decoder], Y_train, epochs=15,\r\n",
        "                    validation_data=([X_valid, X_valid_decoder], Y_valid))\r\n"
      ],
      "execution_count": null,
      "outputs": [
        {
          "output_type": "stream",
          "text": [
            "Epoch 1/15\n",
            "313/313 [==============================] - 16s 38ms/step - loss: 1.9225 - accuracy: 0.3070 - val_loss: 1.4504 - val_accuracy: 0.4166\n",
            "Epoch 2/15\n",
            "313/313 [==============================] - 11s 36ms/step - loss: 1.3565 - accuracy: 0.4769 - val_loss: 1.0304 - val_accuracy: 0.6151\n",
            "Epoch 3/15\n",
            "313/313 [==============================] - 11s 36ms/step - loss: 0.8739 - accuracy: 0.6827 - val_loss: 0.5079 - val_accuracy: 0.8219\n",
            "Epoch 4/15\n",
            "313/313 [==============================] - 11s 36ms/step - loss: 0.3234 - accuracy: 0.9133 - val_loss: 0.1205 - val_accuracy: 0.9876\n",
            "Epoch 5/15\n",
            "313/313 [==============================] - 11s 35ms/step - loss: 0.1035 - accuracy: 0.9888 - val_loss: 0.0540 - val_accuracy: 0.9966\n",
            "Epoch 6/15\n",
            "313/313 [==============================] - 11s 36ms/step - loss: 0.0451 - accuracy: 0.9974 - val_loss: 0.0902 - val_accuracy: 0.9891\n",
            "Epoch 7/15\n",
            "313/313 [==============================] - 11s 36ms/step - loss: 0.0476 - accuracy: 0.9981 - val_loss: 0.0210 - val_accuracy: 0.9998\n",
            "Epoch 8/15\n",
            "313/313 [==============================] - 11s 36ms/step - loss: 0.0171 - accuracy: 1.0000 - val_loss: 0.0126 - val_accuracy: 0.9999\n",
            "Epoch 9/15\n",
            "313/313 [==============================] - 11s 36ms/step - loss: 0.0105 - accuracy: 1.0000 - val_loss: 0.0086 - val_accuracy: 0.9999\n",
            "Epoch 10/15\n",
            "313/313 [==============================] - 11s 35ms/step - loss: 0.0072 - accuracy: 1.0000 - val_loss: 0.0063 - val_accuracy: 0.9999\n",
            "Epoch 11/15\n",
            "313/313 [==============================] - 11s 36ms/step - loss: 0.0052 - accuracy: 1.0000 - val_loss: 0.0046 - val_accuracy: 0.9999\n",
            "Epoch 12/15\n",
            "313/313 [==============================] - 11s 36ms/step - loss: 0.0039 - accuracy: 1.0000 - val_loss: 0.0037 - val_accuracy: 0.9999\n",
            "Epoch 13/15\n",
            "313/313 [==============================] - 11s 36ms/step - loss: 0.0030 - accuracy: 1.0000 - val_loss: 0.0028 - val_accuracy: 0.9999\n",
            "Epoch 14/15\n",
            "313/313 [==============================] - 11s 36ms/step - loss: 0.0023 - accuracy: 1.0000 - val_loss: 0.0023 - val_accuracy: 0.9999\n",
            "Epoch 15/15\n",
            "313/313 [==============================] - 11s 36ms/step - loss: 0.0018 - accuracy: 1.0000 - val_loss: 0.0018 - val_accuracy: 1.0000\n"
          ],
          "name": "stdout"
        }
      ]
    },
    {
      "cell_type": "code",
      "metadata": {
        "colab": {
          "base_uri": "https://localhost:8080/"
        },
        "id": "DTl-0bmv7trw",
        "outputId": "bdaabaac-6856-4f67-fb3b-d413ecbe1431"
      },
      "source": [
        "predict_date_strs([\"July 14, 1789\", \"May 01, 2020\"])"
      ],
      "execution_count": null,
      "outputs": [
        {
          "output_type": "execute_result",
          "data": {
            "text/plain": [
              "['1789-07-14', '2020-05-01']"
            ]
          },
          "metadata": {
            "tags": []
          },
          "execution_count": 51
        }
      ]
    },
    {
      "cell_type": "code",
      "metadata": {
        "id": "vDNydW-h8gRM"
      },
      "source": [
        "# faster prediction using GreedyEmbeddingSampler\r\n",
        "inference_sampler = tfa.seq2seq.sampler.GreedyEmbeddingSampler(\r\n",
        "    embedding_fn=decoder_embedding_layer)\r\n",
        "inference_decoder = tfa.seq2seq.basic_decoder.BasicDecoder(\r\n",
        "    decoder_cell, inference_sampler, output_layer=output_layer,\r\n",
        "    maximum_iterations=max_output_length)\r\n",
        "batch_size = tf.shape(encoder_inputs)[:1]\r\n",
        "start_tokens = tf.fill(dims=batch_size, value=sos_id)\r\n",
        "final_outputs, final_state, final_sequence_lengths = inference_decoder(\r\n",
        "    start_tokens,\r\n",
        "    initial_state=encoder_state,\r\n",
        "    start_tokens = start_tokens,\r\n",
        "    end_token=0\r\n",
        ")\r\n",
        "\r\n",
        "inference_model = keras.models.Model(inputs=[encoder_inputs],\r\n",
        "                                     outputs=[final_outputs.sample_id])"
      ],
      "execution_count": null,
      "outputs": []
    },
    {
      "cell_type": "code",
      "metadata": {
        "id": "4cnqJbq--5TR"
      },
      "source": [
        "def fast_predict_date_strs(date_strs):\r\n",
        "    X = prepare_date_strs_padded(date_strs)\r\n",
        "    Y_pred = inference_model.predict(X)\r\n",
        "    return ids_to_date_strs(Y_pred)"
      ],
      "execution_count": null,
      "outputs": []
    },
    {
      "cell_type": "code",
      "metadata": {
        "colab": {
          "base_uri": "https://localhost:8080/"
        },
        "id": "D3fyV_bx-77E",
        "outputId": "1383676d-e532-4850-b5f4-7aa8f6e62a20"
      },
      "source": [
        "fast_predict_date_strs([\"July 14, 1789\", \"May 01, 2020\"])"
      ],
      "execution_count": null,
      "outputs": [
        {
          "output_type": "execute_result",
          "data": {
            "text/plain": [
              "['1789-07-14', '2020-05-01']"
            ]
          },
          "metadata": {
            "tags": []
          },
          "execution_count": 54
        }
      ]
    },
    {
      "cell_type": "markdown",
      "metadata": {
        "id": "ir-tlC2RJVUG"
      },
      "source": [
        "### Using the most recent langauge model (GPT)"
      ]
    },
    {
      "cell_type": "code",
      "metadata": {
        "colab": {
          "base_uri": "https://localhost:8080/"
        },
        "id": "MDZbPF88KWZM",
        "outputId": "fea8da61-1da4-4ad4-b234-fb54050e7c2c"
      },
      "source": [
        "!pip install transformers"
      ],
      "execution_count": 3,
      "outputs": [
        {
          "output_type": "stream",
          "text": [
            "Collecting transformers\n",
            "\u001b[?25l  Downloading https://files.pythonhosted.org/packages/2c/d8/5144b0712f7f82229a8da5983a8fbb8d30cec5fbd5f8d12ffe1854dcea67/transformers-4.4.1-py3-none-any.whl (2.1MB)\n",
            "\u001b[K     |████████████████████████████████| 2.1MB 5.4MB/s \n",
            "\u001b[?25hCollecting tokenizers<0.11,>=0.10.1\n",
            "\u001b[?25l  Downloading https://files.pythonhosted.org/packages/71/23/2ddc317b2121117bf34dd00f5b0de194158f2a44ee2bf5e47c7166878a97/tokenizers-0.10.1-cp37-cp37m-manylinux2010_x86_64.whl (3.2MB)\n",
            "\u001b[K     |████████████████████████████████| 3.2MB 21.9MB/s \n",
            "\u001b[?25hRequirement already satisfied: filelock in /usr/local/lib/python3.7/dist-packages (from transformers) (3.0.12)\n",
            "Requirement already satisfied: packaging in /usr/local/lib/python3.7/dist-packages (from transformers) (20.9)\n",
            "Collecting sacremoses\n",
            "\u001b[?25l  Downloading https://files.pythonhosted.org/packages/7d/34/09d19aff26edcc8eb2a01bed8e98f13a1537005d31e95233fd48216eed10/sacremoses-0.0.43.tar.gz (883kB)\n",
            "\u001b[K     |████████████████████████████████| 890kB 24.0MB/s \n",
            "\u001b[?25hRequirement already satisfied: tqdm>=4.27 in /usr/local/lib/python3.7/dist-packages (from transformers) (4.41.1)\n",
            "Requirement already satisfied: regex!=2019.12.17 in /usr/local/lib/python3.7/dist-packages (from transformers) (2019.12.20)\n",
            "Requirement already satisfied: importlib-metadata; python_version < \"3.8\" in /usr/local/lib/python3.7/dist-packages (from transformers) (3.7.2)\n",
            "Requirement already satisfied: numpy>=1.17 in /usr/local/lib/python3.7/dist-packages (from transformers) (1.19.5)\n",
            "Requirement already satisfied: requests in /usr/local/lib/python3.7/dist-packages (from transformers) (2.23.0)\n",
            "Requirement already satisfied: pyparsing>=2.0.2 in /usr/local/lib/python3.7/dist-packages (from packaging->transformers) (2.4.7)\n",
            "Requirement already satisfied: six in /usr/local/lib/python3.7/dist-packages (from sacremoses->transformers) (1.15.0)\n",
            "Requirement already satisfied: click in /usr/local/lib/python3.7/dist-packages (from sacremoses->transformers) (7.1.2)\n",
            "Requirement already satisfied: joblib in /usr/local/lib/python3.7/dist-packages (from sacremoses->transformers) (1.0.1)\n",
            "Requirement already satisfied: zipp>=0.5 in /usr/local/lib/python3.7/dist-packages (from importlib-metadata; python_version < \"3.8\"->transformers) (3.4.1)\n",
            "Requirement already satisfied: typing-extensions>=3.6.4; python_version < \"3.8\" in /usr/local/lib/python3.7/dist-packages (from importlib-metadata; python_version < \"3.8\"->transformers) (3.7.4.3)\n",
            "Requirement already satisfied: idna<3,>=2.5 in /usr/local/lib/python3.7/dist-packages (from requests->transformers) (2.10)\n",
            "Requirement already satisfied: certifi>=2017.4.17 in /usr/local/lib/python3.7/dist-packages (from requests->transformers) (2020.12.5)\n",
            "Requirement already satisfied: chardet<4,>=3.0.2 in /usr/local/lib/python3.7/dist-packages (from requests->transformers) (3.0.4)\n",
            "Requirement already satisfied: urllib3!=1.25.0,!=1.25.1,<1.26,>=1.21.1 in /usr/local/lib/python3.7/dist-packages (from requests->transformers) (1.24.3)\n",
            "Building wheels for collected packages: sacremoses\n",
            "  Building wheel for sacremoses (setup.py) ... \u001b[?25l\u001b[?25hdone\n",
            "  Created wheel for sacremoses: filename=sacremoses-0.0.43-cp37-none-any.whl size=893262 sha256=ead2307dc933aaa58b207e9a959872ffbcf03165b6e2a8f312e1dca16d12dbc9\n",
            "  Stored in directory: /root/.cache/pip/wheels/29/3c/fd/7ce5c3f0666dab31a50123635e6fb5e19ceb42ce38d4e58f45\n",
            "Successfully built sacremoses\n",
            "Installing collected packages: tokenizers, sacremoses, transformers\n",
            "Successfully installed sacremoses-0.0.43 tokenizers-0.10.1 transformers-4.4.1\n"
          ],
          "name": "stdout"
        }
      ]
    },
    {
      "cell_type": "code",
      "metadata": {
        "colab": {
          "base_uri": "https://localhost:8080/",
          "height": 203,
          "referenced_widgets": [
            "ec5b54252b214fef8133a66cea58df8d",
            "5815bf40ed684874b14e8c1898b4aefb",
            "dbacf5ac7bfc4f0991d9741bacc6a415",
            "fd743badd1544f07bce1d2d63cb7917d",
            "aadd0d55d7f84f8e88c1364b27b01986",
            "3a9235d190f54b7992cc110f4922e5b6",
            "d3ee4eff033e441f8630e178b04f678c",
            "e2c897f0a03445dc89702bb0162b03a5",
            "05fbaebdc16a4482842954eb6c0af976",
            "1c64f5b1c5884c7fbf6d1d256f3b1f26",
            "100c3303eb944bf48f75acd5c244e9d6",
            "808e25ada01144ada296eda878802236",
            "99434bbb33394e3e9aa731ad633a67dc",
            "61919b30661e49029668e3b1927705c9",
            "686720de0ba04a5ca709fd6d20e25990",
            "106e37794b084583bc34d76928b0ae43"
          ]
        },
        "id": "MRQaouYYJU-d",
        "outputId": "401a8130-e69e-477f-ac2f-bb0cbca27c33"
      },
      "source": [
        "### load pretrained model. using OpenAI's GPT\r\n",
        "from transformers import TFOpenAIGPTLMHeadModel\r\n",
        "\r\n",
        "model = TFOpenAIGPTLMHeadModel.from_pretrained(\"openai-gpt\")"
      ],
      "execution_count": 5,
      "outputs": [
        {
          "output_type": "display_data",
          "data": {
            "application/vnd.jupyter.widget-view+json": {
              "model_id": "ec5b54252b214fef8133a66cea58df8d",
              "version_minor": 0,
              "version_major": 2
            },
            "text/plain": [
              "HBox(children=(FloatProgress(value=0.0, description='Downloading', max=656.0, style=ProgressStyle(description_…"
            ]
          },
          "metadata": {
            "tags": []
          }
        },
        {
          "output_type": "stream",
          "text": [
            "\n"
          ],
          "name": "stdout"
        },
        {
          "output_type": "display_data",
          "data": {
            "application/vnd.jupyter.widget-view+json": {
              "model_id": "05fbaebdc16a4482842954eb6c0af976",
              "version_minor": 0,
              "version_major": 2
            },
            "text/plain": [
              "HBox(children=(FloatProgress(value=0.0, description='Downloading', max=466312920.0, style=ProgressStyle(descri…"
            ]
          },
          "metadata": {
            "tags": []
          }
        },
        {
          "output_type": "stream",
          "text": [
            "\n"
          ],
          "name": "stdout"
        },
        {
          "output_type": "stream",
          "text": [
            "All model checkpoint layers were used when initializing TFOpenAIGPTLMHeadModel.\n",
            "\n",
            "All the layers of TFOpenAIGPTLMHeadModel were initialized from the model checkpoint at openai-gpt.\n",
            "If your task is similar to the task the model of the checkpoint was trained on, you can already use TFOpenAIGPTLMHeadModel for predictions without further training.\n"
          ],
          "name": "stderr"
        }
      ]
    },
    {
      "cell_type": "code",
      "metadata": {
        "id": "6bCgNa4y-9S8",
        "colab": {
          "base_uri": "https://localhost:8080/"
        },
        "outputId": "88375139-d89f-49ed-9c55-171a18a51ed2"
      },
      "source": [
        "!pip install spaCy\r\n",
        "!pip install ftfy"
      ],
      "execution_count": 6,
      "outputs": [
        {
          "output_type": "stream",
          "text": [
            "Requirement already satisfied: spaCy in /usr/local/lib/python3.7/dist-packages (2.2.4)\n",
            "Requirement already satisfied: preshed<3.1.0,>=3.0.2 in /usr/local/lib/python3.7/dist-packages (from spaCy) (3.0.5)\n",
            "Requirement already satisfied: srsly<1.1.0,>=1.0.2 in /usr/local/lib/python3.7/dist-packages (from spaCy) (1.0.5)\n",
            "Requirement already satisfied: catalogue<1.1.0,>=0.0.7 in /usr/local/lib/python3.7/dist-packages (from spaCy) (1.0.0)\n",
            "Requirement already satisfied: murmurhash<1.1.0,>=0.28.0 in /usr/local/lib/python3.7/dist-packages (from spaCy) (1.0.5)\n",
            "Requirement already satisfied: setuptools in /usr/local/lib/python3.7/dist-packages (from spaCy) (54.0.0)\n",
            "Requirement already satisfied: thinc==7.4.0 in /usr/local/lib/python3.7/dist-packages (from spaCy) (7.4.0)\n",
            "Requirement already satisfied: wasabi<1.1.0,>=0.4.0 in /usr/local/lib/python3.7/dist-packages (from spaCy) (0.8.2)\n",
            "Requirement already satisfied: requests<3.0.0,>=2.13.0 in /usr/local/lib/python3.7/dist-packages (from spaCy) (2.23.0)\n",
            "Requirement already satisfied: plac<1.2.0,>=0.9.6 in /usr/local/lib/python3.7/dist-packages (from spaCy) (1.1.3)\n",
            "Requirement already satisfied: cymem<2.1.0,>=2.0.2 in /usr/local/lib/python3.7/dist-packages (from spaCy) (2.0.5)\n",
            "Requirement already satisfied: numpy>=1.15.0 in /usr/local/lib/python3.7/dist-packages (from spaCy) (1.19.5)\n",
            "Requirement already satisfied: tqdm<5.0.0,>=4.38.0 in /usr/local/lib/python3.7/dist-packages (from spaCy) (4.41.1)\n",
            "Requirement already satisfied: blis<0.5.0,>=0.4.0 in /usr/local/lib/python3.7/dist-packages (from spaCy) (0.4.1)\n",
            "Requirement already satisfied: importlib-metadata>=0.20; python_version < \"3.8\" in /usr/local/lib/python3.7/dist-packages (from catalogue<1.1.0,>=0.0.7->spaCy) (3.7.2)\n",
            "Requirement already satisfied: urllib3!=1.25.0,!=1.25.1,<1.26,>=1.21.1 in /usr/local/lib/python3.7/dist-packages (from requests<3.0.0,>=2.13.0->spaCy) (1.24.3)\n",
            "Requirement already satisfied: certifi>=2017.4.17 in /usr/local/lib/python3.7/dist-packages (from requests<3.0.0,>=2.13.0->spaCy) (2020.12.5)\n",
            "Requirement already satisfied: idna<3,>=2.5 in /usr/local/lib/python3.7/dist-packages (from requests<3.0.0,>=2.13.0->spaCy) (2.10)\n",
            "Requirement already satisfied: chardet<4,>=3.0.2 in /usr/local/lib/python3.7/dist-packages (from requests<3.0.0,>=2.13.0->spaCy) (3.0.4)\n",
            "Requirement already satisfied: zipp>=0.5 in /usr/local/lib/python3.7/dist-packages (from importlib-metadata>=0.20; python_version < \"3.8\"->catalogue<1.1.0,>=0.0.7->spaCy) (3.4.1)\n",
            "Requirement already satisfied: typing-extensions>=3.6.4; python_version < \"3.8\" in /usr/local/lib/python3.7/dist-packages (from importlib-metadata>=0.20; python_version < \"3.8\"->catalogue<1.1.0,>=0.0.7->spaCy) (3.7.4.3)\n",
            "Collecting ftfy\n",
            "\u001b[?25l  Downloading https://files.pythonhosted.org/packages/04/06/e5c80e2e0f979628d47345efba51f7ba386fe95963b11c594209085f5a9b/ftfy-5.9.tar.gz (66kB)\n",
            "\u001b[K     |████████████████████████████████| 71kB 3.4MB/s \n",
            "\u001b[?25hRequirement already satisfied: wcwidth in /usr/local/lib/python3.7/dist-packages (from ftfy) (0.2.5)\n",
            "Building wheels for collected packages: ftfy\n",
            "  Building wheel for ftfy (setup.py) ... \u001b[?25l\u001b[?25hdone\n",
            "  Created wheel for ftfy: filename=ftfy-5.9-cp37-none-any.whl size=46451 sha256=489b197e07e1ebd29da4ad6e6c468a7bac36348a93c3b5598b13dea87a9c11cc\n",
            "  Stored in directory: /root/.cache/pip/wheels/5e/2e/f0/b07196e8c929114998f0316894a61c752b63bfa3fdd50d2fc3\n",
            "Successfully built ftfy\n",
            "Installing collected packages: ftfy\n",
            "Successfully installed ftfy-5.9\n"
          ],
          "name": "stdout"
        }
      ]
    },
    {
      "cell_type": "code",
      "metadata": {
        "colab": {
          "base_uri": "https://localhost:8080/",
          "height": 164,
          "referenced_widgets": [
            "a8b22d24a3a24f49bdeb1644122f042a",
            "4b16d9254d6e4bf88ff0776fb5f330ff",
            "515e10f0edf64d08bff5c705a2ea3971",
            "65fb1a84f9874a5c8753579d52241f33",
            "1a850db022914a1e877edd8c438d3cc2",
            "5edbe89905a945cb8ce56ce3daf109de",
            "9b09b38ce4ce423986abd537a691433d",
            "068a4f47532544c083e411503795fb45",
            "ea8052651ec24271a63c44bfb57203ff",
            "a80ff499639c46c49310c61dcc00c9a3",
            "b705ff8b838446439f19ad748076b4ed",
            "c052ae2469a546739373870fd3e57341",
            "9e33e6eff6564e8b81874acb5cef6061",
            "8d65c215956e443982b58fd5c6b189ce",
            "a4cb92c74b284f268f1c40bd598b35f3",
            "d28ee97ce5224f6bbbacda8c994f62f9",
            "9c4fc8eacaa242e1b6bb60d8200521b3",
            "009ff9984bd043b0822b28352ea89eae",
            "9b7de89d2b5d4fe990c212d9029dd630",
            "c3e37542b6984fa5a56375fcdb951271",
            "f59f0cc923604ad4a17001999f959e04",
            "4c5170d1653b451ca3be7cb45590d123",
            "b15e0953eada4d0f83082c46bde99ad4",
            "8088ef470213491a8905504527a956aa"
          ]
        },
        "id": "pohsjy8YMTfU",
        "outputId": "768015bd-00d5-4f15-959a-a22c03e344f1"
      },
      "source": [
        "# specialized tokenizer for GPT\r\n",
        "from transformers import OpenAIGPTTokenizer\r\n",
        "\r\n",
        "tokenizer = OpenAIGPTTokenizer.from_pretrained(\"openai-gpt\")"
      ],
      "execution_count": 7,
      "outputs": [
        {
          "output_type": "display_data",
          "data": {
            "application/vnd.jupyter.widget-view+json": {
              "model_id": "a8b22d24a3a24f49bdeb1644122f042a",
              "version_minor": 0,
              "version_major": 2
            },
            "text/plain": [
              "HBox(children=(FloatProgress(value=0.0, description='Downloading', max=815973.0, style=ProgressStyle(descripti…"
            ]
          },
          "metadata": {
            "tags": []
          }
        },
        {
          "output_type": "stream",
          "text": [
            "\n"
          ],
          "name": "stdout"
        },
        {
          "output_type": "display_data",
          "data": {
            "application/vnd.jupyter.widget-view+json": {
              "model_id": "ea8052651ec24271a63c44bfb57203ff",
              "version_minor": 0,
              "version_major": 2
            },
            "text/plain": [
              "HBox(children=(FloatProgress(value=0.0, description='Downloading', max=458495.0, style=ProgressStyle(descripti…"
            ]
          },
          "metadata": {
            "tags": []
          }
        },
        {
          "output_type": "stream",
          "text": [
            "\n"
          ],
          "name": "stdout"
        },
        {
          "output_type": "display_data",
          "data": {
            "application/vnd.jupyter.widget-view+json": {
              "model_id": "9c4fc8eacaa242e1b6bb60d8200521b3",
              "version_minor": 0,
              "version_major": 2
            },
            "text/plain": [
              "HBox(children=(FloatProgress(value=0.0, description='Downloading', max=1272610.0, style=ProgressStyle(descript…"
            ]
          },
          "metadata": {
            "tags": []
          }
        },
        {
          "output_type": "stream",
          "text": [
            "\n"
          ],
          "name": "stdout"
        }
      ]
    },
    {
      "cell_type": "code",
      "metadata": {
        "colab": {
          "base_uri": "https://localhost:8080/"
        },
        "id": "Lk3pPS6UMiEz",
        "outputId": "5b149161-5a2b-4482-e944-a854c69b8575"
      },
      "source": [
        "# encode the pretrained text with tokenizer\r\n",
        "prompt_text = \"Is this a dagger which I see before me, the handle\"\r\n",
        "encoded_prompt = tokenizer.encode(prompt_text, add_special_tokens=False,\r\n",
        "                                  return_tensors=\"tf\")\r\n",
        "encoded_prompt"
      ],
      "execution_count": 8,
      "outputs": [
        {
          "output_type": "execute_result",
          "data": {
            "text/plain": [
              "<tf.Tensor: shape=(1, 12), dtype=int32, numpy=\n",
              "array([[ 544,  616,  246, 6180,  984,  249,  788,  781,  510,  240,  481,\n",
              "        2861]], dtype=int32)>"
            ]
          },
          "metadata": {
            "tags": []
          },
          "execution_count": 8
        }
      ]
    },
    {
      "cell_type": "code",
      "metadata": {
        "colab": {
          "base_uri": "https://localhost:8080/"
        },
        "id": "P0vIeybJN4U-",
        "outputId": "d136aa88-fac3-42b2-8f1a-ace99b497054"
      },
      "source": [
        "# generate 5 different sentences, each starting with the promopt text, followed by 40 additional tokens\r\n",
        "num_sequences = 5\r\n",
        "length = 40\r\n",
        "\r\n",
        "generated_sequences = model.generate(\r\n",
        "    input_ids=encoded_prompt,\r\n",
        "    do_sample=True,\r\n",
        "    max_length=length + len(encoded_prompt[0]),\r\n",
        "    temperature=0.7,\r\n",
        "    top_k=0,\r\n",
        "    top_p=0.9,\r\n",
        "    repetition_penalty=1.0,\r\n",
        "    num_return_sequences=num_sequences,\r\n",
        ")\r\n",
        "\r\n",
        "generated_sequences"
      ],
      "execution_count": 11,
      "outputs": [
        {
          "output_type": "execute_result",
          "data": {
            "text/plain": [
              "<tf.Tensor: shape=(5, 52), dtype=int32, numpy=\n",
              "array([[  544,   616,   246,  6180,   984,   249,   788,   781,   510,\n",
              "          240,   481,  2861,   498,   984,   249,  1578,   500,   547,\n",
              "          828,   240,   249,   699,   507,   544,   595,   239,   507,\n",
              "          544,   246,  6180,   240,   481,  1164,  6180,   249,   604,\n",
              "         1295,   781,   240,   488,  1340,   249,   699,   507,   595,\n",
              "          239,   249,   699,   525,   507,   544,   595],\n",
              "       [  544,   616,   246,  6180,   984,   249,   788,   781,   510,\n",
              "          240,   481,  2861,   544,  2203,   240,   488,   481, 10607,\n",
              "          544,  1374,   239, 40477,   249,   890,   609,   240,   488,\n",
              "          655,  4276,   246,   762,   240,   568,   487,   544,   595,\n",
              "          246,   762,   240,   562,   487,   544,  2482,   500,   246,\n",
              "         1301,  5625,   240,   246,  2910,  1205,   609],\n",
              "       [  544,   616,   246,  6180,   984,   249,   788,   781,   510,\n",
              "          240,   481,  2861,   498,   984,   544,   246,  6832,  2608,\n",
              "          240,   488,   500,   481,  2233,   544,   481,  3623,   498,\n",
              "          246,  2608,   984,   544,   885,   498,   481,  1164,  2817,\n",
              "          239,   244, 40477,   244,   685,   240,   244,   603, 22252,\n",
              "          240,   244,   507,   544,   246,  2608,   984],\n",
              "       [  544,   616,   246,  6180,   984,   249,   788,   781,   510,\n",
              "          240,   481,  2861,   498,   984,   544,   500,  1618,   246,\n",
              "         6180,   488,   984,   240,   669,   249,   890,   240,   544,\n",
              "          500,  1618,   246,  2608,   239, 40477,   244,   256,   793,\n",
              "          544,   547,  2608,   240,   256,   244,   249,   937,   240,\n",
              "         1081,   491,   481,  2608,   239,   244,   507],\n",
              "       [  544,   616,   246,  6180,   984,   249,   788,   781,   510,\n",
              "          240,   481,  2861,   544,  2801,   240,   488,   481,  3623,\n",
              "          544,   620,  2801,   525,   249,   825,   507,   635,  1715,\n",
              "          510,   240,   645,   507,   641,   485,  1892,   510,   239,\n",
              "          244, 40477,   244,   249,   604,   664,  1499,   599,   512,\n",
              "          761,  1592,   670,   239,   244, 40477,   244]], dtype=int32)>"
            ]
          },
          "metadata": {
            "tags": []
          },
          "execution_count": 11
        }
      ]
    },
    {
      "cell_type": "code",
      "metadata": {
        "colab": {
          "base_uri": "https://localhost:8080/"
        },
        "id": "5WTqQsnDOXdf",
        "outputId": "bd0c4f37-2d6c-44ec-d6b2-9fa442fc67c9"
      },
      "source": [
        "# decode and print\r\n",
        "for sequence in generated_sequences:\r\n",
        "  text = tokenizer.decode(sequence, clean_up_tokenization_spaces=True)\r\n",
        "  print(text)\r\n",
        "  print(\"-\" * 80)"
      ],
      "execution_count": 12,
      "outputs": [
        {
          "output_type": "stream",
          "text": [
            "is this a dagger which i see before me, the handle of which i hold in my hand, i know it is not. it is a dagger, the same dagger i have seen before, and yet i know it not. i know that it is not\n",
            "--------------------------------------------------------------------------------\n",
            "is this a dagger which i see before me, the handle is empty, and the hilt is gone. \n",
            " i look up, and there stands a man, but he is not a man, for he is dressed in a black robe, a hood pulled up\n",
            "--------------------------------------------------------------------------------\n",
            "is this a dagger which i see before me, the handle of which is a curved sword, and in the middle is the blade of a sword which is made of the same metal. \" \n",
            " \" yes, \" said gandalf, \" it is a sword which\n",
            "--------------------------------------------------------------------------------\n",
            "is this a dagger which i see before me, the handle of which is in fact a dagger and which, when i look, is in fact a sword. \n",
            " \"'here is my sword,'\" i say, looking at the sword. \" it\n",
            "--------------------------------------------------------------------------------\n",
            "is this a dagger which i see before me, the handle is sharp, and the blade is so sharp that i think it could kill me, if it were to cut me. \" \n",
            " \" i have no idea what you're talking about. \" \n",
            " \"\n",
            "--------------------------------------------------------------------------------\n"
          ],
          "name": "stdout"
        }
      ]
    },
    {
      "cell_type": "code",
      "metadata": {
        "id": "K_Yj6mL0Oqtk"
      },
      "source": [
        ""
      ],
      "execution_count": null,
      "outputs": []
    }
  ]
}